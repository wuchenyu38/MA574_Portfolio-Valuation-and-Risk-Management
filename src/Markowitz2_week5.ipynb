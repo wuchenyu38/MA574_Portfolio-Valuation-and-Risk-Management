{
  "nbformat": 4,
  "nbformat_minor": 0,
  "metadata": {
    "colab": {
      "name": "Markowitz2_week5.ipynb",
      "provenance": [],
      "collapsed_sections": [],
      "include_colab_link": true
    },
    "kernelspec": {
      "name": "python3",
      "display_name": "Python 3"
    }
  },
  "cells": [
    {
      "cell_type": "markdown",
      "metadata": {
        "id": "view-in-github",
        "colab_type": "text"
      },
      "source": [
        "<a href=\"https://colab.research.google.com/github/wqiu96/MA574_Portfolio-Valuation-and-Risk-Management/blob/master/src/Markowitz2_week5.ipynb\" target=\"_parent\"><img src=\"https://colab.research.google.com/assets/colab-badge.svg\" alt=\"Open In Colab\"/></a>"
      ]
    },
    {
      "cell_type": "code",
      "metadata": {
        "id": "XtjEK3QhNsYc",
        "colab_type": "code",
        "colab": {}
      },
      "source": [
        "import numpy as np\n",
        "import pandas as pd\n",
        "import matplotlib.pyplot as plt\n",
        "from numpy.linalg import *\n",
        "import os\n",
        "import re"
      ],
      "execution_count": 0,
      "outputs": []
    },
    {
      "cell_type": "code",
      "metadata": {
        "id": "PzGPxFXFWm4s",
        "colab_type": "code",
        "outputId": "7f8ea8f0-adbc-4122-bca9-af3912fb8b95",
        "colab": {
          "base_uri": "https://localhost:8080/",
          "height": 134
        }
      },
      "source": [
        "!git clone https://github.com/wqiu96/MA574_Portfolio-Valuation-and-Risk-Management.git"
      ],
      "execution_count": 2,
      "outputs": [
        {
          "output_type": "stream",
          "text": [
            "Cloning into 'MA574_Portfolio-Valuation-and-Risk-Management'...\n",
            "remote: Enumerating objects: 8, done.\u001b[K\n",
            "remote: Counting objects: 100% (8/8), done.\u001b[K\n",
            "remote: Compressing objects: 100% (8/8), done.\u001b[K\n",
            "remote: Total 945 (delta 2), reused 0 (delta 0), pack-reused 937\n",
            "Receiving objects: 100% (945/945), 3.79 MiB | 5.44 MiB/s, done.\n",
            "Resolving deltas: 100% (440/440), done.\n"
          ],
          "name": "stdout"
        }
      ]
    },
    {
      "cell_type": "code",
      "metadata": {
        "id": "ZrnuPYx0XuQm",
        "colab_type": "code",
        "outputId": "39231d60-0c57-4ff1-e127-239727b830ee",
        "colab": {
          "base_uri": "https://localhost:8080/",
          "height": 33
        }
      },
      "source": [
        "cd MA574_Portfolio-Valuation-and-Risk-Management/src/project3/week1/"
      ],
      "execution_count": 3,
      "outputs": [
        {
          "output_type": "stream",
          "text": [
            "/content/MA574_Portfolio-Valuation-and-Risk-Management/src/project3/week1\n"
          ],
          "name": "stdout"
        }
      ]
    },
    {
      "cell_type": "code",
      "metadata": {
        "id": "KEbSuzZOXx-7",
        "colab_type": "code",
        "colab": {}
      },
      "source": [
        "#Load data\n",
        "os.chdir('/content/MA574_Portfolio-Valuation-and-Risk-Management/src/project3/week1/')\n",
        "file_chdir = os.getcwd()\n",
        "filecsv_list = []\n",
        "for root,dirs,files in os.walk(file_chdir):\n",
        "  for file in files:\n",
        "    if os.path.splitext(file)[1] == '.csv' and os.path.splitext(file)[0] != 'VXX':\n",
        "      filecsv_list.append(file)\n",
        "R = pd.DataFrame()\n",
        "for csv in filecsv_list:\n",
        "  name = re.sub(u\"\\\\(.*?\\\\)\", \"\", csv)\n",
        "  data = pd.read_csv(csv)\n",
        "  #calculate return\n",
        "  R[name.strip('.csv')] = np.array([np.log(data['Adj Close'][j]/data['Adj Close'][j-1]) for j in range(1,len(data['Adj Close']))])\n",
        " "
      ],
      "execution_count": 0,
      "outputs": []
    },
    {
      "cell_type": "code",
      "metadata": {
        "id": "H7Yh4z3B8Diu",
        "colab_type": "code",
        "colab": {}
      },
      "source": [
        "filecsv_list"
      ],
      "execution_count": 0,
      "outputs": []
    },
    {
      "cell_type": "code",
      "metadata": {
        "id": "oMA7bXF75eBY",
        "colab_type": "code",
        "colab": {}
      },
      "source": [
        "def ghm(R_expect,R_cov):\n",
        "  one = np.ones((len(R_expect),1))\n",
        "  A = np.dot(np.dot(one.reshape(1,-1),inv(R_cov)),R_expect)\n",
        "  B = np.dot(np.dot(R_expect.reshape(1,-1),inv(R_cov)),R_expect)\n",
        "  C = np.dot(np.dot(one.reshape(1,-1),inv(R_cov)),one)\n",
        "  D = B*C - A**2\n",
        "  g = (B * np.dot(inv(R_cov), one) - A* np.dot(inv(R_cov), R_expect))/D\n",
        "  h = (C * np.dot(inv(R_cov), R_expect) - A* np.dot(inv(R_cov), one))/D\n",
        "  min_sigma = np.dot(np.dot(g.reshape(1,-1),R_cov),g) - (np.dot(np.dot(h.reshape(1,-1),R_cov),g)**2)/np.dot(np.dot(h.reshape(1,-1),R_cov),h)\n",
        "  return g,h,min_sigma"
      ],
      "execution_count": 0,
      "outputs": []
    },
    {
      "cell_type": "code",
      "metadata": {
        "id": "vO3typylTR3q",
        "colab_type": "code",
        "colab": {}
      },
      "source": [
        "def effcientfrontier(g,h,R_cov,N1,N2):\n",
        "  sigma = []\n",
        "  mu = []\n",
        "  weight = []\n",
        "  before_ = np.inf\n",
        "  for i in range(N1,N2):\n",
        "      w = g + h*0.00000001*i\n",
        "      sigma_ = 250*np.dot(np.dot(w.reshape(1,-1),R_cov),w)[0][0]\n",
        "      if sigma_ > before_:\n",
        "        sigma.append(np.sqrt((np.exp(sigma_)-1)*np.exp(2*0.00000001*i*250 + sigma_))*100)\n",
        "        weight.append(w)\n",
        "        mu.append((np.exp(0.00000001*i*250 + sigma_/2)-1)*100)\n",
        "      before_ = sigma_\n",
        "  return sigma,mu,weight"
      ],
      "execution_count": 0,
      "outputs": []
    },
    {
      "cell_type": "code",
      "metadata": {
        "id": "EtOv7RHn6Wpr",
        "colab_type": "code",
        "outputId": "91c2abc6-6125-463a-bb75-54a4900fbc29",
        "colab": {
          "base_uri": "https://localhost:8080/",
          "height": 295
        }
      },
      "source": [
        "#1 years effcientFronter\n",
        "R_cov =  np.array(R.cov())\n",
        "R_expect = np.array(R.mean()).reshape(-1,1)\n",
        "g1,h1,min_sigma1 = ghm(R_expect,R_cov)\n",
        "sigma1,mu1,weight1 = effcientfrontier(g1,h1,R_cov,2000,200000)\n",
        "plt.plot(sigma1,mu1)\n",
        "plt.ylabel(\"Expected return\")\n",
        "plt.xlabel(\"volatility\")\n",
        "plt.title(\"1 years EffcientFrontier\")\n",
        "plt.show()"
      ],
      "execution_count": 10,
      "outputs": [
        {
          "output_type": "display_data",
          "data": {
            "image/png": "[encoded data removed]",
            "text/plain": [
              "<Figure size 432x288 with 1 Axes>"
            ]
          },
          "metadata": {
            "tags": []
          }
        }
      ]
    },
    {
      "cell_type": "code",
      "metadata": {
        "id": "lBDtVHVSCO0V",
        "colab_type": "code",
        "outputId": "2874d2c2-bb92-40e1-b4fd-78ad23821428",
        "colab": {
          "base_uri": "https://localhost:8080/",
          "height": 351
        }
      },
      "source": [
        "weight1[0] # weight for minimum sigma(1 years)"
      ],
      "execution_count": 11,
      "outputs": [
        {
          "output_type": "execute_result",
          "data": {
            "text/plain": [
              "array([[ 2.82128601e-02],\n",
              "       [ 1.24171925e-01],\n",
              "       [ 1.48363652e-02],\n",
              "       [ 3.18832710e-02],\n",
              "       [ 2.17293294e-02],\n",
              "       [ 1.58491961e-02],\n",
              "       [ 9.24170840e-02],\n",
              "       [ 4.33380257e-02],\n",
              "       [ 3.82113248e-02],\n",
              "       [-2.38407065e-04],\n",
              "       [ 3.01793642e-01],\n",
              "       [-5.02563395e-03],\n",
              "       [ 1.27078784e-01],\n",
              "       [-1.81982962e-02],\n",
              "       [ 4.50667741e-02],\n",
              "       [ 1.44020071e-02],\n",
              "       [ 1.77138982e-01],\n",
              "       [-3.18246079e-02],\n",
              "       [-5.19196700e-02],\n",
              "       [ 3.10770446e-02]])"
            ]
          },
          "metadata": {
            "tags": []
          },
          "execution_count": 11
        }
      ]
    },
    {
      "cell_type": "code",
      "metadata": {
        "id": "9Od4e2oDClES",
        "colab_type": "code",
        "colab": {}
      },
      "source": [
        "R_copy = R.copy()\n",
        "vxx = pd.read_csv('VXX.csv')\n",
        "R_copy['VXX'] = np.array([((vxx['Adj Close'][j]/vxx['Adj Close'][j-1])-1) for j in range(1,len(vxx['Adj Close']))])"
      ],
      "execution_count": 0,
      "outputs": []
    },
    {
      "cell_type": "code",
      "metadata": {
        "id": "7wc4bp7dxndV",
        "colab_type": "code",
        "outputId": "2f295eea-9fc1-473d-e452-f29d5589686b",
        "colab": {
          "base_uri": "https://localhost:8080/",
          "height": 673
        }
      },
      "source": [
        "R_mean = pd.DataFrame()\n",
        "R_mean[\"1 year\"] = R_copy.mean()\n",
        "R_mean"
      ],
      "execution_count": 13,
      "outputs": [
        {
          "output_type": "execute_result",
          "data": {
            "text/html": [
              "<div>\n",
              "<style scoped>\n",
              "    .dataframe tbody tr th:only-of-type {\n",
              "        vertical-align: middle;\n",
              "    }\n",
              "\n",
              "    .dataframe tbody tr th {\n",
              "        vertical-align: top;\n",
              "    }\n",
              "\n",
              "    .dataframe thead th {\n",
              "        text-align: right;\n",
              "    }\n",
              "</style>\n",
              "<table border=\"1\" class=\"dataframe\">\n",
              "  <thead>\n",
              "    <tr style=\"text-align: right;\">\n",
              "      <th></th>\n",
              "      <th>1 year</th>\n",
              "    </tr>\n",
              "  </thead>\n",
              "  <tbody>\n",
              "    <tr>\n",
              "      <th>BAC</th>\n",
              "      <td>0.000899</td>\n",
              "    </tr>\n",
              "    <tr>\n",
              "      <th>KO</th>\n",
              "      <td>0.000484</td>\n",
              "    </tr>\n",
              "    <tr>\n",
              "      <th>FB</th>\n",
              "      <td>0.000488</td>\n",
              "    </tr>\n",
              "    <tr>\n",
              "      <th>PG</th>\n",
              "      <td>0.000524</td>\n",
              "    </tr>\n",
              "    <tr>\n",
              "      <th>LULU</th>\n",
              "      <td>0.001725</td>\n",
              "    </tr>\n",
              "    <tr>\n",
              "      <th>TEL</th>\n",
              "      <td>0.000634</td>\n",
              "    </tr>\n",
              "    <tr>\n",
              "      <th>JPM</th>\n",
              "      <td>0.000873</td>\n",
              "    </tr>\n",
              "    <tr>\n",
              "      <th>DIS</th>\n",
              "      <td>0.000539</td>\n",
              "    </tr>\n",
              "    <tr>\n",
              "      <th>VZ</th>\n",
              "      <td>0.000437</td>\n",
              "    </tr>\n",
              "    <tr>\n",
              "      <th>SKX</th>\n",
              "      <td>0.000656</td>\n",
              "    </tr>\n",
              "    <tr>\n",
              "      <th>AEP</th>\n",
              "      <td>0.000663</td>\n",
              "    </tr>\n",
              "    <tr>\n",
              "      <th>AAPL</th>\n",
              "      <td>0.000990</td>\n",
              "    </tr>\n",
              "    <tr>\n",
              "      <th>MCD</th>\n",
              "      <td>0.000932</td>\n",
              "    </tr>\n",
              "    <tr>\n",
              "      <th>AMD</th>\n",
              "      <td>0.002022</td>\n",
              "    </tr>\n",
              "    <tr>\n",
              "      <th>MAR</th>\n",
              "      <td>0.000819</td>\n",
              "    </tr>\n",
              "    <tr>\n",
              "      <th>BABA</th>\n",
              "      <td>0.000653</td>\n",
              "    </tr>\n",
              "    <tr>\n",
              "      <th>TM</th>\n",
              "      <td>0.000304</td>\n",
              "    </tr>\n",
              "    <tr>\n",
              "      <th>GOOG</th>\n",
              "      <td>0.000594</td>\n",
              "    </tr>\n",
              "    <tr>\n",
              "      <th>BRK-B</th>\n",
              "      <td>0.000489</td>\n",
              "    </tr>\n",
              "    <tr>\n",
              "      <th>WMT</th>\n",
              "      <td>0.000821</td>\n",
              "    </tr>\n",
              "    <tr>\n",
              "      <th>VXX</th>\n",
              "      <td>-0.001665</td>\n",
              "    </tr>\n",
              "  </tbody>\n",
              "</table>\n",
              "</div>"
            ],
            "text/plain": [
              "         1 year\n",
              "BAC    0.000899\n",
              "KO     0.000484\n",
              "FB     0.000488\n",
              "PG     0.000524\n",
              "LULU   0.001725\n",
              "TEL    0.000634\n",
              "JPM    0.000873\n",
              "DIS    0.000539\n",
              "VZ     0.000437\n",
              "SKX    0.000656\n",
              "AEP    0.000663\n",
              "AAPL   0.000990\n",
              "MCD    0.000932\n",
              "AMD    0.002022\n",
              "MAR    0.000819\n",
              "BABA   0.000653\n",
              "TM     0.000304\n",
              "GOOG   0.000594\n",
              "BRK-B  0.000489\n",
              "WMT    0.000821\n",
              "VXX   -0.001665"
            ]
          },
          "metadata": {
            "tags": []
          },
          "execution_count": 13
        }
      ]
    },
    {
      "cell_type": "code",
      "metadata": {
        "id": "NZSvKLjKyvEc",
        "colab_type": "code",
        "outputId": "81f08bcb-13e3-4910-9fad-c9e41e73cbb7",
        "colab": {
          "base_uri": "https://localhost:8080/",
          "height": 673
        }
      },
      "source": [
        "R_var = pd.DataFrame()\n",
        "R_var[\"1 year\"] = R_copy.var()\n",
        "R_var"
      ],
      "execution_count": 14,
      "outputs": [
        {
          "output_type": "execute_result",
          "data": {
            "text/html": [
              "<div>\n",
              "<style scoped>\n",
              "    .dataframe tbody tr th:only-of-type {\n",
              "        vertical-align: middle;\n",
              "    }\n",
              "\n",
              "    .dataframe tbody tr th {\n",
              "        vertical-align: top;\n",
              "    }\n",
              "\n",
              "    .dataframe thead th {\n",
              "        text-align: right;\n",
              "    }\n",
              "</style>\n",
              "<table border=\"1\" class=\"dataframe\">\n",
              "  <thead>\n",
              "    <tr style=\"text-align: right;\">\n",
              "      <th></th>\n",
              "      <th>1 year</th>\n",
              "    </tr>\n",
              "  </thead>\n",
              "  <tbody>\n",
              "    <tr>\n",
              "      <th>BAC</th>\n",
              "      <td>0.000230</td>\n",
              "    </tr>\n",
              "    <tr>\n",
              "      <th>KO</th>\n",
              "      <td>0.000081</td>\n",
              "    </tr>\n",
              "    <tr>\n",
              "      <th>FB</th>\n",
              "      <td>0.000350</td>\n",
              "    </tr>\n",
              "    <tr>\n",
              "      <th>PG</th>\n",
              "      <td>0.000101</td>\n",
              "    </tr>\n",
              "    <tr>\n",
              "      <th>LULU</th>\n",
              "      <td>0.000558</td>\n",
              "    </tr>\n",
              "    <tr>\n",
              "      <th>TEL</th>\n",
              "      <td>0.000167</td>\n",
              "    </tr>\n",
              "    <tr>\n",
              "      <th>JPM</th>\n",
              "      <td>0.000153</td>\n",
              "    </tr>\n",
              "    <tr>\n",
              "      <th>DIS</th>\n",
              "      <td>0.000145</td>\n",
              "    </tr>\n",
              "    <tr>\n",
              "      <th>VZ</th>\n",
              "      <td>0.000132</td>\n",
              "    </tr>\n",
              "    <tr>\n",
              "      <th>SKX</th>\n",
              "      <td>0.000963</td>\n",
              "    </tr>\n",
              "    <tr>\n",
              "      <th>AEP</th>\n",
              "      <td>0.000087</td>\n",
              "    </tr>\n",
              "    <tr>\n",
              "      <th>AAPL</th>\n",
              "      <td>0.000241</td>\n",
              "    </tr>\n",
              "    <tr>\n",
              "      <th>MCD</th>\n",
              "      <td>0.000105</td>\n",
              "    </tr>\n",
              "    <tr>\n",
              "      <th>AMD</th>\n",
              "      <td>0.001441</td>\n",
              "    </tr>\n",
              "    <tr>\n",
              "      <th>MAR</th>\n",
              "      <td>0.000199</td>\n",
              "    </tr>\n",
              "    <tr>\n",
              "      <th>BABA</th>\n",
              "      <td>0.000386</td>\n",
              "    </tr>\n",
              "    <tr>\n",
              "      <th>TM</th>\n",
              "      <td>0.000099</td>\n",
              "    </tr>\n",
              "    <tr>\n",
              "      <th>GOOG</th>\n",
              "      <td>0.000218</td>\n",
              "    </tr>\n",
              "    <tr>\n",
              "      <th>BRK-B</th>\n",
              "      <td>0.000116</td>\n",
              "    </tr>\n",
              "    <tr>\n",
              "      <th>WMT</th>\n",
              "      <td>0.000149</td>\n",
              "    </tr>\n",
              "    <tr>\n",
              "      <th>VXX</th>\n",
              "      <td>0.001613</td>\n",
              "    </tr>\n",
              "  </tbody>\n",
              "</table>\n",
              "</div>"
            ],
            "text/plain": [
              "         1 year\n",
              "BAC    0.000230\n",
              "KO     0.000081\n",
              "FB     0.000350\n",
              "PG     0.000101\n",
              "LULU   0.000558\n",
              "TEL    0.000167\n",
              "JPM    0.000153\n",
              "DIS    0.000145\n",
              "VZ     0.000132\n",
              "SKX    0.000963\n",
              "AEP    0.000087\n",
              "AAPL   0.000241\n",
              "MCD    0.000105\n",
              "AMD    0.001441\n",
              "MAR    0.000199\n",
              "BABA   0.000386\n",
              "TM     0.000099\n",
              "GOOG   0.000218\n",
              "BRK-B  0.000116\n",
              "WMT    0.000149\n",
              "VXX    0.001613"
            ]
          },
          "metadata": {
            "tags": []
          },
          "execution_count": 14
        }
      ]
    },
    {
      "cell_type": "code",
      "metadata": {
        "id": "RYLhQzN00NKi",
        "colab_type": "code",
        "outputId": "44b38214-9265-4be7-8a15-1ab119413472",
        "colab": {
          "base_uri": "https://localhost:8080/",
          "height": 673
        }
      },
      "source": [
        "R_sharpo = pd.DataFrame()\n",
        "rf = 0.0158\n",
        "rf_daily = (1 + rf)**(1/250) - 1\n",
        "R_sharpo[\"1 year\"] = (R_mean[\"1 year\"] - rf_daily )/R_var[\"1 year\"]\n",
        "R_sharpo "
      ],
      "execution_count": 16,
      "outputs": [
        {
          "output_type": "execute_result",
          "data": {
            "text/html": [
              "<div>\n",
              "<style scoped>\n",
              "    .dataframe tbody tr th:only-of-type {\n",
              "        vertical-align: middle;\n",
              "    }\n",
              "\n",
              "    .dataframe tbody tr th {\n",
              "        vertical-align: top;\n",
              "    }\n",
              "\n",
              "    .dataframe thead th {\n",
              "        text-align: right;\n",
              "    }\n",
              "</style>\n",
              "<table border=\"1\" class=\"dataframe\">\n",
              "  <thead>\n",
              "    <tr style=\"text-align: right;\">\n",
              "      <th></th>\n",
              "      <th>1 year</th>\n",
              "    </tr>\n",
              "  </thead>\n",
              "  <tbody>\n",
              "    <tr>\n",
              "      <th>BAC</th>\n",
              "      <td>3.633832</td>\n",
              "    </tr>\n",
              "    <tr>\n",
              "      <th>KO</th>\n",
              "      <td>5.175950</td>\n",
              "    </tr>\n",
              "    <tr>\n",
              "      <th>FB</th>\n",
              "      <td>1.216614</td>\n",
              "    </tr>\n",
              "    <tr>\n",
              "      <th>PG</th>\n",
              "      <td>4.567247</td>\n",
              "    </tr>\n",
              "    <tr>\n",
              "      <th>LULU</th>\n",
              "      <td>2.979618</td>\n",
              "    </tr>\n",
              "    <tr>\n",
              "      <th>TEL</th>\n",
              "      <td>3.413532</td>\n",
              "    </tr>\n",
              "    <tr>\n",
              "      <th>JPM</th>\n",
              "      <td>5.284104</td>\n",
              "    </tr>\n",
              "    <tr>\n",
              "      <th>DIS</th>\n",
              "      <td>3.271665</td>\n",
              "    </tr>\n",
              "    <tr>\n",
              "      <th>VZ</th>\n",
              "      <td>2.837340</td>\n",
              "    </tr>\n",
              "    <tr>\n",
              "      <th>SKX</th>\n",
              "      <td>0.615492</td>\n",
              "    </tr>\n",
              "    <tr>\n",
              "      <th>AEP</th>\n",
              "      <td>6.901235</td>\n",
              "    </tr>\n",
              "    <tr>\n",
              "      <th>AAPL</th>\n",
              "      <td>3.840414</td>\n",
              "    </tr>\n",
              "    <tr>\n",
              "      <th>MCD</th>\n",
              "      <td>8.304176</td>\n",
              "    </tr>\n",
              "    <tr>\n",
              "      <th>AMD</th>\n",
              "      <td>1.359909</td>\n",
              "    </tr>\n",
              "    <tr>\n",
              "      <th>MAR</th>\n",
              "      <td>3.808172</td>\n",
              "    </tr>\n",
              "    <tr>\n",
              "      <th>BABA</th>\n",
              "      <td>1.526212</td>\n",
              "    </tr>\n",
              "    <tr>\n",
              "      <th>TM</th>\n",
              "      <td>2.446167</td>\n",
              "    </tr>\n",
              "    <tr>\n",
              "      <th>GOOG</th>\n",
              "      <td>2.441910</td>\n",
              "    </tr>\n",
              "    <tr>\n",
              "      <th>BRK-B</th>\n",
              "      <td>3.674764</td>\n",
              "    </tr>\n",
              "    <tr>\n",
              "      <th>WMT</th>\n",
              "      <td>5.082661</td>\n",
              "    </tr>\n",
              "    <tr>\n",
              "      <th>VXX</th>\n",
              "      <td>-1.070813</td>\n",
              "    </tr>\n",
              "  </tbody>\n",
              "</table>\n",
              "</div>"
            ],
            "text/plain": [
              "         1 year\n",
              "BAC    3.633832\n",
              "KO     5.175950\n",
              "FB     1.216614\n",
              "PG     4.567247\n",
              "LULU   2.979618\n",
              "TEL    3.413532\n",
              "JPM    5.284104\n",
              "DIS    3.271665\n",
              "VZ     2.837340\n",
              "SKX    0.615492\n",
              "AEP    6.901235\n",
              "AAPL   3.840414\n",
              "MCD    8.304176\n",
              "AMD    1.359909\n",
              "MAR    3.808172\n",
              "BABA   1.526212\n",
              "TM     2.446167\n",
              "GOOG   2.441910\n",
              "BRK-B  3.674764\n",
              "WMT    5.082661\n",
              "VXX   -1.070813"
            ]
          },
          "metadata": {
            "tags": []
          },
          "execution_count": 16
        }
      ]
    },
    {
      "cell_type": "code",
      "metadata": {
        "id": "twFh1236SXgQ",
        "colab_type": "code",
        "outputId": "6faae8c4-6089-4143-c046-84942e35838f",
        "colab": {
          "base_uri": "https://localhost:8080/",
          "height": 295
        }
      },
      "source": [
        "#1 years effcientFronter with VXX\n",
        "R_cov4 =  np.array(R_copy.cov())\n",
        "R_expect4 = np.array(R_copy.mean()).reshape(-1,1)\n",
        "g4,h4,min_sigma4 = ghm(R_expect4,R_cov4)\n",
        "sigma_v,mu_v,weight_v = effcientfrontier(g4,h4,R_cov4,2000,200000)\n",
        "plt.plot(sigma_v,mu_v)\n",
        "plt.ylabel(\"Expected return\")\n",
        "plt.xlabel(\"volatility\")\n",
        "plt.title(\"1 years EffcientFrontier with VXX\")\n",
        "plt.show()"
      ],
      "execution_count": 17,
      "outputs": [
        {
          "output_type": "display_data",
          "data": {
            "image/png": "[encoded data removed]",
            "text/plain": [
              "<Figure size 432x288 with 1 Axes>"
            ]
          },
          "metadata": {
            "tags": []
          }
        }
      ]
    },
    {
      "cell_type": "code",
      "metadata": {
        "id": "Fva3Z0u0Jj_M",
        "colab_type": "code",
        "colab": {}
      },
      "source": [
        "#Find the maximun sharpe ratio\n",
        "def sharpe_ratio(sigma_v,mu_v,rf):\n",
        "  sharpe = 0\n",
        "  m = 0\n",
        "  for i in range(len(sigma_v)):\n",
        "    k_t = (mu_v[i] - rf*100)/sigma_v[i]\n",
        "    if k_t > sharpe:\n",
        "      sharpe = k_t\n",
        "      m = i\n",
        "  return sharpe,m\n"
      ],
      "execution_count": 0,
      "outputs": []
    },
    {
      "cell_type": "code",
      "metadata": {
        "id": "tFstPZqNacdJ",
        "colab_type": "code",
        "outputId": "371abab1-13e1-4bd0-a8b9-52cec9c49b88",
        "colab": {
          "base_uri": "https://localhost:8080/",
          "height": 295
        }
      },
      "source": [
        "rf = 0.0158 # Choose 1 year US treasury rate as risk free rate\n",
        "sigma_x = np.linspace(7,25,1000).reshape(-1,1)\n",
        "sharpe,index_ = sharpe_ratio(sigma_v,mu_v,rf)\n",
        "targent_v = (sharpe * sigma_x + rf*100).reshape(-1,1)\n",
        "plt.plot(sigma_x,targent_v,label = \"Capital Market Line\")\n",
        "plt.plot(sigma_v,mu_v,label = \"Efficient Froniter\")\n",
        "plt.scatter(sigma_v[index_], mu_v[index_], color='r',marker = \"x\")\n",
        "plt.text(sigma_v[index_], mu_v[index_],'Tangency portfolio',ha='left',fontsize=10)\n",
        "plt.ylabel(\"Expected return\")\n",
        "plt.xlabel(\"Standard volatility\")\n",
        "plt.title(\"1 years EffcientFrontier with VXX\")\n",
        "plt.legend()\n",
        "plt.show()\n"
      ],
      "execution_count": 19,
      "outputs": [
        {
          "output_type": "display_data",
          "data": {
            "image/png": "[encoded data removed]",
            "text/plain": [
              "<Figure size 432x288 with 1 Axes>"
            ]
          },
          "metadata": {
            "tags": []
          }
        }
      ]
    },
    {
      "cell_type": "code",
      "metadata": {
        "id": "RAPvmN3AkY9C",
        "colab_type": "code",
        "outputId": "10056f40-7924-4d09-c63a-d6c943e097f2",
        "colab": {
          "base_uri": "https://localhost:8080/",
          "height": 368
        }
      },
      "source": [
        "weight_v[index_]  # weight for tangency portfoilo"
      ],
      "execution_count": 20,
      "outputs": [
        {
          "output_type": "execute_result",
          "data": {
            "text/plain": [
              "array([[ 0.05223718],\n",
              "       [ 0.04150074],\n",
              "       [-0.0224755 ],\n",
              "       [-0.00414499],\n",
              "       [ 0.08976811],\n",
              "       [ 0.00234358],\n",
              "       [ 0.27583754],\n",
              "       [ 0.00154759],\n",
              "       [ 0.00524084],\n",
              "       [-0.00956312],\n",
              "       [ 0.29347477],\n",
              "       [ 0.09255746],\n",
              "       [ 0.23137425],\n",
              "       [ 0.03424598],\n",
              "       [ 0.06887146],\n",
              "       [-0.00233256],\n",
              "       [-0.0855481 ],\n",
              "       [ 0.00579821],\n",
              "       [-0.22181489],\n",
              "       [ 0.07542142],\n",
              "       [ 0.07566003]])"
            ]
          },
          "metadata": {
            "tags": []
          },
          "execution_count": 20
        }
      ]
    },
    {
      "cell_type": "code",
      "metadata": {
        "id": "38tT3HgfUWrw",
        "colab_type": "code",
        "colab": {}
      },
      "source": [
        "filecsv_list"
      ],
      "execution_count": 0,
      "outputs": []
    },
    {
      "cell_type": "code",
      "metadata": {
        "id": "6bUi1CHqUIar",
        "colab_type": "code",
        "outputId": "93b9786a-27c9-4d90-86a3-35de430e1a74",
        "colab": {
          "base_uri": "https://localhost:8080/",
          "height": 368
        }
      },
      "source": [
        "weight_v[index_]*500000"
      ],
      "execution_count": 21,
      "outputs": [
        {
          "output_type": "execute_result",
          "data": {
            "text/plain": [
              "array([[  26118.58851702],\n",
              "       [  20750.36868562],\n",
              "       [ -11237.74966272],\n",
              "       [  -2072.49543289],\n",
              "       [  44884.05409239],\n",
              "       [   1171.78854958],\n",
              "       [ 137918.77048575],\n",
              "       [    773.79443426],\n",
              "       [   2620.41838146],\n",
              "       [  -4781.55759772],\n",
              "       [ 146737.38625926],\n",
              "       [  46278.73136243],\n",
              "       [ 115687.12463153],\n",
              "       [  17122.98774791],\n",
              "       [  34435.7300208 ],\n",
              "       [  -1166.27789306],\n",
              "       [ -42774.04808203],\n",
              "       [   2899.10478588],\n",
              "       [-110907.4472778 ],\n",
              "       [  37710.71208477],\n",
              "       [  37830.01590757]])"
            ]
          },
          "metadata": {
            "tags": []
          },
          "execution_count": 21
        }
      ]
    },
    {
      "cell_type": "code",
      "metadata": {
        "id": "2boQs70wJWw_",
        "colab_type": "code",
        "outputId": "d1a26754-84c8-4968-ff4c-b5b62b5b1517",
        "colab": {
          "base_uri": "https://localhost:8080/",
          "height": 33
        }
      },
      "source": [
        "np.sum(np.abs(weight_v[index_]))/np.sum(weight_v[index_]) #leverage for the tangency portfoilo"
      ],
      "execution_count": 22,
      "outputs": [
        {
          "output_type": "execute_result",
          "data": {
            "text/plain": [
              "1.6917583037849"
            ]
          },
          "metadata": {
            "tags": []
          },
          "execution_count": 22
        }
      ]
    },
    {
      "cell_type": "code",
      "metadata": {
        "id": "WpjnBHO39UGq",
        "colab_type": "code",
        "colab": {}
      },
      "source": [
        "def plot_corr_ellipses(data, ax=None, **kwargs):\n",
        "\n",
        "    M = np.array(data)\n",
        "    if not M.ndim == 2:\n",
        "        raise ValueError('data must be a 2D array')\n",
        "    if ax is None:\n",
        "        fig, ax = plt.subplots(1, 1, subplot_kw={'aspect':'equal'})\n",
        "        ax.set_xlim(-0.5, M.shape[1] - 0.5)\n",
        "        ax.set_ylim(-0.5, M.shape[0] - 0.5)\n",
        "\n",
        "    # xy locations of each ellipse center\n",
        "    xy = np.indices(M.shape)[::-1].reshape(2, -1).T\n",
        "\n",
        "    # set the relative sizes of the major/minor axes according to the strength of\n",
        "    # the positive/negative correlation\n",
        "    w = np.ones_like(M).ravel()\n",
        "    h = 1 - np.abs(M).ravel()\n",
        "    a = 45 * np.sign(M).ravel()\n",
        "\n",
        "    ec = EllipseCollection(widths=w, heights=h, angles=a, units='x', offsets=xy,\n",
        "                           transOffset=ax.transData, array=M.ravel(), **kwargs)\n",
        "    ax.add_collection(ec)\n",
        "\n",
        "    # if data is a DataFrame, use the row/column names as tick labels\n",
        "    if isinstance(data, pd.DataFrame):\n",
        "        ax.set_xticks(np.arange(M.shape[1]))\n",
        "        ax.set_xticklabels(data.columns, rotation=90)\n",
        "        ax.set_yticks(np.arange(M.shape[0]))\n",
        "        ax.set_yticklabels(data.index)\n",
        "\n",
        "    return ec"
      ],
      "execution_count": 0,
      "outputs": []
    },
    {
      "cell_type": "code",
      "metadata": {
        "id": "j76R7ntU7oAS",
        "colab_type": "code",
        "colab": {
          "base_uri": "https://localhost:8080/",
          "height": 286
        },
        "outputId": "8b4020f6-3800-4f47-f3e9-5410d440d413"
      },
      "source": [
        "from matplotlib import pyplot as plt\n",
        "from matplotlib.collections import EllipseCollection\n",
        "data = R_copy.cov()\n",
        "fig, ax = plt.subplots(1, 1)\n",
        "m = plot_corr_ellipses(data, ax=ax, cmap='Greens')\n",
        "cb = fig.colorbar(m)\n",
        "cb.set_label('Correlation coefficient')\n",
        "ax.margins(0.1)"
      ],
      "execution_count": 24,
      "outputs": [
        {
          "output_type": "display_data",
          "data": {
            "image/png": "[encoded data removed]",
            "text/plain": [
              "<Figure size 432x288 with 2 Axes>"
            ]
          },
          "metadata": {
            "tags": []
          }
        }
      ]
    },
    {
      "cell_type": "code",
      "metadata": {
        "id": "6cSj5tsY7xBL",
        "colab_type": "code",
        "colab": {
          "base_uri": "https://localhost:8080/",
          "height": 292
        },
        "outputId": "9ba1e41a-f48e-475b-a72a-b5f90473f489"
      },
      "source": [
        "plt.matshow(R_copy.cov(),cmap = plt.cm.Greens)"
      ],
      "execution_count": 25,
      "outputs": [
        {
          "output_type": "execute_result",
          "data": {
            "text/plain": [
              "<matplotlib.image.AxesImage at 0x7f36424fc470>"
            ]
          },
          "metadata": {
            "tags": []
          },
          "execution_count": 25
        },
        {
          "output_type": "display_data",
          "data": {
            "image/png": "[encoded data removed]",
            "text/plain": [
              "<Figure size 288x288 with 1 Axes>"
            ]
          },
          "metadata": {
            "tags": []
          }
        }
      ]
    }
  ]
}