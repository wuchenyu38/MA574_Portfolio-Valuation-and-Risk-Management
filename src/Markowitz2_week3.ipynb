{
  "nbformat": 4,
  "nbformat_minor": 0,
  "metadata": {
    "colab": {
      "name": "Markowitz2_week3.ipynb",
      "provenance": [],
      "collapsed_sections": [],
      "include_colab_link": true
    },
    "kernelspec": {
      "name": "python3",
      "display_name": "Python 3"
    }
  },
  "cells": [
    {
      "cell_type": "markdown",
      "metadata": {
        "id": "view-in-github",
        "colab_type": "text"
      },
      "source": [
        "<a href=\"https://colab.research.google.com/github/wqiu96/MA574_Portfolio-Valuation-and-Risk-Management/blob/master/src/Markowitz2_week3.ipynb\" target=\"_parent\"><img src=\"https://colab.research.google.com/assets/colab-badge.svg\" alt=\"Open In Colab\"/></a>"
      ]
    },
    {
      "cell_type": "code",
      "metadata": {
        "id": "XtjEK3QhNsYc",
        "colab_type": "code",
        "colab": {}
      },
      "source": [
        "import numpy as np\n",
        "import pandas as pd\n",
        "import matplotlib.pyplot as plt\n",
        "from numpy.linalg import *\n",
        "import os"
      ],
      "execution_count": 0,
      "outputs": []
    },
    {
      "cell_type": "code",
      "metadata": {
        "id": "PzGPxFXFWm4s",
        "colab_type": "code",
        "outputId": "b3d99b08-1bd1-4497-8907-df8260e10253",
        "colab": {
          "base_uri": "https://localhost:8080/",
          "height": 134
        }
      },
      "source": [
        "!git clone https://github.com/wqiu96/MA574_Portfolio-Valuation-and-Risk-Management.git"
      ],
      "execution_count": 2,
      "outputs": [
        {
          "output_type": "stream",
          "text": [
            "Cloning into 'MA574_Portfolio-Valuation-and-Risk-Management'...\n",
            "remote: Enumerating objects: 10, done.\u001b[K\n",
            "remote: Counting objects: 100% (10/10), done.\u001b[K\n",
            "remote: Compressing objects: 100% (10/10), done.\u001b[K\n",
            "remote: Total 670 (delta 2), reused 0 (delta 0), pack-reused 660\u001b[K\n",
            "Receiving objects: 100% (670/670), 3.50 MiB | 5.88 MiB/s, done.\n",
            "Resolving deltas: 100% (280/280), done.\n"
          ],
          "name": "stdout"
        }
      ]
    },
    {
      "cell_type": "code",
      "metadata": {
        "id": "ZrnuPYx0XuQm",
        "colab_type": "code",
        "outputId": "89bb13a5-804b-496d-f453-6094ed9252dc",
        "colab": {
          "base_uri": "https://localhost:8080/",
          "height": 33
        }
      },
      "source": [
        "cd MA574_Portfolio-Valuation-and-Risk-Management/src/project3/week3/"
      ],
      "execution_count": 3,
      "outputs": [
        {
          "output_type": "stream",
          "text": [
            "/content/MA574_Portfolio-Valuation-and-Risk-Management/src/project3/week3\n"
          ],
          "name": "stdout"
        }
      ]
    },
    {
      "cell_type": "code",
      "metadata": {
        "id": "KEbSuzZOXx-7",
        "colab_type": "code",
        "colab": {}
      },
      "source": [
        "#Load data\n",
        "os.chdir('/content/MA574_Portfolio-Valuation-and-Risk-Management/src/project3/week3/')\n",
        "file_chdir = os.getcwd()\n",
        "filecsv_list = []\n",
        "for root,dirs,files in os.walk(file_chdir):\n",
        "  for file in files:\n",
        "    if os.path.splitext(file)[1] == '.csv' and os.path.splitext(file)[0] != 'VXX':\n",
        "      filecsv_list.append(file)\n",
        "R = pd.DataFrame()\n",
        "for csv in filecsv_list:\n",
        "  data = pd.read_csv(csv)\n",
        "  #calculate return\n",
        "  R[csv.strip('.csv')] = np.array([np.log(data['Adj Close'][j]/data['Adj Close'][j-1]) for j in range(1,len(data['Adj Close']))])\n",
        " "
      ],
      "execution_count": 0,
      "outputs": []
    },
    {
      "cell_type": "code",
      "metadata": {
        "id": "H7Yh4z3B8Diu",
        "colab_type": "code",
        "outputId": "1aa665c9-818b-4df1-fda6-c1fe791ed432",
        "colab": {
          "base_uri": "https://localhost:8080/",
          "height": 351
        }
      },
      "source": [
        "filecsv_list"
      ],
      "execution_count": 5,
      "outputs": [
        {
          "output_type": "execute_result",
          "data": {
            "text/plain": [
              "['DIS.csv',\n",
              " 'VZ.csv',\n",
              " 'GOOG.csv',\n",
              " 'KO.csv',\n",
              " 'SKX.csv',\n",
              " 'JPM.csv',\n",
              " 'BABA.csv',\n",
              " 'AMD.csv',\n",
              " 'TEL.csv',\n",
              " 'WMT.csv',\n",
              " 'BAC.csv',\n",
              " 'BRK-B.csv',\n",
              " 'MCD.csv',\n",
              " 'FB.csv',\n",
              " 'PG.csv',\n",
              " 'AAPL.csv',\n",
              " 'MAR.csv',\n",
              " 'LULU.csv',\n",
              " 'TM.csv',\n",
              " 'AEP.csv']"
            ]
          },
          "metadata": {
            "tags": []
          },
          "execution_count": 5
        }
      ]
    },
    {
      "cell_type": "code",
      "metadata": {
        "id": "oMA7bXF75eBY",
        "colab_type": "code",
        "colab": {}
      },
      "source": [
        "def ghm(R_expect,R_cov):\n",
        "  one = np.ones((len(R_expect),1))\n",
        "  A = np.dot(np.dot(one.reshape(1,-1),inv(R_cov)),R_expect)\n",
        "  B = np.dot(np.dot(R_expect.reshape(1,-1),inv(R_cov)),R_expect)\n",
        "  C = np.dot(np.dot(one.reshape(1,-1),inv(R_cov)),one)\n",
        "  D = B*C - A**2\n",
        "  g = (B * np.dot(inv(R_cov), one) - A* np.dot(inv(R_cov), R_expect))/D\n",
        "  h = (C * np.dot(inv(R_cov), R_expect) - A* np.dot(inv(R_cov), one))/D\n",
        "  min_sigma = np.dot(np.dot(g.reshape(1,-1),R_cov),g) - (np.dot(np.dot(h.reshape(1,-1),R_cov),g)**2)/np.dot(np.dot(h.reshape(1,-1),R_cov),h)\n",
        "  return g,h,min_sigma"
      ],
      "execution_count": 0,
      "outputs": []
    },
    {
      "cell_type": "code",
      "metadata": {
        "id": "vO3typylTR3q",
        "colab_type": "code",
        "colab": {}
      },
      "source": [
        "def effcientfrontier(g,h,R_cov,N1,N2):\n",
        "  sigma = []\n",
        "  mu = []\n",
        "  weight = []\n",
        "  before_ = np.inf\n",
        "  for i in range(N1,N2):\n",
        "      w = g + h*0.00000001*i\n",
        "      sigma_ = 250*np.dot(np.dot(w.reshape(1,-1),R_cov),w)[0][0]\n",
        "      if sigma_ > before_:\n",
        "        sigma.append(np.sqrt((np.exp(sigma_)-1)*np.exp(2*0.00000001*i*250 + sigma_))*100)\n",
        "        weight.append(w)\n",
        "        mu.append((np.exp(0.00000001*i*250 + sigma_/2)-1)*100)\n",
        "      before_ = sigma_\n",
        "  return sigma,mu,weight"
      ],
      "execution_count": 0,
      "outputs": []
    },
    {
      "cell_type": "code",
      "metadata": {
        "id": "EtOv7RHn6Wpr",
        "colab_type": "code",
        "outputId": "7f081cd8-1a57-42d3-c157-9e29cf70df74",
        "colab": {
          "base_uri": "https://localhost:8080/",
          "height": 295
        }
      },
      "source": [
        "#1 years effcientFronter\n",
        "R_cov =  np.array(R.cov())\n",
        "R_expect = np.array(R.mean()).reshape(-1,1)\n",
        "g1,h1,min_sigma1 = ghm(R_expect,R_cov)\n",
        "sigma1,mu1,weight1 = effcientfrontier(g1,h1,R_cov,2000,200000)\n",
        "plt.plot(sigma1,mu1)\n",
        "plt.ylabel(\"Expected return\")\n",
        "plt.xlabel(\"volatility\")\n",
        "plt.title(\"1 years EffcientFrontier\")\n",
        "plt.show()"
      ],
      "execution_count": 8,
      "outputs": [
        {
          "output_type": "display_data",
          "data": {
            "image/png": "[encoded data removed]",
            "text/plain": [
              "<Figure size 432x288 with 1 Axes>"
            ]
          },
          "metadata": {
            "tags": []
          }
        }
      ]
    },
    {
      "cell_type": "code",
      "metadata": {
        "id": "lBDtVHVSCO0V",
        "colab_type": "code",
        "outputId": "3539394b-acde-4590-d938-5ae5520dc694",
        "colab": {
          "base_uri": "https://localhost:8080/",
          "height": 351
        }
      },
      "source": [
        "weight1[0] # weight for minimum sigma(1 years)"
      ],
      "execution_count": 9,
      "outputs": [
        {
          "output_type": "execute_result",
          "data": {
            "text/plain": [
              "array([[-0.03361298],\n",
              "       [ 0.08182701],\n",
              "       [ 0.02111009],\n",
              "       [ 0.03348763],\n",
              "       [ 0.00790604],\n",
              "       [ 0.04553649],\n",
              "       [ 0.00363447],\n",
              "       [-0.05920516],\n",
              "       [ 0.05197467],\n",
              "       [ 0.0337987 ],\n",
              "       [-0.01821524],\n",
              "       [ 0.10581302],\n",
              "       [ 0.13794955],\n",
              "       [ 0.00290924],\n",
              "       [-0.00342508],\n",
              "       [-0.07530423],\n",
              "       [ 0.06359065],\n",
              "       [ 0.0228852 ],\n",
              "       [ 0.29011194],\n",
              "       [ 0.28722801]])"
            ]
          },
          "metadata": {
            "tags": []
          },
          "execution_count": 9
        }
      ]
    },
    {
      "cell_type": "code",
      "metadata": {
        "id": "9Od4e2oDClES",
        "colab_type": "code",
        "colab": {}
      },
      "source": [
        "R_copy = R.copy()\n",
        "vxx = pd.read_csv('VXX.csv')\n",
        "R_copy['VXX'] = np.array([((vxx['Adj Close'][j]/vxx['Adj Close'][j-1])-1) for j in range(1,len(vxx['Adj Close']))])"
      ],
      "execution_count": 0,
      "outputs": []
    },
    {
      "cell_type": "code",
      "metadata": {
        "id": "7wc4bp7dxndV",
        "colab_type": "code",
        "outputId": "bcdb8f4c-5dba-4d6f-f9ba-987713bba80e",
        "colab": {
          "base_uri": "https://localhost:8080/",
          "height": 673
        }
      },
      "source": [
        "R_mean = pd.DataFrame()\n",
        "R_mean[\"1 year\"] = R_copy.mean()\n",
        "R_mean"
      ],
      "execution_count": 12,
      "outputs": [
        {
          "output_type": "execute_result",
          "data": {
            "text/html": [
              "<div>\n",
              "<style scoped>\n",
              "    .dataframe tbody tr th:only-of-type {\n",
              "        vertical-align: middle;\n",
              "    }\n",
              "\n",
              "    .dataframe tbody tr th {\n",
              "        vertical-align: top;\n",
              "    }\n",
              "\n",
              "    .dataframe thead th {\n",
              "        text-align: right;\n",
              "    }\n",
              "</style>\n",
              "<table border=\"1\" class=\"dataframe\">\n",
              "  <thead>\n",
              "    <tr style=\"text-align: right;\">\n",
              "      <th></th>\n",
              "      <th>1 year</th>\n",
              "    </tr>\n",
              "  </thead>\n",
              "  <tbody>\n",
              "    <tr>\n",
              "      <th>DIS</th>\n",
              "      <td>0.000963</td>\n",
              "    </tr>\n",
              "    <tr>\n",
              "      <th>VZ</th>\n",
              "      <td>0.000092</td>\n",
              "    </tr>\n",
              "    <tr>\n",
              "      <th>GOOG</th>\n",
              "      <td>0.001080</td>\n",
              "    </tr>\n",
              "    <tr>\n",
              "      <th>KO</th>\n",
              "      <td>0.000295</td>\n",
              "    </tr>\n",
              "    <tr>\n",
              "      <th>SKX</th>\n",
              "      <td>0.001735</td>\n",
              "    </tr>\n",
              "    <tr>\n",
              "      <th>JPM</th>\n",
              "      <td>0.000750</td>\n",
              "    </tr>\n",
              "    <tr>\n",
              "      <th>BABA</th>\n",
              "      <td>0.000865</td>\n",
              "    </tr>\n",
              "    <tr>\n",
              "      <th>AMD</th>\n",
              "      <td>0.002819</td>\n",
              "    </tr>\n",
              "    <tr>\n",
              "      <th>TEL</th>\n",
              "      <td>0.000975</td>\n",
              "    </tr>\n",
              "    <tr>\n",
              "      <th>WMT</th>\n",
              "      <td>0.000910</td>\n",
              "    </tr>\n",
              "    <tr>\n",
              "      <th>BAC</th>\n",
              "      <td>0.000778</td>\n",
              "    </tr>\n",
              "    <tr>\n",
              "      <th>BRK-B</th>\n",
              "      <td>0.000033</td>\n",
              "    </tr>\n",
              "    <tr>\n",
              "      <th>MCD</th>\n",
              "      <td>0.000248</td>\n",
              "    </tr>\n",
              "    <tr>\n",
              "      <th>FB</th>\n",
              "      <td>0.001583</td>\n",
              "    </tr>\n",
              "    <tr>\n",
              "      <th>PG</th>\n",
              "      <td>0.001141</td>\n",
              "    </tr>\n",
              "    <tr>\n",
              "      <th>AAPL</th>\n",
              "      <td>0.001496</td>\n",
              "    </tr>\n",
              "    <tr>\n",
              "      <th>MAR</th>\n",
              "      <td>0.000664</td>\n",
              "    </tr>\n",
              "    <tr>\n",
              "      <th>LULU</th>\n",
              "      <td>0.002132</td>\n",
              "    </tr>\n",
              "    <tr>\n",
              "      <th>TM</th>\n",
              "      <td>0.000837</td>\n",
              "    </tr>\n",
              "    <tr>\n",
              "      <th>AEP</th>\n",
              "      <td>0.000712</td>\n",
              "    </tr>\n",
              "    <tr>\n",
              "      <th>VXX</th>\n",
              "      <td>-0.002311</td>\n",
              "    </tr>\n",
              "  </tbody>\n",
              "</table>\n",
              "</div>"
            ],
            "text/plain": [
              "         1 year\n",
              "DIS    0.000963\n",
              "VZ     0.000092\n",
              "GOOG   0.001080\n",
              "KO     0.000295\n",
              "SKX    0.001735\n",
              "JPM    0.000750\n",
              "BABA   0.000865\n",
              "AMD    0.002819\n",
              "TEL    0.000975\n",
              "WMT    0.000910\n",
              "BAC    0.000778\n",
              "BRK-B  0.000033\n",
              "MCD    0.000248\n",
              "FB     0.001583\n",
              "PG     0.001141\n",
              "AAPL   0.001496\n",
              "MAR    0.000664\n",
              "LULU   0.002132\n",
              "TM     0.000837\n",
              "AEP    0.000712\n",
              "VXX   -0.002311"
            ]
          },
          "metadata": {
            "tags": []
          },
          "execution_count": 12
        }
      ]
    },
    {
      "cell_type": "code",
      "metadata": {
        "id": "NZSvKLjKyvEc",
        "colab_type": "code",
        "outputId": "f268032e-11e5-4f3f-bdff-a6fb0702dfd1",
        "colab": {
          "base_uri": "https://localhost:8080/",
          "height": 673
        }
      },
      "source": [
        "R_var = pd.DataFrame()\n",
        "R_var[\"1 year\"] = R_copy.var()\n",
        "R_var"
      ],
      "execution_count": 13,
      "outputs": [
        {
          "output_type": "execute_result",
          "data": {
            "text/html": [
              "<div>\n",
              "<style scoped>\n",
              "    .dataframe tbody tr th:only-of-type {\n",
              "        vertical-align: middle;\n",
              "    }\n",
              "\n",
              "    .dataframe tbody tr th {\n",
              "        vertical-align: top;\n",
              "    }\n",
              "\n",
              "    .dataframe thead th {\n",
              "        text-align: right;\n",
              "    }\n",
              "</style>\n",
              "<table border=\"1\" class=\"dataframe\">\n",
              "  <thead>\n",
              "    <tr style=\"text-align: right;\">\n",
              "      <th></th>\n",
              "      <th>1 year</th>\n",
              "    </tr>\n",
              "  </thead>\n",
              "  <tbody>\n",
              "    <tr>\n",
              "      <th>DIS</th>\n",
              "      <td>0.000227</td>\n",
              "    </tr>\n",
              "    <tr>\n",
              "      <th>VZ</th>\n",
              "      <td>0.000125</td>\n",
              "    </tr>\n",
              "    <tr>\n",
              "      <th>GOOG</th>\n",
              "      <td>0.000278</td>\n",
              "    </tr>\n",
              "    <tr>\n",
              "      <th>KO</th>\n",
              "      <td>0.000133</td>\n",
              "    </tr>\n",
              "    <tr>\n",
              "      <th>SKX</th>\n",
              "      <td>0.000650</td>\n",
              "    </tr>\n",
              "    <tr>\n",
              "      <th>JPM</th>\n",
              "      <td>0.000167</td>\n",
              "    </tr>\n",
              "    <tr>\n",
              "      <th>BABA</th>\n",
              "      <td>0.000395</td>\n",
              "    </tr>\n",
              "    <tr>\n",
              "      <th>AMD</th>\n",
              "      <td>0.001299</td>\n",
              "    </tr>\n",
              "    <tr>\n",
              "      <th>TEL</th>\n",
              "      <td>0.000235</td>\n",
              "    </tr>\n",
              "    <tr>\n",
              "      <th>WMT</th>\n",
              "      <td>0.000111</td>\n",
              "    </tr>\n",
              "    <tr>\n",
              "      <th>BAC</th>\n",
              "      <td>0.000259</td>\n",
              "    </tr>\n",
              "    <tr>\n",
              "      <th>BRK-B</th>\n",
              "      <td>0.000125</td>\n",
              "    </tr>\n",
              "    <tr>\n",
              "      <th>MCD</th>\n",
              "      <td>0.000105</td>\n",
              "    </tr>\n",
              "    <tr>\n",
              "      <th>FB</th>\n",
              "      <td>0.000387</td>\n",
              "    </tr>\n",
              "    <tr>\n",
              "      <th>PG</th>\n",
              "      <td>0.000131</td>\n",
              "    </tr>\n",
              "    <tr>\n",
              "      <th>AAPL</th>\n",
              "      <td>0.000347</td>\n",
              "    </tr>\n",
              "    <tr>\n",
              "      <th>MAR</th>\n",
              "      <td>0.000251</td>\n",
              "    </tr>\n",
              "    <tr>\n",
              "      <th>LULU</th>\n",
              "      <td>0.000535</td>\n",
              "    </tr>\n",
              "    <tr>\n",
              "      <th>TM</th>\n",
              "      <td>0.000087</td>\n",
              "    </tr>\n",
              "    <tr>\n",
              "      <th>AEP</th>\n",
              "      <td>0.000089</td>\n",
              "    </tr>\n",
              "    <tr>\n",
              "      <th>VXX</th>\n",
              "      <td>0.001532</td>\n",
              "    </tr>\n",
              "  </tbody>\n",
              "</table>\n",
              "</div>"
            ],
            "text/plain": [
              "         1 year\n",
              "DIS    0.000227\n",
              "VZ     0.000125\n",
              "GOOG   0.000278\n",
              "KO     0.000133\n",
              "SKX    0.000650\n",
              "JPM    0.000167\n",
              "BABA   0.000395\n",
              "AMD    0.001299\n",
              "TEL    0.000235\n",
              "WMT    0.000111\n",
              "BAC    0.000259\n",
              "BRK-B  0.000125\n",
              "MCD    0.000105\n",
              "FB     0.000387\n",
              "PG     0.000131\n",
              "AAPL   0.000347\n",
              "MAR    0.000251\n",
              "LULU   0.000535\n",
              "TM     0.000087\n",
              "AEP    0.000089\n",
              "VXX    0.001532"
            ]
          },
          "metadata": {
            "tags": []
          },
          "execution_count": 13
        }
      ]
    },
    {
      "cell_type": "code",
      "metadata": {
        "id": "RYLhQzN00NKi",
        "colab_type": "code",
        "outputId": "54ae1acf-db94-4912-b9dd-0626e6b1e485",
        "colab": {
          "base_uri": "https://localhost:8080/",
          "height": 673
        }
      },
      "source": [
        "R_sharpo = pd.DataFrame()\n",
        "rf = 0.0158\n",
        "rf_daily = (1 + rf)**(1/250) - 1\n",
        "R_sharpo[\"1 year\"] = (R_mean[\"1 year\"] - rf_daily )/R_var[\"1 year\"]\n",
        "R_sharpo "
      ],
      "execution_count": 14,
      "outputs": [
        {
          "output_type": "execute_result",
          "data": {
            "text/html": [
              "<div>\n",
              "<style scoped>\n",
              "    .dataframe tbody tr th:only-of-type {\n",
              "        vertical-align: middle;\n",
              "    }\n",
              "\n",
              "    .dataframe tbody tr th {\n",
              "        vertical-align: top;\n",
              "    }\n",
              "\n",
              "    .dataframe thead th {\n",
              "        text-align: right;\n",
              "    }\n",
              "</style>\n",
              "<table border=\"1\" class=\"dataframe\">\n",
              "  <thead>\n",
              "    <tr style=\"text-align: right;\">\n",
              "      <th></th>\n",
              "      <th>1 year</th>\n",
              "    </tr>\n",
              "  </thead>\n",
              "  <tbody>\n",
              "    <tr>\n",
              "      <th>DIS</th>\n",
              "      <td>3.972429</td>\n",
              "    </tr>\n",
              "    <tr>\n",
              "      <th>VZ</th>\n",
              "      <td>0.237128</td>\n",
              "    </tr>\n",
              "    <tr>\n",
              "      <th>GOOG</th>\n",
              "      <td>3.656481</td>\n",
              "    </tr>\n",
              "    <tr>\n",
              "      <th>KO</th>\n",
              "      <td>1.750632</td>\n",
              "    </tr>\n",
              "    <tr>\n",
              "      <th>SKX</th>\n",
              "      <td>2.574430</td>\n",
              "    </tr>\n",
              "    <tr>\n",
              "      <th>JPM</th>\n",
              "      <td>4.125649</td>\n",
              "    </tr>\n",
              "    <tr>\n",
              "      <th>BABA</th>\n",
              "      <td>2.033984</td>\n",
              "    </tr>\n",
              "    <tr>\n",
              "      <th>AMD</th>\n",
              "      <td>2.121454</td>\n",
              "    </tr>\n",
              "    <tr>\n",
              "      <th>TEL</th>\n",
              "      <td>3.877274</td>\n",
              "    </tr>\n",
              "    <tr>\n",
              "      <th>WMT</th>\n",
              "      <td>7.619941</td>\n",
              "    </tr>\n",
              "    <tr>\n",
              "      <th>BAC</th>\n",
              "      <td>2.767508</td>\n",
              "    </tr>\n",
              "    <tr>\n",
              "      <th>BRK-B</th>\n",
              "      <td>-0.237030</td>\n",
              "    </tr>\n",
              "    <tr>\n",
              "      <th>MCD</th>\n",
              "      <td>1.763602</td>\n",
              "    </tr>\n",
              "    <tr>\n",
              "      <th>FB</th>\n",
              "      <td>3.923249</td>\n",
              "    </tr>\n",
              "    <tr>\n",
              "      <th>PG</th>\n",
              "      <td>8.240234</td>\n",
              "    </tr>\n",
              "    <tr>\n",
              "      <th>AAPL</th>\n",
              "      <td>4.126365</td>\n",
              "    </tr>\n",
              "    <tr>\n",
              "      <th>MAR</th>\n",
              "      <td>2.396787</td>\n",
              "    </tr>\n",
              "    <tr>\n",
              "      <th>LULU</th>\n",
              "      <td>3.867286</td>\n",
              "    </tr>\n",
              "    <tr>\n",
              "      <th>TM</th>\n",
              "      <td>8.887326</td>\n",
              "    </tr>\n",
              "    <tr>\n",
              "      <th>AEP</th>\n",
              "      <td>7.310504</td>\n",
              "    </tr>\n",
              "    <tr>\n",
              "      <th>VXX</th>\n",
              "      <td>-1.549308</td>\n",
              "    </tr>\n",
              "  </tbody>\n",
              "</table>\n",
              "</div>"
            ],
            "text/plain": [
              "         1 year\n",
              "DIS    3.972429\n",
              "VZ     0.237128\n",
              "GOOG   3.656481\n",
              "KO     1.750632\n",
              "SKX    2.574430\n",
              "JPM    4.125649\n",
              "BABA   2.033984\n",
              "AMD    2.121454\n",
              "TEL    3.877274\n",
              "WMT    7.619941\n",
              "BAC    2.767508\n",
              "BRK-B -0.237030\n",
              "MCD    1.763602\n",
              "FB     3.923249\n",
              "PG     8.240234\n",
              "AAPL   4.126365\n",
              "MAR    2.396787\n",
              "LULU   3.867286\n",
              "TM     8.887326\n",
              "AEP    7.310504\n",
              "VXX   -1.549308"
            ]
          },
          "metadata": {
            "tags": []
          },
          "execution_count": 14
        }
      ]
    },
    {
      "cell_type": "code",
      "metadata": {
        "id": "twFh1236SXgQ",
        "colab_type": "code",
        "outputId": "7d73e077-1fa0-4d8b-d846-0736ad2d805a",
        "colab": {
          "base_uri": "https://localhost:8080/",
          "height": 295
        }
      },
      "source": [
        "#1 years effcientFronter with VXX\n",
        "R_cov4 =  np.array(R_copy.cov())\n",
        "R_expect4 = np.array(R_copy.mean()).reshape(-1,1)\n",
        "g4,h4,min_sigma4 = ghm(R_expect4,R_cov4)\n",
        "sigma_v,mu_v,weight_v = effcientfrontier(g4,h4,R_cov4,2000,200000)\n",
        "plt.plot(sigma_v,mu_v)\n",
        "plt.ylabel(\"Expected return\")\n",
        "plt.xlabel(\"volatility\")\n",
        "plt.title(\"1 years EffcientFrontier with VXX\")\n",
        "plt.show()"
      ],
      "execution_count": 16,
      "outputs": [
        {
          "output_type": "display_data",
          "data": {
            "image/png": "[encoded data removed]",
            "text/plain": [
              "<Figure size 432x288 with 1 Axes>"
            ]
          },
          "metadata": {
            "tags": []
          }
        }
      ]
    },
    {
      "cell_type": "code",
      "metadata": {
        "id": "Fva3Z0u0Jj_M",
        "colab_type": "code",
        "colab": {}
      },
      "source": [
        "#Find the maximun sharpe ratio\n",
        "def sharpe_ratio(sigma_v,mu_v,rf):\n",
        "  sharpe = 0\n",
        "  m = 0\n",
        "  for i in range(len(sigma_v)):\n",
        "    k_t = (mu_v[i] - rf*100)/sigma_v[i]\n",
        "    if k_t > sharpe:\n",
        "      sharpe = k_t\n",
        "      m = i\n",
        "  return sharpe,m\n"
      ],
      "execution_count": 0,
      "outputs": []
    },
    {
      "cell_type": "code",
      "metadata": {
        "id": "tFstPZqNacdJ",
        "colab_type": "code",
        "outputId": "926d8839-bf43-4b56-ac2f-b67b8006b352",
        "colab": {
          "base_uri": "https://localhost:8080/",
          "height": 295
        }
      },
      "source": [
        "rf = 0.0158 # Choose 1 year US treasury rate as risk free rate\n",
        "sigma_x = np.linspace(7,25,1000).reshape(-1,1)\n",
        "sharpe,index_ = sharpe_ratio(sigma_v,mu_v,rf)\n",
        "targent_v = (sharpe * sigma_x + rf*100).reshape(-1,1)\n",
        "plt.plot(sigma_x,targent_v,label = \"Capital Market Line\")\n",
        "plt.plot(sigma_v,mu_v,label = \"Efficient Froniter\")\n",
        "plt.scatter(sigma_v[index_], mu_v[index_], color='r',marker = \"x\")\n",
        "plt.text(sigma_v[index_], mu_v[index_],'Tangency portfolio',ha='left',fontsize=10)\n",
        "plt.ylabel(\"Expected return\")\n",
        "plt.xlabel(\"Standard volatility\")\n",
        "plt.title(\"1 years EffcientFrontier with VXX\")\n",
        "plt.legend()\n",
        "plt.show()\n"
      ],
      "execution_count": 18,
      "outputs": [
        {
          "output_type": "display_data",
          "data": {
            "image/png": "[encoded data removed]",
            "text/plain": [
              "<Figure size 432x288 with 1 Axes>"
            ]
          },
          "metadata": {
            "tags": []
          }
        }
      ]
    },
    {
      "cell_type": "code",
      "metadata": {
        "id": "RAPvmN3AkY9C",
        "colab_type": "code",
        "outputId": "08912888-5fef-4bf8-b1c7-9b8707c31d1e",
        "colab": {
          "base_uri": "https://localhost:8080/",
          "height": 368
        }
      },
      "source": [
        "weight_v[index_]  # weight for tangency portfoilo"
      ],
      "execution_count": 19,
      "outputs": [
        {
          "output_type": "execute_result",
          "data": {
            "text/plain": [
              "array([[ 0.03547935],\n",
              "       [-0.09096953],\n",
              "       [-0.00135932],\n",
              "       [-0.01575587],\n",
              "       [ 0.04961001],\n",
              "       [ 0.26687428],\n",
              "       [-0.02951304],\n",
              "       [ 0.03975307],\n",
              "       [ 0.09815679],\n",
              "       [ 0.183472  ],\n",
              "       [-0.00653671],\n",
              "       [-0.55069532],\n",
              "       [-0.04633723],\n",
              "       [ 0.02836407],\n",
              "       [ 0.24932095],\n",
              "       [ 0.14879258],\n",
              "       [-0.03748229],\n",
              "       [ 0.09963244],\n",
              "       [ 0.2188315 ],\n",
              "       [ 0.24680406],\n",
              "       [ 0.11355821]])"
            ]
          },
          "metadata": {
            "tags": []
          },
          "execution_count": 19
        }
      ]
    },
    {
      "cell_type": "code",
      "metadata": {
        "id": "38tT3HgfUWrw",
        "colab_type": "code",
        "outputId": "27989e9a-f1b5-4bee-9dc6-2d404cbc7d21",
        "colab": {
          "base_uri": "https://localhost:8080/",
          "height": 351
        }
      },
      "source": [
        "filecsv_list"
      ],
      "execution_count": 20,
      "outputs": [
        {
          "output_type": "execute_result",
          "data": {
            "text/plain": [
              "['DIS.csv',\n",
              " 'VZ.csv',\n",
              " 'GOOG.csv',\n",
              " 'KO.csv',\n",
              " 'SKX.csv',\n",
              " 'JPM.csv',\n",
              " 'BABA.csv',\n",
              " 'AMD.csv',\n",
              " 'TEL.csv',\n",
              " 'WMT.csv',\n",
              " 'BAC.csv',\n",
              " 'BRK-B.csv',\n",
              " 'MCD.csv',\n",
              " 'FB.csv',\n",
              " 'PG.csv',\n",
              " 'AAPL.csv',\n",
              " 'MAR.csv',\n",
              " 'LULU.csv',\n",
              " 'TM.csv',\n",
              " 'AEP.csv']"
            ]
          },
          "metadata": {
            "tags": []
          },
          "execution_count": 20
        }
      ]
    },
    {
      "cell_type": "code",
      "metadata": {
        "id": "6bUi1CHqUIar",
        "colab_type": "code",
        "outputId": "f9a4ce3b-05f8-4e34-8a8b-b61f6786a7cc",
        "colab": {
          "base_uri": "https://localhost:8080/",
          "height": 368
        }
      },
      "source": [
        "weight_v[index_]*500000"
      ],
      "execution_count": 21,
      "outputs": [
        {
          "output_type": "execute_result",
          "data": {
            "text/plain": [
              "array([[  17739.67401901],\n",
              "       [ -45484.7637217 ],\n",
              "       [   -679.65829001],\n",
              "       [  -7877.93386978],\n",
              "       [  24805.00600562],\n",
              "       [ 133437.13752936],\n",
              "       [ -14756.5210627 ],\n",
              "       [  19876.53562296],\n",
              "       [  49078.39468121],\n",
              "       [  91735.99961269],\n",
              "       [  -3268.35591659],\n",
              "       [-275347.659066  ],\n",
              "       [ -23168.61448209],\n",
              "       [  14182.03256549],\n",
              "       [ 124660.47384134],\n",
              "       [  74396.28929161],\n",
              "       [ -18741.14392497],\n",
              "       [  49816.22058929],\n",
              "       [ 109415.74988416],\n",
              "       [ 123402.03224969],\n",
              "       [  56779.10444144]])"
            ]
          },
          "metadata": {
            "tags": []
          },
          "execution_count": 21
        }
      ]
    },
    {
      "cell_type": "code",
      "metadata": {
        "id": "2boQs70wJWw_",
        "colab_type": "code",
        "outputId": "81058281-85ea-4b22-a6c2-fd8ac6b10459",
        "colab": {
          "base_uri": "https://localhost:8080/",
          "height": 33
        }
      },
      "source": [
        "np.sum(np.abs(weight_v[index_]))/np.sum(weight_v[index_]) #leverage for the tangency portfoilo"
      ],
      "execution_count": 22,
      "outputs": [
        {
          "output_type": "execute_result",
          "data": {
            "text/plain": [
              "2.5572986013354013"
            ]
          },
          "metadata": {
            "tags": []
          },
          "execution_count": 22
        }
      ]
    }
  ]
}