{
  "nbformat": 4,
  "nbformat_minor": 0,
  "metadata": {
    "colab": {
      "name": "Markowitz2_week2.ipynb",
      "provenance": [],
      "collapsed_sections": [],
      "include_colab_link": true
    },
    "kernelspec": {
      "name": "python3",
      "display_name": "Python 3"
    }
  },
  "cells": [
    {
      "cell_type": "markdown",
      "metadata": {
        "id": "view-in-github",
        "colab_type": "text"
      },
      "source": [
        "<a href=\"https://colab.research.google.com/github/wqiu96/MA574_Portfolio-Valuation-and-Risk-Management/blob/master/src/Markowitz2_week2.ipynb\" target=\"_parent\"><img src=\"https://colab.research.google.com/assets/colab-badge.svg\" alt=\"Open In Colab\"/></a>"
      ]
    },
    {
      "cell_type": "code",
      "metadata": {
        "id": "XtjEK3QhNsYc",
        "colab_type": "code",
        "colab": {}
      },
      "source": [
        "import numpy as np\n",
        "import pandas as pd\n",
        "import matplotlib.pyplot as plt\n",
        "from numpy.linalg import *\n",
        "import os"
      ],
      "execution_count": 0,
      "outputs": []
    },
    {
      "cell_type": "code",
      "metadata": {
        "id": "PzGPxFXFWm4s",
        "colab_type": "code",
        "outputId": "75879742-24f3-43f2-cd34-e320b501a518",
        "colab": {
          "base_uri": "https://localhost:8080/",
          "height": 134
        }
      },
      "source": [
        "!git clone https://github.com/wqiu96/MA574_Portfolio-Valuation-and-Risk-Management.git"
      ],
      "execution_count": 2,
      "outputs": [
        {
          "output_type": "stream",
          "text": [
            "Cloning into 'MA574_Portfolio-Valuation-and-Risk-Management'...\n",
            "remote: Enumerating objects: 61, done.\u001b[K\n",
            "remote: Counting objects: 100% (61/61), done.\u001b[K\n",
            "remote: Compressing objects: 100% (60/60), done.\u001b[K\n",
            "remote: Total 621 (delta 15), reused 0 (delta 0), pack-reused 560\u001b[K\n",
            "Receiving objects: 100% (621/621), 3.46 MiB | 5.82 MiB/s, done.\n",
            "Resolving deltas: 100% (242/242), done.\n"
          ],
          "name": "stdout"
        }
      ]
    },
    {
      "cell_type": "code",
      "metadata": {
        "id": "ZrnuPYx0XuQm",
        "colab_type": "code",
        "outputId": "40952268-22d3-4761-cefc-9da8c8cc228d",
        "colab": {
          "base_uri": "https://localhost:8080/",
          "height": 33
        }
      },
      "source": [
        "cd MA574_Portfolio-Valuation-and-Risk-Management/src/project3/week2/"
      ],
      "execution_count": 3,
      "outputs": [
        {
          "output_type": "stream",
          "text": [
            "/content/MA574_Portfolio-Valuation-and-Risk-Management/src/project3/week2\n"
          ],
          "name": "stdout"
        }
      ]
    },
    {
      "cell_type": "code",
      "metadata": {
        "id": "KEbSuzZOXx-7",
        "colab_type": "code",
        "colab": {}
      },
      "source": [
        "#Load data\n",
        "os.chdir('/content/MA574_Portfolio-Valuation-and-Risk-Management/src/project3/week2/')\n",
        "file_chdir = os.getcwd()\n",
        "filecsv_list = []\n",
        "for root,dirs,files in os.walk(file_chdir):\n",
        "  for file in files:\n",
        "    if os.path.splitext(file)[1] == '.csv' and os.path.splitext(file)[0] != 'VXX':\n",
        "      filecsv_list.append(file)\n",
        "R = pd.DataFrame()\n",
        "for csv in filecsv_list:\n",
        "  data = pd.read_csv(csv)\n",
        "  #calculate return\n",
        "  R[csv.strip('.csv')] = np.array([np.log(data['Adj Close'][j]/data['Adj Close'][j-1]) for j in range(1,len(data['Adj Close']))])\n",
        " "
      ],
      "execution_count": 0,
      "outputs": []
    },
    {
      "cell_type": "code",
      "metadata": {
        "id": "H7Yh4z3B8Diu",
        "colab_type": "code",
        "outputId": "a1c48d9e-fa8e-4618-8341-eebff0ba9c99",
        "colab": {
          "base_uri": "https://localhost:8080/",
          "height": 351
        }
      },
      "source": [
        "filecsv_list"
      ],
      "execution_count": 5,
      "outputs": [
        {
          "output_type": "execute_result",
          "data": {
            "text/plain": [
              "['DIS.csv',\n",
              " 'FB.csv',\n",
              " 'TEL.csv',\n",
              " 'PG.csv',\n",
              " 'BABA.csv',\n",
              " 'TM.csv',\n",
              " 'MCD.csv',\n",
              " 'JPM.csv',\n",
              " 'BRK-B.csv',\n",
              " 'WMT.csv',\n",
              " 'AAPL.csv',\n",
              " 'AEP.csv',\n",
              " 'VZ.csv',\n",
              " 'KO.csv',\n",
              " 'BAC.csv',\n",
              " 'AMD.csv',\n",
              " 'GOOG.csv',\n",
              " 'LULU.csv',\n",
              " 'SKX.csv',\n",
              " 'MAR.csv']"
            ]
          },
          "metadata": {
            "tags": []
          },
          "execution_count": 5
        }
      ]
    },
    {
      "cell_type": "code",
      "metadata": {
        "id": "oMA7bXF75eBY",
        "colab_type": "code",
        "colab": {}
      },
      "source": [
        "def ghm(R_expect,R_cov):\n",
        "  one = np.ones((len(R_expect),1))\n",
        "  A = np.dot(np.dot(one.reshape(1,-1),inv(R_cov)),R_expect)\n",
        "  B = np.dot(np.dot(R_expect.reshape(1,-1),inv(R_cov)),R_expect)\n",
        "  C = np.dot(np.dot(one.reshape(1,-1),inv(R_cov)),one)\n",
        "  D = B*C - A**2\n",
        "  g = (B * np.dot(inv(R_cov), one) - A* np.dot(inv(R_cov), R_expect))/D\n",
        "  h = (C * np.dot(inv(R_cov), R_expect) - A* np.dot(inv(R_cov), one))/D\n",
        "  min_sigma = np.dot(np.dot(g.reshape(1,-1),R_cov),g) - (np.dot(np.dot(h.reshape(1,-1),R_cov),g)**2)/np.dot(np.dot(h.reshape(1,-1),R_cov),h)\n",
        "  return g,h,min_sigma"
      ],
      "execution_count": 0,
      "outputs": []
    },
    {
      "cell_type": "code",
      "metadata": {
        "id": "vO3typylTR3q",
        "colab_type": "code",
        "colab": {}
      },
      "source": [
        "def effcientfrontier(g,h,R_cov,N1,N2):\n",
        "  sigma = []\n",
        "  mu = []\n",
        "  weight = []\n",
        "  before_ = np.inf\n",
        "  for i in range(N1,N2):\n",
        "      w = g + h*0.00000001*i\n",
        "      sigma_ = 250*np.dot(np.dot(w.reshape(1,-1),R_cov),w)[0][0]\n",
        "      if sigma_ > before_:\n",
        "        sigma.append(np.sqrt((np.exp(sigma_)-1)*np.exp(2*0.00000001*i*250 + sigma_))*100)\n",
        "        weight.append(w)\n",
        "        mu.append((np.exp(0.00000001*i*250 + sigma_/2)-1)*100)\n",
        "      before_ = sigma_\n",
        "  return sigma,mu,weight"
      ],
      "execution_count": 0,
      "outputs": []
    },
    {
      "cell_type": "code",
      "metadata": {
        "id": "EtOv7RHn6Wpr",
        "colab_type": "code",
        "outputId": "3cf53beb-b6bd-48ed-99ce-8bf4940c4790",
        "colab": {
          "base_uri": "https://localhost:8080/",
          "height": 295
        }
      },
      "source": [
        "#1 years effcientFronter\n",
        "R_cov =  np.array(R.cov())\n",
        "R_expect = np.array(R.mean()).reshape(-1,1)\n",
        "g1,h1,min_sigma1 = ghm(R_expect,R_cov)\n",
        "sigma1,mu1,weight1 = effcientfrontier(g1,h1,R_cov,2000,200000)\n",
        "plt.plot(sigma1,mu1)\n",
        "plt.ylabel(\"Expected return\")\n",
        "plt.xlabel(\"volatility\")\n",
        "plt.title(\"1 years EffcientFrontier\")\n",
        "plt.show()"
      ],
      "execution_count": 13,
      "outputs": [
        {
          "output_type": "display_data",
          "data": {
            "image/png": "[encoded data removed]",
            "text/plain": [
              "<Figure size 432x288 with 1 Axes>"
            ]
          },
          "metadata": {
            "tags": []
          }
        }
      ]
    },
    {
      "cell_type": "code",
      "metadata": {
        "id": "lBDtVHVSCO0V",
        "colab_type": "code",
        "outputId": "b63dfcbb-847b-4824-8834-d0713e13d978",
        "colab": {
          "base_uri": "https://localhost:8080/",
          "height": 351
        }
      },
      "source": [
        "weight1[0] # weight for minimum sigma(1 years)"
      ],
      "execution_count": 14,
      "outputs": [
        {
          "output_type": "execute_result",
          "data": {
            "text/plain": [
              "array([[-0.0259374 ],\n",
              "       [ 0.00510138],\n",
              "       [ 0.05428617],\n",
              "       [-0.00172208],\n",
              "       [ 0.00318445],\n",
              "       [ 0.28982075],\n",
              "       [ 0.12956305],\n",
              "       [ 0.03723046],\n",
              "       [ 0.0984162 ],\n",
              "       [ 0.04507686],\n",
              "       [-0.0759263 ],\n",
              "       [ 0.28910928],\n",
              "       [ 0.0767657 ],\n",
              "       [ 0.03314208],\n",
              "       [-0.01595163],\n",
              "       [-0.05776986],\n",
              "       [ 0.01977708],\n",
              "       [ 0.02570623],\n",
              "       [ 0.00750556],\n",
              "       [ 0.06262202]])"
            ]
          },
          "metadata": {
            "tags": []
          },
          "execution_count": 14
        }
      ]
    },
    {
      "cell_type": "code",
      "metadata": {
        "id": "9Od4e2oDClES",
        "colab_type": "code",
        "colab": {}
      },
      "source": [
        "R_copy = R.copy()\n",
        "vxx = pd.read_csv('VXX.csv')\n",
        "R_copy['VXX'] = np.array([((vxx['Adj Close'][j]/vxx['Adj Close'][j-1])-1) for j in range(1,len(vxx['Adj Close']))])"
      ],
      "execution_count": 0,
      "outputs": []
    },
    {
      "cell_type": "code",
      "metadata": {
        "id": "7wc4bp7dxndV",
        "colab_type": "code",
        "outputId": "fdc07a45-52e5-4a4d-a1a7-7eaeb145faa0",
        "colab": {
          "base_uri": "https://localhost:8080/",
          "height": 673
        }
      },
      "source": [
        "R_mean = pd.DataFrame()\n",
        "R_mean[\"1 year\"] = R_copy.mean()\n",
        "R_mean"
      ],
      "execution_count": 17,
      "outputs": [
        {
          "output_type": "execute_result",
          "data": {
            "text/html": [
              "<div>\n",
              "<style scoped>\n",
              "    .dataframe tbody tr th:only-of-type {\n",
              "        vertical-align: middle;\n",
              "    }\n",
              "\n",
              "    .dataframe tbody tr th {\n",
              "        vertical-align: top;\n",
              "    }\n",
              "\n",
              "    .dataframe thead th {\n",
              "        text-align: right;\n",
              "    }\n",
              "</style>\n",
              "<table border=\"1\" class=\"dataframe\">\n",
              "  <thead>\n",
              "    <tr style=\"text-align: right;\">\n",
              "      <th></th>\n",
              "      <th>1 year</th>\n",
              "    </tr>\n",
              "  </thead>\n",
              "  <tbody>\n",
              "    <tr>\n",
              "      <th>DIS</th>\n",
              "      <td>0.000728</td>\n",
              "    </tr>\n",
              "    <tr>\n",
              "      <th>FB</th>\n",
              "      <td>0.001200</td>\n",
              "    </tr>\n",
              "    <tr>\n",
              "      <th>TEL</th>\n",
              "      <td>0.000901</td>\n",
              "    </tr>\n",
              "    <tr>\n",
              "      <th>PG</th>\n",
              "      <td>0.001138</td>\n",
              "    </tr>\n",
              "    <tr>\n",
              "      <th>BABA</th>\n",
              "      <td>0.001086</td>\n",
              "    </tr>\n",
              "    <tr>\n",
              "      <th>TM</th>\n",
              "      <td>0.000894</td>\n",
              "    </tr>\n",
              "    <tr>\n",
              "      <th>MCD</th>\n",
              "      <td>0.000291</td>\n",
              "    </tr>\n",
              "    <tr>\n",
              "      <th>JPM</th>\n",
              "      <td>0.000845</td>\n",
              "    </tr>\n",
              "    <tr>\n",
              "      <th>BRK-B</th>\n",
              "      <td>0.000108</td>\n",
              "    </tr>\n",
              "    <tr>\n",
              "      <th>WMT</th>\n",
              "      <td>0.000645</td>\n",
              "    </tr>\n",
              "    <tr>\n",
              "      <th>AAPL</th>\n",
              "      <td>0.001235</td>\n",
              "    </tr>\n",
              "    <tr>\n",
              "      <th>AEP</th>\n",
              "      <td>0.000754</td>\n",
              "    </tr>\n",
              "    <tr>\n",
              "      <th>VZ</th>\n",
              "      <td>0.000209</td>\n",
              "    </tr>\n",
              "    <tr>\n",
              "      <th>KO</th>\n",
              "      <td>0.000311</td>\n",
              "    </tr>\n",
              "    <tr>\n",
              "      <th>BAC</th>\n",
              "      <td>0.000818</td>\n",
              "    </tr>\n",
              "    <tr>\n",
              "      <th>AMD</th>\n",
              "      <td>0.002592</td>\n",
              "    </tr>\n",
              "    <tr>\n",
              "      <th>GOOG</th>\n",
              "      <td>0.000936</td>\n",
              "    </tr>\n",
              "    <tr>\n",
              "      <th>LULU</th>\n",
              "      <td>0.001648</td>\n",
              "    </tr>\n",
              "    <tr>\n",
              "      <th>SKX</th>\n",
              "      <td>0.001265</td>\n",
              "    </tr>\n",
              "    <tr>\n",
              "      <th>MAR</th>\n",
              "      <td>0.000645</td>\n",
              "    </tr>\n",
              "    <tr>\n",
              "      <th>VXX</th>\n",
              "      <td>-0.001897</td>\n",
              "    </tr>\n",
              "  </tbody>\n",
              "</table>\n",
              "</div>"
            ],
            "text/plain": [
              "         1 year\n",
              "DIS    0.000728\n",
              "FB     0.001200\n",
              "TEL    0.000901\n",
              "PG     0.001138\n",
              "BABA   0.001086\n",
              "TM     0.000894\n",
              "MCD    0.000291\n",
              "JPM    0.000845\n",
              "BRK-B  0.000108\n",
              "WMT    0.000645\n",
              "AAPL   0.001235\n",
              "AEP    0.000754\n",
              "VZ     0.000209\n",
              "KO     0.000311\n",
              "BAC    0.000818\n",
              "AMD    0.002592\n",
              "GOOG   0.000936\n",
              "LULU   0.001648\n",
              "SKX    0.001265\n",
              "MAR    0.000645\n",
              "VXX   -0.001897"
            ]
          },
          "metadata": {
            "tags": []
          },
          "execution_count": 17
        }
      ]
    },
    {
      "cell_type": "code",
      "metadata": {
        "id": "NZSvKLjKyvEc",
        "colab_type": "code",
        "outputId": "13b8f1f0-b6f8-4bdb-e59e-64976c17409c",
        "colab": {
          "base_uri": "https://localhost:8080/",
          "height": 673
        }
      },
      "source": [
        "R_var = pd.DataFrame()\n",
        "R_var[\"1 year\"] = R_copy.var()\n",
        "R_var"
      ],
      "execution_count": 18,
      "outputs": [
        {
          "output_type": "execute_result",
          "data": {
            "text/html": [
              "<div>\n",
              "<style scoped>\n",
              "    .dataframe tbody tr th:only-of-type {\n",
              "        vertical-align: middle;\n",
              "    }\n",
              "\n",
              "    .dataframe tbody tr th {\n",
              "        vertical-align: top;\n",
              "    }\n",
              "\n",
              "    .dataframe thead th {\n",
              "        text-align: right;\n",
              "    }\n",
              "</style>\n",
              "<table border=\"1\" class=\"dataframe\">\n",
              "  <thead>\n",
              "    <tr style=\"text-align: right;\">\n",
              "      <th></th>\n",
              "      <th>1 year</th>\n",
              "    </tr>\n",
              "  </thead>\n",
              "  <tbody>\n",
              "    <tr>\n",
              "      <th>DIS</th>\n",
              "      <td>0.000205</td>\n",
              "    </tr>\n",
              "    <tr>\n",
              "      <th>FB</th>\n",
              "      <td>0.000404</td>\n",
              "    </tr>\n",
              "    <tr>\n",
              "      <th>TEL</th>\n",
              "      <td>0.000243</td>\n",
              "    </tr>\n",
              "    <tr>\n",
              "      <th>PG</th>\n",
              "      <td>0.000131</td>\n",
              "    </tr>\n",
              "    <tr>\n",
              "      <th>BABA</th>\n",
              "      <td>0.000407</td>\n",
              "    </tr>\n",
              "    <tr>\n",
              "      <th>TM</th>\n",
              "      <td>0.000088</td>\n",
              "    </tr>\n",
              "    <tr>\n",
              "      <th>MCD</th>\n",
              "      <td>0.000106</td>\n",
              "    </tr>\n",
              "    <tr>\n",
              "      <th>JPM</th>\n",
              "      <td>0.000171</td>\n",
              "    </tr>\n",
              "    <tr>\n",
              "      <th>BRK-B</th>\n",
              "      <td>0.000126</td>\n",
              "    </tr>\n",
              "    <tr>\n",
              "      <th>WMT</th>\n",
              "      <td>0.000114</td>\n",
              "    </tr>\n",
              "    <tr>\n",
              "      <th>AAPL</th>\n",
              "      <td>0.000360</td>\n",
              "    </tr>\n",
              "    <tr>\n",
              "      <th>AEP</th>\n",
              "      <td>0.000088</td>\n",
              "    </tr>\n",
              "    <tr>\n",
              "      <th>VZ</th>\n",
              "      <td>0.000126</td>\n",
              "    </tr>\n",
              "    <tr>\n",
              "      <th>KO</th>\n",
              "      <td>0.000132</td>\n",
              "    </tr>\n",
              "    <tr>\n",
              "      <th>BAC</th>\n",
              "      <td>0.000262</td>\n",
              "    </tr>\n",
              "    <tr>\n",
              "      <th>AMD</th>\n",
              "      <td>0.001349</td>\n",
              "    </tr>\n",
              "    <tr>\n",
              "      <th>GOOG</th>\n",
              "      <td>0.000285</td>\n",
              "    </tr>\n",
              "    <tr>\n",
              "      <th>LULU</th>\n",
              "      <td>0.000556</td>\n",
              "    </tr>\n",
              "    <tr>\n",
              "      <th>SKX</th>\n",
              "      <td>0.000660</td>\n",
              "    </tr>\n",
              "    <tr>\n",
              "      <th>MAR</th>\n",
              "      <td>0.000253</td>\n",
              "    </tr>\n",
              "    <tr>\n",
              "      <th>VXX</th>\n",
              "      <td>0.001550</td>\n",
              "    </tr>\n",
              "  </tbody>\n",
              "</table>\n",
              "</div>"
            ],
            "text/plain": [
              "         1 year\n",
              "DIS    0.000205\n",
              "FB     0.000404\n",
              "TEL    0.000243\n",
              "PG     0.000131\n",
              "BABA   0.000407\n",
              "TM     0.000088\n",
              "MCD    0.000106\n",
              "JPM    0.000171\n",
              "BRK-B  0.000126\n",
              "WMT    0.000114\n",
              "AAPL   0.000360\n",
              "AEP    0.000088\n",
              "VZ     0.000126\n",
              "KO     0.000132\n",
              "BAC    0.000262\n",
              "AMD    0.001349\n",
              "GOOG   0.000285\n",
              "LULU   0.000556\n",
              "SKX    0.000660\n",
              "MAR    0.000253\n",
              "VXX    0.001550"
            ]
          },
          "metadata": {
            "tags": []
          },
          "execution_count": 18
        }
      ]
    },
    {
      "cell_type": "code",
      "metadata": {
        "id": "RYLhQzN00NKi",
        "colab_type": "code",
        "outputId": "370a0c68-7242-4b91-f832-0b8614212236",
        "colab": {
          "base_uri": "https://localhost:8080/",
          "height": 673
        }
      },
      "source": [
        "R_sharpo = pd.DataFrame()\n",
        "rf = 0.0158\n",
        "rf_daily = (1 + rf)**(1/250) - 1\n",
        "R_sharpo[\"1 year\"] = (R_mean[\"1 year\"] - rf_daily )/R_var[\"1 year\"]\n",
        "R_sharpo "
      ],
      "execution_count": 19,
      "outputs": [
        {
          "output_type": "execute_result",
          "data": {
            "text/html": [
              "<div>\n",
              "<style scoped>\n",
              "    .dataframe tbody tr th:only-of-type {\n",
              "        vertical-align: middle;\n",
              "    }\n",
              "\n",
              "    .dataframe tbody tr th {\n",
              "        vertical-align: top;\n",
              "    }\n",
              "\n",
              "    .dataframe thead th {\n",
              "        text-align: right;\n",
              "    }\n",
              "</style>\n",
              "<table border=\"1\" class=\"dataframe\">\n",
              "  <thead>\n",
              "    <tr style=\"text-align: right;\">\n",
              "      <th></th>\n",
              "      <th>1 year</th>\n",
              "    </tr>\n",
              "  </thead>\n",
              "  <tbody>\n",
              "    <tr>\n",
              "      <th>DIS</th>\n",
              "      <td>3.249541</td>\n",
              "    </tr>\n",
              "    <tr>\n",
              "      <th>FB</th>\n",
              "      <td>2.815801</td>\n",
              "    </tr>\n",
              "    <tr>\n",
              "      <th>TEL</th>\n",
              "      <td>3.456271</td>\n",
              "    </tr>\n",
              "    <tr>\n",
              "      <th>PG</th>\n",
              "      <td>8.227577</td>\n",
              "    </tr>\n",
              "    <tr>\n",
              "      <th>BABA</th>\n",
              "      <td>2.516321</td>\n",
              "    </tr>\n",
              "    <tr>\n",
              "      <th>TM</th>\n",
              "      <td>9.476645</td>\n",
              "    </tr>\n",
              "    <tr>\n",
              "      <th>MCD</th>\n",
              "      <td>2.148034</td>\n",
              "    </tr>\n",
              "    <tr>\n",
              "      <th>JPM</th>\n",
              "      <td>4.585349</td>\n",
              "    </tr>\n",
              "    <tr>\n",
              "      <th>BRK-B</th>\n",
              "      <td>0.361690</td>\n",
              "    </tr>\n",
              "    <tr>\n",
              "      <th>WMT</th>\n",
              "      <td>5.105219</td>\n",
              "    </tr>\n",
              "    <tr>\n",
              "      <th>AAPL</th>\n",
              "      <td>3.256025</td>\n",
              "    </tr>\n",
              "    <tr>\n",
              "      <th>AEP</th>\n",
              "      <td>7.836984</td>\n",
              "    </tr>\n",
              "    <tr>\n",
              "      <th>VZ</th>\n",
              "      <td>1.162373</td>\n",
              "    </tr>\n",
              "    <tr>\n",
              "      <th>KO</th>\n",
              "      <td>1.878638</td>\n",
              "    </tr>\n",
              "    <tr>\n",
              "      <th>BAC</th>\n",
              "      <td>2.882479</td>\n",
              "    </tr>\n",
              "    <tr>\n",
              "      <th>AMD</th>\n",
              "      <td>1.875333</td>\n",
              "    </tr>\n",
              "    <tr>\n",
              "      <th>GOOG</th>\n",
              "      <td>3.066950</td>\n",
              "    </tr>\n",
              "    <tr>\n",
              "      <th>LULU</th>\n",
              "      <td>2.851332</td>\n",
              "    </tr>\n",
              "    <tr>\n",
              "      <th>SKX</th>\n",
              "      <td>1.821931</td>\n",
              "    </tr>\n",
              "    <tr>\n",
              "      <th>MAR</th>\n",
              "      <td>2.300079</td>\n",
              "    </tr>\n",
              "    <tr>\n",
              "      <th>VXX</th>\n",
              "      <td>-1.263725</td>\n",
              "    </tr>\n",
              "  </tbody>\n",
              "</table>\n",
              "</div>"
            ],
            "text/plain": [
              "         1 year\n",
              "DIS    3.249541\n",
              "FB     2.815801\n",
              "TEL    3.456271\n",
              "PG     8.227577\n",
              "BABA   2.516321\n",
              "TM     9.476645\n",
              "MCD    2.148034\n",
              "JPM    4.585349\n",
              "BRK-B  0.361690\n",
              "WMT    5.105219\n",
              "AAPL   3.256025\n",
              "AEP    7.836984\n",
              "VZ     1.162373\n",
              "KO     1.878638\n",
              "BAC    2.882479\n",
              "AMD    1.875333\n",
              "GOOG   3.066950\n",
              "LULU   2.851332\n",
              "SKX    1.821931\n",
              "MAR    2.300079\n",
              "VXX   -1.263725"
            ]
          },
          "metadata": {
            "tags": []
          },
          "execution_count": 19
        }
      ]
    },
    {
      "cell_type": "code",
      "metadata": {
        "id": "twFh1236SXgQ",
        "colab_type": "code",
        "outputId": "81987228-614f-42ae-85c0-60d7108eee04",
        "colab": {
          "base_uri": "https://localhost:8080/",
          "height": 295
        }
      },
      "source": [
        "#1 years effcientFronter with VXX\n",
        "R_cov4 =  np.array(R_copy.cov())\n",
        "R_expect4 = np.array(R_copy.mean()).reshape(-1,1)\n",
        "g4,h4,min_sigma4 = ghm(R_expect4,R_cov4)\n",
        "sigma_v,mu_v,weight_v = effcientfrontier(g4,h4,R_cov4,2000,200000)\n",
        "plt.plot(sigma_v,mu_v)\n",
        "plt.ylabel(\"Expected return\")\n",
        "plt.xlabel(\"volatility\")\n",
        "plt.title(\"1 years EffcientFrontier with VXX\")\n",
        "plt.show()"
      ],
      "execution_count": 20,
      "outputs": [
        {
          "output_type": "display_data",
          "data": {
            "image/png": "[encoded data removed]",
            "text/plain": [
              "<Figure size 432x288 with 1 Axes>"
            ]
          },
          "metadata": {
            "tags": []
          }
        }
      ]
    },
    {
      "cell_type": "code",
      "metadata": {
        "id": "Fva3Z0u0Jj_M",
        "colab_type": "code",
        "colab": {}
      },
      "source": [
        "#Find the maximun sharpe ratio\n",
        "def sharpe_ratio(sigma_v,mu_v,rf):\n",
        "  sharpe = 0\n",
        "  m = 0\n",
        "  for i in range(len(sigma_v)):\n",
        "    k_t = (mu_v[i] - rf*100)/sigma_v[i]\n",
        "    if k_t > sharpe:\n",
        "      sharpe = k_t\n",
        "      m = i\n",
        "  return sharpe,m\n"
      ],
      "execution_count": 0,
      "outputs": []
    },
    {
      "cell_type": "code",
      "metadata": {
        "id": "tFstPZqNacdJ",
        "colab_type": "code",
        "outputId": "5c1c4a56-9deb-41cf-ae2d-3f973a4cf149",
        "colab": {
          "base_uri": "https://localhost:8080/",
          "height": 295
        }
      },
      "source": [
        "rf = 0.0158 # Choose 1 year US treasury rate as risk free rate\n",
        "sigma_x = np.linspace(7,25,1000).reshape(-1,1)\n",
        "sharpe,index_ = sharpe_ratio(sigma_v,mu_v,rf)\n",
        "targent_v = (sharpe * sigma_x + rf*100).reshape(-1,1)\n",
        "plt.plot(sigma_x,targent_v,label = \"Capital Market Line\")\n",
        "plt.plot(sigma_v,mu_v,label = \"Efficient Froniter\")\n",
        "plt.scatter(sigma_v[index_], mu_v[index_], color='r',marker = \"x\")\n",
        "plt.text(sigma_v[index_], mu_v[index_],'Tangency portfolio',ha='left',fontsize=10)\n",
        "plt.ylabel(\"Expected return\")\n",
        "plt.xlabel(\"Standard volatility\")\n",
        "plt.title(\"1 years EffcientFrontier with VXX\")\n",
        "plt.legend()\n",
        "plt.show()\n"
      ],
      "execution_count": 22,
      "outputs": [
        {
          "output_type": "display_data",
          "data": {
            "image/png": "[encoded data removed]",
            "text/plain": [
              "<Figure size 432x288 with 1 Axes>"
            ]
          },
          "metadata": {
            "tags": []
          }
        }
      ]
    },
    {
      "cell_type": "code",
      "metadata": {
        "id": "RAPvmN3AkY9C",
        "colab_type": "code",
        "outputId": "f8dd516b-8dda-4cfa-da45-fdf601a30147",
        "colab": {
          "base_uri": "https://localhost:8080/",
          "height": 368
        }
      },
      "source": [
        "weight_v[index_]  # weight for tangency portfoilo"
      ],
      "execution_count": 24,
      "outputs": [
        {
          "output_type": "execute_result",
          "data": {
            "text/plain": [
              "array([[ 0.00417826],\n",
              "       [-0.0264156 ],\n",
              "       [ 0.08890969],\n",
              "       [ 0.27091205],\n",
              "       [ 0.02279532],\n",
              "       [ 0.25941112],\n",
              "       [ 0.00469114],\n",
              "       [ 0.34364114],\n",
              "       [-0.50027516],\n",
              "       [ 0.05604467],\n",
              "       [ 0.10588413],\n",
              "       [ 0.27489282],\n",
              "       [-0.07230823],\n",
              "       [-0.03618323],\n",
              "       [-0.02655899],\n",
              "       [ 0.03715088],\n",
              "       [ 0.00617669],\n",
              "       [ 0.07908305],\n",
              "       [ 0.02712359],\n",
              "       [-0.02710167],\n",
              "       [ 0.10794835]])"
            ]
          },
          "metadata": {
            "tags": []
          },
          "execution_count": 24
        }
      ]
    },
    {
      "cell_type": "code",
      "metadata": {
        "id": "38tT3HgfUWrw",
        "colab_type": "code",
        "colab": {
          "base_uri": "https://localhost:8080/",
          "height": 351
        },
        "outputId": "7ed05244-a6ff-4f2e-a195-e2c92684b116"
      },
      "source": [
        "filecsv_list"
      ],
      "execution_count": 28,
      "outputs": [
        {
          "output_type": "execute_result",
          "data": {
            "text/plain": [
              "['DIS.csv',\n",
              " 'FB.csv',\n",
              " 'TEL.csv',\n",
              " 'PG.csv',\n",
              " 'BABA.csv',\n",
              " 'TM.csv',\n",
              " 'MCD.csv',\n",
              " 'JPM.csv',\n",
              " 'BRK-B.csv',\n",
              " 'WMT.csv',\n",
              " 'AAPL.csv',\n",
              " 'AEP.csv',\n",
              " 'VZ.csv',\n",
              " 'KO.csv',\n",
              " 'BAC.csv',\n",
              " 'AMD.csv',\n",
              " 'GOOG.csv',\n",
              " 'LULU.csv',\n",
              " 'SKX.csv',\n",
              " 'MAR.csv']"
            ]
          },
          "metadata": {
            "tags": []
          },
          "execution_count": 28
        }
      ]
    },
    {
      "cell_type": "code",
      "metadata": {
        "id": "6bUi1CHqUIar",
        "colab_type": "code",
        "colab": {
          "base_uri": "https://localhost:8080/",
          "height": 368
        },
        "outputId": "30ea31aa-1e7b-4a09-b601-8d9953f7a4b3"
      },
      "source": [
        "weight_v[index_]*500000"
      ],
      "execution_count": 27,
      "outputs": [
        {
          "output_type": "execute_result",
          "data": {
            "text/plain": [
              "array([[   2089.1278969 ],\n",
              "       [ -13207.79962763],\n",
              "       [  44454.84682613],\n",
              "       [ 135456.02263072],\n",
              "       [  11397.6580713 ],\n",
              "       [ 129705.56054477],\n",
              "       [   2345.5690904 ],\n",
              "       [ 171820.57024838],\n",
              "       [-250137.57844129],\n",
              "       [  28022.3340708 ],\n",
              "       [  52942.06253231],\n",
              "       [ 137446.40918201],\n",
              "       [ -36154.11390515],\n",
              "       [ -18091.61522142],\n",
              "       [ -13279.49295108],\n",
              "       [  18575.43903261],\n",
              "       [   3088.34259836],\n",
              "       [  39541.52258879],\n",
              "       [  13561.79727925],\n",
              "       [ -13550.83530922],\n",
              "       [  53974.17286306]])"
            ]
          },
          "metadata": {
            "tags": []
          },
          "execution_count": 27
        }
      ]
    },
    {
      "cell_type": "code",
      "metadata": {
        "id": "2boQs70wJWw_",
        "colab_type": "code",
        "outputId": "951e3e40-5c62-4fe4-b916-f299ca143e41",
        "colab": {
          "base_uri": "https://localhost:8080/",
          "height": 33
        }
      },
      "source": [
        "np.sum(np.abs(weight_v[index_]))/np.sum(weight_v[index_]) #leverage for the tangency portfoilo"
      ],
      "execution_count": 25,
      "outputs": [
        {
          "output_type": "execute_result",
          "data": {
            "text/plain": [
              "2.377685741823172"
            ]
          },
          "metadata": {
            "tags": []
          },
          "execution_count": 25
        }
      ]
    }
  ]
}