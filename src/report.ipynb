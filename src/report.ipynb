{
  "nbformat": 4,
  "nbformat_minor": 0,
  "metadata": {
    "colab": {
      "name": "report.ipynb",
      "provenance": [],
      "collapsed_sections": [],
      "include_colab_link": true
    },
    "kernelspec": {
      "name": "python3",
      "display_name": "Python 3"
    }
  },
  "cells": [
    {
      "cell_type": "markdown",
      "metadata": {
        "id": "view-in-github",
        "colab_type": "text"
      },
      "source": [
        "<a href=\"https://colab.research.google.com/github/wqiu96/MA574_Portfolio-Valuation-and-Risk-Management/blob/master/src/report.ipynb\" target=\"_parent\"><img src=\"https://colab.research.google.com/assets/colab-badge.svg\" alt=\"Open In Colab\"/></a>"
      ]
    },
    {
      "cell_type": "code",
      "metadata": {
        "id": "rU4SOUVu1scX",
        "colab_type": "code",
        "colab": {}
      },
      "source": [
        "import numpy as np\n",
        "import pandas as pd\n",
        "import datetime\n",
        "import matplotlib.pyplot as plt\n",
        "from numpy.linalg import *\n",
        "import os"
      ],
      "execution_count": 0,
      "outputs": []
    },
    {
      "cell_type": "code",
      "metadata": {
        "id": "9LIMuP9GQTfe",
        "colab_type": "code",
        "outputId": "a8b20c24-986a-46ca-8ce0-2ce57a49c023",
        "colab": {
          "base_uri": "https://localhost:8080/",
          "height": 134
        }
      },
      "source": [
        "!git clone https://github.com/wqiu96/MA574_Portfolio-Valuation-and-Risk-Management.git"
      ],
      "execution_count": 2,
      "outputs": [
        {
          "output_type": "stream",
          "text": [
            "Cloning into 'MA574_Portfolio-Valuation-and-Risk-Management'...\n",
            "remote: Enumerating objects: 4, done.\u001b[K\n",
            "remote: Counting objects: 100% (4/4), done.\u001b[K\n",
            "remote: Compressing objects: 100% (4/4), done.\u001b[K\n",
            "remote: Total 941 (delta 0), reused 0 (delta 0), pack-reused 937\u001b[K\n",
            "Receiving objects: 100% (941/941), 3.79 MiB | 21.90 MiB/s, done.\n",
            "Resolving deltas: 100% (438/438), done.\n"
          ],
          "name": "stdout"
        }
      ]
    },
    {
      "cell_type": "code",
      "metadata": {
        "id": "lB5zkAzxQb8C",
        "colab_type": "code",
        "outputId": "88b07fab-a5b1-4f31-dc05-b8a752869f9f",
        "colab": {
          "base_uri": "https://localhost:8080/",
          "height": 33
        }
      },
      "source": [
        "cd MA574_Portfolio-Valuation-and-Risk-Management/src/project3/report/"
      ],
      "execution_count": 3,
      "outputs": [
        {
          "output_type": "stream",
          "text": [
            "/content/MA574_Portfolio-Valuation-and-Risk-Management/src/project3/report\n"
          ],
          "name": "stdout"
        }
      ]
    },
    {
      "cell_type": "code",
      "metadata": {
        "id": "4ZXd_iuoQqvV",
        "colab_type": "code",
        "colab": {}
      },
      "source": [
        "os.chdir('/content/MA574_Portfolio-Valuation-and-Risk-Management/src/project3/report')\n",
        "file_chdir = os.getcwd()\n",
        "filecsv_list = []\n",
        "for root,dirs,files in os.walk(file_chdir):\n",
        "  for file in files:\n",
        "    if os.path.splitext(file)[1] == '.csv':\n",
        "      filecsv_list.append(file)\n",
        "for csv in filecsv_list:\n",
        "  vars()[csv.strip('.csv')] = pd.read_csv(csv)\n"
      ],
      "execution_count": 0,
      "outputs": []
    },
    {
      "cell_type": "code",
      "metadata": {
        "id": "Le-OYzr6m2Li",
        "colab_type": "code",
        "outputId": "2db6ce38-af98-4670-db60-ab89eda2fa72",
        "colab": {
          "base_uri": "https://localhost:8080/",
          "height": 33
        }
      },
      "source": [
        "filecsv_list"
      ],
      "execution_count": 5,
      "outputs": [
        {
          "output_type": "execute_result",
          "data": {
            "text/plain": [
              "['portfolio.csv', 'SP500.csv']"
            ]
          },
          "metadata": {
            "tags": []
          },
          "execution_count": 5
        }
      ]
    },
    {
      "cell_type": "code",
      "metadata": {
        "id": "UivWewGhocHt",
        "colab_type": "code",
        "colab": {}
      },
      "source": [
        "portfolio['date'] = pd.to_datetime(portfolio['date'],format='%Y%m%d')"
      ],
      "execution_count": 0,
      "outputs": []
    },
    {
      "cell_type": "code",
      "metadata": {
        "id": "w4I4JPVNomwu",
        "colab_type": "code",
        "outputId": "42f69c7e-7e93-4ae7-c392-aed376d38d8d",
        "colab": {
          "base_uri": "https://localhost:8080/",
          "height": 480
        }
      },
      "source": [
        "#week to week profermance\n",
        "plt.plot(portfolio['date'],portfolio['Net Value'],color = 'b')\n",
        "plt.xticks(rotation=90)\n",
        "plt.xlabel('Date')\n",
        "plt.ylabel('Net value')\n",
        "plt.title('Markowitz performance')\n",
        "plt.axvline(portfolio['date'][1],color = 'r',  linestyle='--')\n",
        "plt.axvline(portfolio['date'][6],color = 'r',  linestyle='--')\n",
        "plt.axvline(portfolio['date'][11],color = 'r',  linestyle='--')\n",
        "plt.axvline(portfolio['date'][16],color = 'r',  linestyle='--')\n",
        "plt.axvline(portfolio['date'][20],color = 'r',  linestyle='--')\n",
        "plt.ylim(992000,1010000)\n",
        "plt.text(portfolio['date'][2], 1008000, 'Week1',\n",
        "         fontdict={'size': 14, 'color': 'y'})\n",
        "plt.text(portfolio['date'][7], 1008000, 'Week2',\n",
        "         fontdict={'size': 14, 'color': 'y'})\n",
        "plt.text(portfolio['date'][12], 1008000, 'Week3',\n",
        "         fontdict={'size': 14, 'color': 'y'})\n",
        "plt.text(portfolio['date'][17], 1008000, 'Week4',\n",
        "         fontdict={'size': 14, 'color': 'y'})\n",
        "plt.text(portfolio['date'][21], 1008000, 'Week5',\n",
        "         fontdict={'size': 14, 'color': 'y'})\n",
        "plt.figure(figsize = (600,500))\n",
        "plt.show()"
      ],
      "execution_count": 7,
      "outputs": [
        {
          "output_type": "stream",
          "text": [
            "/usr/local/lib/python3.6/dist-packages/pandas/plotting/_matplotlib/converter.py:103: FutureWarning: Using an implicitly registered datetime converter for a matplotlib plotting method. The converter was registered by pandas on import. Future versions of pandas will require you to explicitly register matplotlib converters.\n",
            "\n",
            "To register the converters:\n",
            "\t>>> from pandas.plotting import register_matplotlib_converters\n",
            "\t>>> register_matplotlib_converters()\n",
            "  warnings.warn(msg, FutureWarning)\n"
          ],
          "name": "stderr"
        },
        {
          "output_type": "display_data",
          "data": {
            "image/png": "[encoded data removed]",
            "text/plain": [
              "<Figure size 432x288 with 1 Axes>"
            ]
          },
          "metadata": {
            "tags": []
          }
        },
        {
          "output_type": "display_data",
          "data": {
            "text/plain": [
              "<Figure size 43200x36000 with 0 Axes>"
            ]
          },
          "metadata": {
            "tags": []
          }
        }
      ]
    },
    {
      "cell_type": "code",
      "metadata": {
        "id": "mbWYd-Ihyq0U",
        "colab_type": "code",
        "colab": {}
      },
      "source": [
        "daily_return = np.array([np.log(portfolio['Net Value'][i]/portfolio['Prior Value'][i]) for i in range(1,portfolio.shape[0])])"
      ],
      "execution_count": 0,
      "outputs": []
    },
    {
      "cell_type": "code",
      "metadata": {
        "id": "mExj1bCj5LQn",
        "colab_type": "code",
        "colab": {
          "base_uri": "https://localhost:8080/",
          "height": 313
        },
        "outputId": "6dda6a1e-e483-49b8-99a4-6d3650d0d5bc"
      },
      "source": [
        "counts_daily, bins_daily, bars_daily = plt.hist(daily_return,bins = 15,color = 'r', weights = [1./len(daily_return)]*len(daily_return))\n",
        "plt.xlabel('daily return distribution')\n",
        "plt.ylabel('Probability')\n",
        "plt.figure()"
      ],
      "execution_count": 9,
      "outputs": [
        {
          "output_type": "execute_result",
          "data": {
            "text/plain": [
              "<Figure size 432x288 with 0 Axes>"
            ]
          },
          "metadata": {
            "tags": []
          },
          "execution_count": 9
        },
        {
          "output_type": "display_data",
          "data": {
            "image/png": "[encoded data removed]",
            "text/plain": [
              "<Figure size 432x288 with 1 Axes>"
            ]
          },
          "metadata": {
            "tags": []
          }
        },
        {
          "output_type": "display_data",
          "data": {
            "text/plain": [
              "<Figure size 432x288 with 0 Axes>"
            ]
          },
          "metadata": {
            "tags": []
          }
        }
      ]
    },
    {
      "cell_type": "code",
      "metadata": {
        "id": "yOr_4jSXzEJN",
        "colab_type": "code",
        "outputId": "00a82d05-3391-4e46-d72f-890496ae357d",
        "colab": {
          "base_uri": "https://localhost:8080/",
          "height": 33
        }
      },
      "source": [
        "#sharpe ratio for portfolio\n",
        "rf = (1+0.0156)**(1/365) - 1\n",
        "mu_p = (portfolio['Net Value'][24]/portfolio['Net Value'][0])**(1/24)-1\n",
        "P_sharoe_ratio = (mu_p - rf)/np.sqrt(np.var(daily_return))\n",
        "#sharpe ratio for market\n",
        "market_return = np.array([np.log(SP500['Adj Close'][i+1]/SP500['Adj Close'][i]) for i in range(SP500.shape[0]-1)])\n",
        "m_r = (SP500['Adj Close'][23]/SP500['Adj Close'][0])**(1/24)-1\n",
        "M_sharoe_ratio = (m_r - rf)/np.sqrt(np.var(market_return))\n",
        "print(\"Sharpe ratio for portfolio is %f, Sharpe ratio for portfolio is %f\"%(P_sharoe_ratio,M_sharoe_ratio))"
      ],
      "execution_count": 10,
      "outputs": [
        {
          "output_type": "stream",
          "text": [
            "Sharpe ratio for portfolio is 0.020312, Sharpe ratio for portfolio is 0.150987\n"
          ],
          "name": "stdout"
        }
      ]
    },
    {
      "cell_type": "code",
      "metadata": {
        "id": "yKkPQYA04ipJ",
        "colab_type": "code",
        "outputId": "a381167a-e52b-4209-a408-3d76dc2800da",
        "colab": {
          "base_uri": "https://localhost:8080/",
          "height": 33
        }
      },
      "source": [
        "#Treynor ratio\n",
        "beta_p = np.cov(daily_return,market_return)[0,1]/np.var(daily_return)\n",
        "Treynor_ratio = (mu_p - rf)/beta_p\n",
        "print(\"Treynor ratio for portfolio is %f\"%Treynor_ratio)\n",
        "#Treynor ratio for SP500 is just equal to mu_p - rf"
      ],
      "execution_count": 11,
      "outputs": [
        {
          "output_type": "stream",
          "text": [
            "Treynor ratio for portfolio is -0.000419\n"
          ],
          "name": "stdout"
        }
      ]
    },
    {
      "cell_type": "code",
      "metadata": {
        "id": "LP-pxkEEhLuI",
        "colab_type": "code",
        "colab": {
          "base_uri": "https://localhost:8080/",
          "height": 33
        },
        "outputId": "736f640d-6518-42b9-bfc0-7f467689ed35"
      },
      "source": [
        "#information ratio\n",
        "Information_ratio = (mu_p - m_r)/np.sqrt(np.var(daily_return-market_return))\n",
        "print(\"Treynor ratio for portfolio is %f\"%Information_ratio)\n",
        "#we use market_return as benchmark, so market_return do not have information ratio"
      ],
      "execution_count": 12,
      "outputs": [
        {
          "output_type": "stream",
          "text": [
            "Treynor ratio for portfolio is -0.109407\n"
          ],
          "name": "stdout"
        }
      ]
    },
    {
      "cell_type": "code",
      "metadata": {
        "id": "XSGDEm7oh1My",
        "colab_type": "code",
        "colab": {
          "base_uri": "https://localhost:8080/",
          "height": 67
        },
        "outputId": "0b69ec06-9508-4a13-eca8-c26c357b6c54"
      },
      "source": [
        "#Sortine ratio with market_return as benchmark\n",
        "sigma_negivate = np.mean(np.where((daily_return - m_r) < 0,daily_return - m_r,0)**2)\n",
        "Sortine_ratio = (mu_p - m_r)/np.sqrt(sigma_negivate)\n",
        "print(\"Sortine ratio for portfolio is %f (market_return as benchmark)\"%Sortine_ratio)\n",
        "\n",
        "#Sortine ratio with risk free as benchmark\n",
        "sigma_negivate = np.mean(np.where((daily_return - rf) < 0,daily_return - rf,0)**2)\n",
        "Sortine_ratio = (mu_p - rf)/np.sqrt(sigma_negivate)\n",
        "print(\"Sortine ratio for portfolio is %f (risk free as benchmark)\"%Sortine_ratio)\n",
        "\n",
        "\n",
        "#Sortine ratio with market_return as benchmark\n",
        "sigma_negivate = np.mean(np.where((market_return - rf) < 0,market_return - rf,0)**2)\n",
        "Sortine_ratio = (m_r - rf)/np.sqrt(sigma_negivate)\n",
        "print(\"Sortine ratio for SP500 is %f (risk free as benchmark)\"%Sortine_ratio)"
      ],
      "execution_count": 13,
      "outputs": [
        {
          "output_type": "stream",
          "text": [
            "Sortine ratio for portfolio is -0.254676 (market_return as benchmark)\n",
            "Sortine ratio for portfolio is 0.030260 (risk free as benchmark)\n",
            "Sortine ratio for SP500 is 0.247038 (risk free as benchmark)\n"
          ],
          "name": "stdout"
        }
      ]
    },
    {
      "cell_type": "code",
      "metadata": {
        "id": "AVZYPd7-qgHX",
        "colab_type": "code",
        "colab": {
          "base_uri": "https://localhost:8080/",
          "height": 50
        },
        "outputId": "b40c539a-53ef-4794-8bc2-ab23d4bf7b30"
      },
      "source": [
        "#Maximum drawdrom\n",
        "Max_drawdrom = 0\n",
        "index1,index2 = 0,0\n",
        "for i in range(portfolio.shape[0]-1):\n",
        "  for j in range(i+1,portfolio.shape[0]):\n",
        "    if ((portfolio['Net Value'][i] - portfolio['Net Value'][j]) > Max_drawdrom):\n",
        "      Max_drawdrom = portfolio['Net Value'][i] - portfolio['Net Value'][j]\n",
        "      index1,index2 = i,j\n",
        "print(\"Maximum drawdrom for portfolio is %f between %s and %s\"%(Max_drawdrom,portfolio['date'][index1],portfolio['date'][index2]))\n",
        "\n",
        "\n",
        "Max_drawdrom_market = 0\n",
        "index3,index4 = 0,0\n",
        "for i in range(SP500.shape[0]-1):\n",
        "  for j in range(i+1,SP500.shape[0]):\n",
        "    if ((SP500['Adj Close'][i] - SP500['Adj Close'][j]) > Max_drawdrom_market):\n",
        "      Max_drawdrom_market = (SP500['Adj Close'][i] - SP500['Adj Close'][j])*portfolio['Net Value'][0]/SP500['Adj Close'][0]\n",
        "      index3,index4 = i,j\n",
        "\n",
        "print(\"Maximum drawdrom for SP500 is %f between %s and %s\"%(Max_drawdrom_market,portfolio['date'][index3],portfolio['date'][index4]))     "
      ],
      "execution_count": 14,
      "outputs": [
        {
          "output_type": "stream",
          "text": [
            "Maximum drawdrom for portfolio is 9550.524500 between 2019-11-03 00:00:00 and 2019-11-12 00:00:00\n",
            "Maximum drawdrom for SP500 is 1193.292424 between 2019-11-04 00:00:00 and 2019-11-05 00:00:00\n"
          ],
          "name": "stdout"
        }
      ]
    },
    {
      "cell_type": "code",
      "metadata": {
        "id": "-52LyUaDxtcV",
        "colab_type": "code",
        "colab": {
          "base_uri": "https://localhost:8080/",
          "height": 33
        },
        "outputId": "915a7e18-c067-40ab-df59-261a62b96cf9"
      },
      "source": [
        "#Analysis of portfolio alpha and beta\n",
        "beta,alpha = np.polyfit(daily_return - rf,market_return - rf,1)\n",
        "print(\"Alpha and beta of this portfolio is %f and %f\"%(alpha,beta))"
      ],
      "execution_count": 15,
      "outputs": [
        {
          "output_type": "stream",
          "text": [
            "Alpha and beta of this portfolio is 0.001025 and -0.132447\n"
          ],
          "name": "stdout"
        }
      ]
    },
    {
      "cell_type": "code",
      "metadata": {
        "id": "P_wxWOH92qw5",
        "colab_type": "code",
        "colab": {
          "base_uri": "https://localhost:8080/",
          "height": 344
        },
        "outputId": "a70f8242-a67b-4986-d2d6-aff20a95b19f"
      },
      "source": [
        "#Leverage\n",
        "Leverage = np.array([(portfolio['Long'][i]+abs(portfolio['Short'][i]))/portfolio['Net Value'][i] for i in range(1,portfolio.shape[0]-1)])\n",
        "plt.plot(portfolio['date'][1:-1],Leverage,color = 'b')\n",
        "plt.xticks(rotation = 90)\n",
        "plt.xlabel('Date')\n",
        "plt.ylabel('Leverage')\n",
        "plt.axvline(portfolio['date'][1],color = 'r',  linestyle='--')\n",
        "plt.axvline(portfolio['date'][6],color = 'r',  linestyle='--')\n",
        "plt.axvline(portfolio['date'][11],color = 'r',  linestyle='--')\n",
        "plt.axvline(portfolio['date'][16],color = 'r',  linestyle='--')\n",
        "plt.axvline(portfolio['date'][20],color = 'r',  linestyle='--')\n",
        "plt.text(portfolio['date'][2], 1.6, 'Week1',\n",
        "         fontdict={'size': 14, 'color': 'y'})\n",
        "plt.text(portfolio['date'][7], 1.6, 'Week2',\n",
        "         fontdict={'size': 14, 'color': 'y'})\n",
        "plt.text(portfolio['date'][12], 1.6, 'Week3',\n",
        "         fontdict={'size': 14, 'color': 'y'})\n",
        "plt.text(portfolio['date'][17], 1.6, 'Week4',\n",
        "         fontdict={'size': 14, 'color': 'y'})\n",
        "plt.text(portfolio['date'][21], 1.6, 'Week5',\n",
        "         fontdict={'size': 14, 'color': 'y'})\n",
        "plt.figure(figsize = (600,500))\n",
        "plt.show()"
      ],
      "execution_count": 16,
      "outputs": [
        {
          "output_type": "display_data",
          "data": {
            "image/png": "[encoded data removed]",
            "text/plain": [
              "<Figure size 432x288 with 1 Axes>"
            ]
          },
          "metadata": {
            "tags": []
          }
        },
        {
          "output_type": "display_data",
          "data": {
            "text/plain": [
              "<Figure size 43200x36000 with 0 Axes>"
            ]
          },
          "metadata": {
            "tags": []
          }
        }
      ]
    }
  ]
}