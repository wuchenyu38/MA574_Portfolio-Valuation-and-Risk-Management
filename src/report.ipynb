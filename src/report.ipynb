{
  "nbformat": 4,
  "nbformat_minor": 0,
  "metadata": {
    "colab": {
      "name": "report.ipynb",
      "provenance": [],
      "include_colab_link": true
    },
    "kernelspec": {
      "name": "python3",
      "display_name": "Python 3"
    }
  },
  "cells": [
    {
      "cell_type": "markdown",
      "metadata": {
        "id": "view-in-github",
        "colab_type": "text"
      },
      "source": [
        "<a href=\"https://colab.research.google.com/github/wqiu96/MA574_Portfolio-Valuation-and-Risk-Management/blob/master/src/report.ipynb\" target=\"_parent\"><img src=\"https://colab.research.google.com/assets/colab-badge.svg\" alt=\"Open In Colab\"/></a>"
      ]
    },
    {
      "cell_type": "code",
      "metadata": {
        "id": "rU4SOUVu1scX",
        "colab_type": "code",
        "colab": {}
      },
      "source": [
        "import numpy as np\n",
        "import pandas as pd\n",
        "import matplotlib.pyplot as plt\n",
        "from numpy.linalg import *\n",
        "import os"
      ],
      "execution_count": 0,
      "outputs": []
    },
    {
      "cell_type": "code",
      "metadata": {
        "id": "9LIMuP9GQTfe",
        "colab_type": "code",
        "colab": {
          "base_uri": "https://localhost:8080/",
          "height": 134
        },
        "outputId": "592b17a5-5e03-4743-8041-480b99ea8237"
      },
      "source": [
        "!git clone https://github.com/wqiu96/MA574_Portfolio-Valuation-and-Risk-Management.git"
      ],
      "execution_count": 2,
      "outputs": [
        {
          "output_type": "stream",
          "text": [
            "Cloning into 'MA574_Portfolio-Valuation-and-Risk-Management'...\n",
            "remote: Enumerating objects: 26, done.\u001b[K\n",
            "remote: Counting objects: 100% (26/26), done.\u001b[K\n",
            "remote: Compressing objects: 100% (26/26), done.\u001b[K\n",
            "remote: Total 790 (delta 0), reused 0 (delta 0), pack-reused 764\u001b[K\n",
            "Receiving objects: 100% (790/790), 3.70 MiB | 5.59 MiB/s, done.\n",
            "Resolving deltas: 100% (355/355), done.\n"
          ],
          "name": "stdout"
        }
      ]
    },
    {
      "cell_type": "code",
      "metadata": {
        "id": "lB5zkAzxQb8C",
        "colab_type": "code",
        "colab": {
          "base_uri": "https://localhost:8080/",
          "height": 33
        },
        "outputId": "d5654954-f373-48ea-86a0-7cdf0ef799aa"
      },
      "source": [
        "cd MA574_Portfolio-Valuation-and-Risk-Management/src/project3/report/"
      ],
      "execution_count": 3,
      "outputs": [
        {
          "output_type": "stream",
          "text": [
            "/content/MA574_Portfolio-Valuation-and-Risk-Management/src/project3/report\n"
          ],
          "name": "stdout"
        }
      ]
    },
    {
      "cell_type": "code",
      "metadata": {
        "id": "4ZXd_iuoQqvV",
        "colab_type": "code",
        "colab": {}
      },
      "source": [
        "os.chdir('/content/MA574_Portfolio-Valuation-and-Risk-Management/src/project3/report')\n",
        "file_chdir = os.getcwd()\n",
        "filecsv_list = []\n",
        "for root,dirs,files in os.walk(file_chdir):\n",
        "  for file in files:\n",
        "    if os.path.splitext(file)[1] == '.csv':\n",
        "      filecsv_list.append(file)\n",
        "R = pd.DataFrame()\n",
        "for csv in filecsv_list:\n",
        "  data = pd.read_csv(csv)\n",
        "  R[csv.strip('.csv')] = data['Adj Close']\n"
      ],
      "execution_count": 0,
      "outputs": []
    },
    {
      "cell_type": "code",
      "metadata": {
        "id": "dsG1i0oZy33j",
        "colab_type": "code",
        "colab": {}
      },
      "source": [
        "week1 = np.array([[   2620.41838146],[   2899.10478588],[  17122.98774791],[  -1166.27789306],[  37710.71208477],[  -4781.55759772],[  20750.36868562],[ 115687.12463153],[  26118.58851702],[-110907.4472778 ],[  44884.05409239],[ -11237.74966272],[  46278.73136243],[  34435.7300208 ],[ 137918.77048575],[ 146737.38625926],[  -1166.27789306],[    773.79443426],[   1171.78854958],[ -42774.04808203],[  37830.01590757]])\n",
        "week2 = np.array([[ -36154.11390515],[   3088.34259836],[  18575.43903261],[  11397.6580713 ],[  28022.3340708 ],[  13561.79727925],[ -18091.61522142],[   2345.5690904 ],[ -13279.49295108],[-250137.57844129],[  39541.52258879],[ -13207.79962763],[  52942.06253231],[ -13550.83530922],[ 171820.57024838],[ 137446.40918201],[ 135456.02263072],[   2089.1278969 ],[  44454.84682613],[ 129705.56054477],[  53974.17286306]])\n",
        "week3 = np.array([[ -45484.7637217 ],[   -679.65829001],[  19876.53562296],[ -14756.5210627 ],[  91735.99961269],[  24805.00600562],[  -7877.93386978],[ -23168.61448209],[  -3268.35591659],[-275347.659066  ],[  49816.22058929],[  14182.03256549],[  74396.28929161],[ -18741.14392497],[ 133437.13752936],[ 123402.03224969],[ 124660.47384134],[  17739.67401901],[  49078.39468121],[ 109415.74988416],[  56779.10444144]])\n",
        "week4 = np.array([[ -23136.82968596],[ -22976.28840536],[  20244.61700118],[ -13275.41108797],[  83177.85411232],[  16444.4423524 ],[  -2431.17157459],[ -19394.62058874],[  -3587.732925  ],[-236576.02346441],[  55717.49264295],[  18877.38085054],[  96090.93658475],[ -25808.09727977],[ 165423.05162546],[ 151039.14519686],[  93779.39522804],[  21210.90583318],[  21492.41881251],[  46555.49404597],[  57133.04072566]])\n",
        "week5 = np.array([[  -9960.15340479],[ -36423.97152479],[  10700.8065328 ],[  -1266.14901731],[  81874.01694402],[  15825.36127658],[   8310.48399868],[ -25009.21241495],[  -5107.24234546],[-297735.79134959],[  53095.56975296],[  19961.17958912],[ 106473.2329959 ],[  -6590.09333768],[ 169132.05094267],[ 128432.38161741],[ 117956.18073249],[  30306.09280769],[  45316.97077624],[  34982.86525729],[  59725.42017073]])\n",
        "week_index = [0,5,10,15,19,24]\n",
        "leverage = np.array([1.6917583037848998,2.37768574182317,2.5572986013353995,2.388744700047198,2.528370453578312])"
      ],
      "execution_count": 0,
      "outputs": []
    },
    {
      "cell_type": "code",
      "metadata": {
        "id": "iqkKTV4Vcz2l",
        "colab_type": "code",
        "colab": {
          "base_uri": "https://localhost:8080/",
          "height": 33
        },
        "outputId": "e10f95e1-a807-4e5e-ab1a-2b04759c41fb"
      },
      "source": [
        "np.array([2,2,3,4,5])/np.array([2,2,3,4,5])"
      ],
      "execution_count": 35,
      "outputs": [
        {
          "output_type": "execute_result",
          "data": {
            "text/plain": [
              "array([1., 1., 1., 1., 1.])"
            ]
          },
          "metadata": {
            "tags": []
          },
          "execution_count": 35
        }
      ]
    },
    {
      "cell_type": "code",
      "metadata": {
        "id": "9xcGK4vOc-3n",
        "colab_type": "code",
        "colab": {
          "base_uri": "https://localhost:8080/",
          "height": 100
        },
        "outputId": "a498a564-339b-4a01-e108-19a277b677b8"
      },
      "source": [
        "np.array(R.iloc[0])"
      ],
      "execution_count": 54,
      "outputs": [
        {
          "output_type": "execute_result",
          "data": {
            "text/plain": [
              "array([  36.290001,  140.559998,   93.976875,  196.479996,  194.720001,\n",
              "        132.919998,   59.869999,  117.045006,  187.458649, 1291.369995,\n",
              "         52.746006,   92.093765,  119.07    ,  129.698822,   37.790001,\n",
              "        256.729218,  217.979996,   32.224075,   18.9     ,  179.690002,\n",
              "        128.820007])"
            ]
          },
          "metadata": {
            "tags": []
          },
          "execution_count": 54
        }
      ]
    },
    {
      "cell_type": "code",
      "metadata": {
        "id": "4qMWQrGBb6JH",
        "colab_type": "code",
        "colab": {
          "base_uri": "https://localhost:8080/",
          "height": 33
        },
        "outputId": "81a4869f-1dd1-4aa8-fdc1-f285de53d0db"
      },
      "source": [
        ""
      ],
      "execution_count": 58,
      "outputs": [
        {
          "output_type": "execute_result",
          "data": {
            "text/plain": [
              "array([2620.41838146])"
            ]
          },
          "metadata": {
            "tags": []
          },
          "execution_count": 58
        }
      ]
    },
    {
      "cell_type": "code",
      "metadata": {
        "id": "oc8_2NZSaRSK",
        "colab_type": "code",
        "colab": {
          "base_uri": "https://localhost:8080/",
          "height": 100
        },
        "outputId": "a1cffc00-0627-4a48-b98b-c3b69e87fa64"
      },
      "source": [
        "R['GOOG'][0:4]\n",
        "lambda week1/"
      ],
      "execution_count": 21,
      "outputs": [
        {
          "output_type": "execute_result",
          "data": {
            "text/plain": [
              "0    1291.369995\n",
              "1    1292.030029\n",
              "2    1291.800049\n",
              "3    1308.859985\n",
              "Name: GOOG, dtype: float64"
            ]
          },
          "metadata": {
            "tags": []
          },
          "execution_count": 21
        }
      ]
    },
    {
      "cell_type": "code",
      "metadata": {
        "id": "h4zBhqiWWw8E",
        "colab_type": "code",
        "colab": {}
      },
      "source": [
        "for i in range(len(filecsv_list)):\n",
        "  "
      ],
      "execution_count": 0,
      "outputs": []
    },
    {
      "cell_type": "code",
      "metadata": {
        "id": "whFrpzbCJl15",
        "colab_type": "code",
        "colab": {}
      },
      "source": [
        ""
      ],
      "execution_count": 0,
      "outputs": []
    }
  ]
}