{
  "nbformat": 4,
  "nbformat_minor": 0,
  "metadata": {
    "colab": {
      "name": "report.ipynb",
      "provenance": [],
      "include_colab_link": true
    },
    "kernelspec": {
      "name": "python3",
      "display_name": "Python 3"
    }
  },
  "cells": [
    {
      "cell_type": "markdown",
      "metadata": {
        "id": "view-in-github",
        "colab_type": "text"
      },
      "source": [
        "<a href=\"https://colab.research.google.com/github/wqiu96/MA574_Portfolio-Valuation-and-Risk-Management/blob/master/src/report.ipynb\" target=\"_parent\"><img src=\"https://colab.research.google.com/assets/colab-badge.svg\" alt=\"Open In Colab\"/></a>"
      ]
    },
    {
      "cell_type": "code",
      "metadata": {
        "id": "rU4SOUVu1scX",
        "colab_type": "code",
        "colab": {}
      },
      "source": [
        "import numpy as np\n",
        "import pandas as pd\n",
        "import datetime\n",
        "import matplotlib.pyplot as plt\n",
        "from numpy.linalg import *\n",
        "import os"
      ],
      "execution_count": 0,
      "outputs": []
    },
    {
      "cell_type": "code",
      "metadata": {
        "id": "9LIMuP9GQTfe",
        "colab_type": "code",
        "outputId": "f2b9727f-9f27-4e73-91eb-c5b94ca1f5d4",
        "colab": {
          "base_uri": "https://localhost:8080/",
          "height": 134
        }
      },
      "source": [
        "!git clone https://github.com/wqiu96/MA574_Portfolio-Valuation-and-Risk-Management.git"
      ],
      "execution_count": 2,
      "outputs": [
        {
          "output_type": "stream",
          "text": [
            "Cloning into 'MA574_Portfolio-Valuation-and-Risk-Management'...\n",
            "remote: Enumerating objects: 153, done.\u001b[K\n",
            "remote: Counting objects: 100% (153/153), done.\u001b[K\n",
            "remote: Compressing objects: 100% (150/150), done.\u001b[K\n",
            "remote: Total 917 (delta 71), reused 0 (delta 0), pack-reused 764\u001b[K\n",
            "Receiving objects: 100% (917/917), 3.72 MiB | 2.96 MiB/s, done.\n",
            "Resolving deltas: 100% (426/426), done.\n"
          ],
          "name": "stdout"
        }
      ]
    },
    {
      "cell_type": "code",
      "metadata": {
        "id": "lB5zkAzxQb8C",
        "colab_type": "code",
        "outputId": "74e62970-4a59-4bb7-c01a-5441040f8dd3",
        "colab": {
          "base_uri": "https://localhost:8080/",
          "height": 33
        }
      },
      "source": [
        "cd MA574_Portfolio-Valuation-and-Risk-Management/src/project3/report/"
      ],
      "execution_count": 3,
      "outputs": [
        {
          "output_type": "stream",
          "text": [
            "/content/MA574_Portfolio-Valuation-and-Risk-Management/src/project3/report\n"
          ],
          "name": "stdout"
        }
      ]
    },
    {
      "cell_type": "code",
      "metadata": {
        "id": "4ZXd_iuoQqvV",
        "colab_type": "code",
        "colab": {}
      },
      "source": [
        "os.chdir('/content/MA574_Portfolio-Valuation-and-Risk-Management/src/project3/report')\n",
        "file_chdir = os.getcwd()\n",
        "filecsv_list = []\n",
        "for root,dirs,files in os.walk(file_chdir):\n",
        "  for file in files:\n",
        "    if os.path.splitext(file)[1] == '.csv':\n",
        "      filecsv_list.append(file)\n",
        "for csv in filecsv_list:\n",
        "  vars()[csv.strip('.csv')] = pd.read_csv(csv)\n"
      ],
      "execution_count": 0,
      "outputs": []
    },
    {
      "cell_type": "code",
      "metadata": {
        "id": "Le-OYzr6m2Li",
        "colab_type": "code",
        "colab": {
          "base_uri": "https://localhost:8080/",
          "height": 33
        },
        "outputId": "5f8fb6ed-0d4b-47ef-cc40-3432c44de0e5"
      },
      "source": [
        "filecsv_list"
      ],
      "execution_count": 5,
      "outputs": [
        {
          "output_type": "execute_result",
          "data": {
            "text/plain": [
              "['portfolio.csv']"
            ]
          },
          "metadata": {
            "tags": []
          },
          "execution_count": 5
        }
      ]
    },
    {
      "cell_type": "code",
      "metadata": {
        "id": "UivWewGhocHt",
        "colab_type": "code",
        "colab": {}
      },
      "source": [
        "portfolio['date'] = pd.to_datetime(portfolio['date'],format='%Y%m%d')"
      ],
      "execution_count": 0,
      "outputs": []
    },
    {
      "cell_type": "code",
      "metadata": {
        "id": "EChsEQ3IrW-6",
        "colab_type": "code",
        "colab": {
          "base_uri": "https://localhost:8080/",
          "height": 452
        },
        "outputId": "e426518b-0a8e-4196-d73e-0c7040279259"
      },
      "source": [
        "portfolio['date']"
      ],
      "execution_count": 9,
      "outputs": [
        {
          "output_type": "execute_result",
          "data": {
            "text/plain": [
              "0    2019-11-03\n",
              "1    2019-11-04\n",
              "2    2019-11-05\n",
              "3    2019-11-06\n",
              "4    2019-11-07\n",
              "5    2019-11-08\n",
              "6    2019-11-11\n",
              "7    2019-11-12\n",
              "8    2019-11-13\n",
              "9    2019-11-14\n",
              "10   2019-11-15\n",
              "11   2019-11-18\n",
              "12   2019-11-19\n",
              "13   2019-11-20\n",
              "14   2019-11-21\n",
              "15   2019-11-22\n",
              "16   2019-11-25\n",
              "17   2019-11-26\n",
              "18   2019-11-27\n",
              "19   2019-11-29\n",
              "20   2019-12-02\n",
              "21   2019-12-03\n",
              "22   2019-12-04\n",
              "23   2019-12-05\n",
              "24   2019-12-06\n",
              "Name: date, dtype: datetime64[ns]"
            ]
          },
          "metadata": {
            "tags": []
          },
          "execution_count": 9
        }
      ]
    },
    {
      "cell_type": "code",
      "metadata": {
        "id": "w4I4JPVNomwu",
        "colab_type": "code",
        "colab": {
          "base_uri": "https://localhost:8080/",
          "height": 360
        },
        "outputId": "5eb8ae8a-b540-4130-ce90-6b4aa1979dbf"
      },
      "source": [
        "plt.plot(portfolio['date'],portfolio['Net Value'],color = 'b')\n",
        "plt.xticks(rotation=90)\n",
        "plt.xlabel('Date')\n",
        "plt.ylabel('Net value')\n",
        "plt.title('Markowitz performance')\n",
        "plt.axvline(portfolio['date'][1],color = 'r',  linestyle='--')\n",
        "plt.axvline(portfolio['date'][6],color = 'r',  linestyle='--')\n",
        "plt.axvline(portfolio['date'][11],color = 'r',  linestyle='--')\n",
        "plt.axvline(portfolio['date'][16],color = 'r',  linestyle='--')\n",
        "plt.axvline(portfolio['date'][20],color = 'r',  linestyle='--')\n",
        "plt.ylim(992000,1010000)\n",
        "plt.text(portfolio['date'][2], 1008000, 'Week1',\n",
        "         fontdict={'size': 14, 'color': 'y'})\n",
        "plt.text(portfolio['date'][7], 1008000, 'Week2',\n",
        "         fontdict={'size': 14, 'color': 'y'})\n",
        "plt.text(portfolio['date'][12], 1008000, 'Week3',\n",
        "         fontdict={'size': 14, 'color': 'y'})\n",
        "plt.text(portfolio['date'][17], 1008000, 'Week4',\n",
        "         fontdict={'size': 14, 'color': 'y'})\n",
        "plt.text(portfolio['date'][21], 1008000, 'Week5',\n",
        "         fontdict={'size': 14, 'color': 'y'})\n",
        "plt.figure(figsize = (600,500))\n",
        "plt.show()"
      ],
      "execution_count": 33,
      "outputs": [
        {
          "output_type": "display_data",
          "data": {
            "image/png": "[encoded data removed]",
            "text/plain": [
              "<Figure size 432x288 with 1 Axes>"
            ]
          },
          "metadata": {
            "tags": []
          }
        },
        {
          "output_type": "display_data",
          "data": {
            "text/plain": [
              "<Figure size 43200x36000 with 0 Axes>"
            ]
          },
          "metadata": {
            "tags": []
          }
        }
      ]
    }
  ]
}