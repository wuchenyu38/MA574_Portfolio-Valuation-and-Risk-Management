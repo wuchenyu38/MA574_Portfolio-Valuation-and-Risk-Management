{
  "nbformat": 4,
  "nbformat_minor": 0,
  "metadata": {
    "colab": {
      "name": "regression.ipynb",
      "provenance": [],
      "include_colab_link": true
    },
    "kernelspec": {
      "name": "python3",
      "display_name": "Python 3"
    }
  },
  "cells": [
    {
      "cell_type": "markdown",
      "metadata": {
        "id": "view-in-github",
        "colab_type": "text"
      },
      "source": [
        "<a href=\"https://colab.research.google.com/github/wqiu96/MA574_Portfolio-Valuation-and-Risk-Management/blob/master/src/regression.ipynb\" target=\"_parent\"><img src=\"https://colab.research.google.com/assets/colab-badge.svg\" alt=\"Open In Colab\"/></a>"
      ]
    },
    {
      "cell_type": "code",
      "metadata": {
        "id": "ZcJsKJ3X1-79",
        "colab_type": "code",
        "colab": {}
      },
      "source": [
        "import numpy as np\n",
        "import pandas as pd\n",
        "import os"
      ],
      "execution_count": 0,
      "outputs": []
    },
    {
      "cell_type": "code",
      "metadata": {
        "id": "EUgqxQsE24yJ",
        "colab_type": "code",
        "colab": {
          "base_uri": "https://localhost:8080/",
          "height": 134
        },
        "outputId": "f5d9a6e6-f88c-4335-92a8-3838262903ec"
      },
      "source": [
        "!git clone https://github.com/wqiu96/MA574_Portfolio-Valuation-and-Risk-Management.git"
      ],
      "execution_count": 2,
      "outputs": [
        {
          "output_type": "stream",
          "text": [
            "Cloning into 'MA574_Portfolio-Valuation-and-Risk-Management'...\n",
            "remote: Enumerating objects: 123, done.\u001b[K\n",
            "remote: Counting objects: 100% (123/123), done.\u001b[K\n",
            "remote: Compressing objects: 100% (121/121), done.\u001b[K\n",
            "remote: Total 560 (delta 51), reused 0 (delta 0), pack-reused 437\u001b[K\n",
            "Receiving objects: 100% (560/560), 3.35 MiB | 23.17 MiB/s, done.\n",
            "Resolving deltas: 100% (223/223), done.\n"
          ],
          "name": "stdout"
        }
      ]
    },
    {
      "cell_type": "code",
      "metadata": {
        "id": "LSkPhMWs2-Mn",
        "colab_type": "code",
        "colab": {
          "base_uri": "https://localhost:8080/",
          "height": 33
        },
        "outputId": "7ba5429c-3ff0-44df-ba6d-cbcbb376d1c6"
      },
      "source": [
        "cd MA574_Portfolio-Valuation-and-Risk-Management/src/project4/"
      ],
      "execution_count": 3,
      "outputs": [
        {
          "output_type": "stream",
          "text": [
            "/content/MA574_Portfolio-Valuation-and-Risk-Management/src/project4\n"
          ],
          "name": "stdout"
        }
      ]
    },
    {
      "cell_type": "code",
      "metadata": {
        "id": "eqgQIeU83BpC",
        "colab_type": "code",
        "colab": {}
      },
      "source": [
        "#Load data\n",
        "os.chdir('/content/MA574_Portfolio-Valuation-and-Risk-Management/src/project4/')\n",
        "file_chdir = os.getcwd()\n",
        "filecsv_list = []\n",
        "for root,dirs,files in os.walk(file_chdir):\n",
        "  for file in files:\n",
        "    if os.path.splitext(file)[1] == '.xlsx':\n",
        "      filecsv_list.append(file)\n",
        "R = pd.DataFrame()\n",
        "for xls in filecsv_list:\n",
        "  R[xls.strip('.xlsx')] = pd.read_excel(xls)['Last Price']"
      ],
      "execution_count": 0,
      "outputs": []
    },
    {
      "cell_type": "code",
      "metadata": {
        "id": "H9l_4PETE-7_",
        "colab_type": "code",
        "colab": {
          "base_uri": "https://localhost:8080/",
          "height": 134
        },
        "outputId": "26700e53-72ce-49a6-d802-91f82ce010d2"
      },
      "source": [
        "files"
      ],
      "execution_count": 55,
      "outputs": [
        {
          "output_type": "execute_result",
          "data": {
            "text/plain": [
              "['GDP.xlsx',\n",
              " 'GOVT PURCHASE and INVESTMENT.xlsx',\n",
              " 'US URBAN CPI.xlsx',\n",
              " 'Core Price Consumption.xlsx',\n",
              " 'US FEDERAL FUNDS TARGET RATE.xlsx',\n",
              " 'Private Domestic Investment.xlsx',\n",
              " 'US Trade Balance.xlsx']"
            ]
          },
          "metadata": {
            "tags": []
          },
          "execution_count": 55
        }
      ]
    },
    {
      "cell_type": "code",
      "metadata": {
        "id": "JAR5Yhk66W5p",
        "colab_type": "code",
        "colab": {
          "base_uri": "https://localhost:8080/",
          "height": 50
        },
        "outputId": "25cdc966-6c1e-401b-912d-84c72ae89c9e"
      },
      "source": [
        "Y = R['GDP'].values\n",
        "Par = R.copy()\n",
        "Par['GDP'] = np.ones(Par.shape[0])\n",
        "Par.columns = ['Beta_0', 'GOV_INV', 'CPI','CONSUMPTION','FED_RATE','PRIVATE_INV','TRADE']\n",
        "data = Par.join(R['GDP'])\n",
        "X = Par.values\n",
        "B = np.dot(np.dot(np.linalg.inv(np.dot(X.T,X)),X.T),Y)\n",
        "B"
      ],
      "execution_count": 62,
      "outputs": [
        {
          "output_type": "execute_result",
          "data": {
            "text/plain": [
              "array([ 1.57797457,  0.25009288, -1.47665857,  0.78230875,  0.23154418,\n",
              "        0.89211681,  0.00985919])"
            ]
          },
          "metadata": {
            "tags": []
          },
          "execution_count": 62
        }
      ]
    },
    {
      "cell_type": "code",
      "metadata": {
        "id": "qAloUfoYCOe9",
        "colab_type": "code",
        "colab": {
          "base_uri": "https://localhost:8080/",
          "height": 517
        },
        "outputId": "03b7680c-a121-424f-e345-985f3a7054b6"
      },
      "source": [
        "# load packages\n",
        "import statsmodels.api as sm\n",
        "from statsmodels.formula.api import ols\n",
        "# Ordinary Least Squares (OLS) model\n",
        "model = ols('GDP ~ GOV_INV + CPI + CONSUMPTION + FED_RATE + PRIVATE_INV + TRADE', data=data).fit()\n",
        "model.summary()\n"
      ],
      "execution_count": 73,
      "outputs": [
        {
          "output_type": "execute_result",
          "data": {
            "text/html": [
              "<table class=\"simpletable\">\n",
              "<caption>OLS Regression Results</caption>\n",
              "<tr>\n",
              "  <th>Dep. Variable:</th>           <td>GDP</td>       <th>  R-squared:         </th> <td>   0.687</td>\n",
              "</tr>\n",
              "<tr>\n",
              "  <th>Model:</th>                   <td>OLS</td>       <th>  Adj. R-squared:    </th> <td>   0.630</td>\n",
              "</tr>\n",
              "<tr>\n",
              "  <th>Method:</th>             <td>Least Squares</td>  <th>  F-statistic:       </th> <td>   12.05</td>\n",
              "</tr>\n",
              "<tr>\n",
              "  <th>Date:</th>             <td>Sat, 09 Nov 2019</td> <th>  Prob (F-statistic):</th> <td>3.88e-07</td>\n",
              "</tr>\n",
              "<tr>\n",
              "  <th>Time:</th>                 <td>22:00:07</td>     <th>  Log-Likelihood:    </th> <td> -68.126</td>\n",
              "</tr>\n",
              "<tr>\n",
              "  <th>No. Observations:</th>      <td>    40</td>      <th>  AIC:               </th> <td>   150.3</td>\n",
              "</tr>\n",
              "<tr>\n",
              "  <th>Df Residuals:</th>          <td>    33</td>      <th>  BIC:               </th> <td>   162.1</td>\n",
              "</tr>\n",
              "<tr>\n",
              "  <th>Df Model:</th>              <td>     6</td>      <th>                     </th>     <td> </td>   \n",
              "</tr>\n",
              "<tr>\n",
              "  <th>Covariance Type:</th>      <td>nonrobust</td>    <th>                     </th>     <td> </td>   \n",
              "</tr>\n",
              "</table>\n",
              "<table class=\"simpletable\">\n",
              "<tr>\n",
              "       <td></td>          <th>coef</th>     <th>std err</th>      <th>t</th>      <th>P>|t|</th>  <th>[0.025</th>    <th>0.975]</th>  \n",
              "</tr>\n",
              "<tr>\n",
              "  <th>Intercept</th>   <td>    1.5780</td> <td>    0.831</td> <td>    1.898</td> <td> 0.066</td> <td>   -0.114</td> <td>    3.269</td>\n",
              "</tr>\n",
              "<tr>\n",
              "  <th>GOV_INV</th>     <td>    0.2501</td> <td>    0.111</td> <td>    2.256</td> <td> 0.031</td> <td>    0.025</td> <td>    0.476</td>\n",
              "</tr>\n",
              "<tr>\n",
              "  <th>CPI</th>         <td>   -1.4767</td> <td>    1.521</td> <td>   -0.971</td> <td> 0.339</td> <td>   -4.571</td> <td>    1.618</td>\n",
              "</tr>\n",
              "<tr>\n",
              "  <th>CONSUMPTION</th> <td>    0.7823</td> <td>    0.516</td> <td>    1.517</td> <td> 0.139</td> <td>   -0.267</td> <td>    1.831</td>\n",
              "</tr>\n",
              "<tr>\n",
              "  <th>FED_RATE</th>    <td>    0.2315</td> <td>    0.414</td> <td>    0.559</td> <td> 0.580</td> <td>   -0.611</td> <td>    1.074</td>\n",
              "</tr>\n",
              "<tr>\n",
              "  <th>PRIVATE_INV</th> <td>    0.8921</td> <td>    0.135</td> <td>    6.603</td> <td> 0.000</td> <td>    0.617</td> <td>    1.167</td>\n",
              "</tr>\n",
              "<tr>\n",
              "  <th>TRADE</th>       <td>    0.0099</td> <td>    0.117</td> <td>    0.084</td> <td> 0.933</td> <td>   -0.228</td> <td>    0.248</td>\n",
              "</tr>\n",
              "</table>\n",
              "<table class=\"simpletable\">\n",
              "<tr>\n",
              "  <th>Omnibus:</th>       <td> 0.651</td> <th>  Durbin-Watson:     </th> <td>   2.579</td>\n",
              "</tr>\n",
              "<tr>\n",
              "  <th>Prob(Omnibus):</th> <td> 0.722</td> <th>  Jarque-Bera (JB):  </th> <td>   0.750</td>\n",
              "</tr>\n",
              "<tr>\n",
              "  <th>Skew:</th>          <td>-0.254</td> <th>  Prob(JB):          </th> <td>   0.687</td>\n",
              "</tr>\n",
              "<tr>\n",
              "  <th>Kurtosis:</th>      <td> 2.561</td> <th>  Cond. No.          </th> <td>    20.8</td>\n",
              "</tr>\n",
              "</table><br/><br/>Warnings:<br/>[1] Standard Errors assume that the covariance matrix of the errors is correctly specified."
            ],
            "text/plain": [
              "<class 'statsmodels.iolib.summary.Summary'>\n",
              "\"\"\"\n",
              "                            OLS Regression Results                            \n",
              "==============================================================================\n",
              "Dep. Variable:                    GDP   R-squared:                       0.687\n",
              "Model:                            OLS   Adj. R-squared:                  0.630\n",
              "Method:                 Least Squares   F-statistic:                     12.05\n",
              "Date:                Sat, 09 Nov 2019   Prob (F-statistic):           3.88e-07\n",
              "Time:                        22:00:07   Log-Likelihood:                -68.126\n",
              "No. Observations:                  40   AIC:                             150.3\n",
              "Df Residuals:                      33   BIC:                             162.1\n",
              "Df Model:                           6                                         \n",
              "Covariance Type:            nonrobust                                         \n",
              "===============================================================================\n",
              "                  coef    std err          t      P>|t|      [0.025      0.975]\n",
              "-------------------------------------------------------------------------------\n",
              "Intercept       1.5780      0.831      1.898      0.066      -0.114       3.269\n",
              "GOV_INV         0.2501      0.111      2.256      0.031       0.025       0.476\n",
              "CPI            -1.4767      1.521     -0.971      0.339      -4.571       1.618\n",
              "CONSUMPTION     0.7823      0.516      1.517      0.139      -0.267       1.831\n",
              "FED_RATE        0.2315      0.414      0.559      0.580      -0.611       1.074\n",
              "PRIVATE_INV     0.8921      0.135      6.603      0.000       0.617       1.167\n",
              "TRADE           0.0099      0.117      0.084      0.933      -0.228       0.248\n",
              "==============================================================================\n",
              "Omnibus:                        0.651   Durbin-Watson:                   2.579\n",
              "Prob(Omnibus):                  0.722   Jarque-Bera (JB):                0.750\n",
              "Skew:                          -0.254   Prob(JB):                        0.687\n",
              "Kurtosis:                       2.561   Cond. No.                         20.8\n",
              "==============================================================================\n",
              "\n",
              "Warnings:\n",
              "[1] Standard Errors assume that the covariance matrix of the errors is correctly specified.\n",
              "\"\"\""
            ]
          },
          "metadata": {
            "tags": []
          },
          "execution_count": 73
        }
      ]
    }
  ]
}