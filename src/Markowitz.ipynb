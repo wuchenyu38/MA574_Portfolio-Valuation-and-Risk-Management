{
  "nbformat": 4,
  "nbformat_minor": 0,
  "metadata": {
    "colab": {
      "name": "Markowitz.ipynb",
      "provenance": [],
      "collapsed_sections": [],
      "include_colab_link": true
    },
    "kernelspec": {
      "name": "python3",
      "display_name": "Python 3"
    }
  },
  "cells": [
    {
      "cell_type": "markdown",
      "metadata": {
        "id": "view-in-github",
        "colab_type": "text"
      },
      "source": [
        "<a href=\"https://colab.research.google.com/github/wqiu96/MA574_Portfolio-Valuation-and-Risk-Management/blob/master/src/Markowitz.ipynb\" target=\"_parent\"><img src=\"https://colab.research.google.com/assets/colab-badge.svg\" alt=\"Open In Colab\"/></a>"
      ]
    },
    {
      "cell_type": "code",
      "metadata": {
        "id": "XtjEK3QhNsYc",
        "colab_type": "code",
        "colab": {}
      },
      "source": [
        "import numpy as np\n",
        "import pandas as pd\n",
        "import matplotlib.pyplot as plt\n",
        "from scipy import stats\n",
        "import os"
      ],
      "execution_count": 0,
      "outputs": []
    },
    {
      "cell_type": "code",
      "metadata": {
        "id": "PzGPxFXFWm4s",
        "colab_type": "code",
        "colab": {
          "base_uri": "https://localhost:8080/",
          "height": 100
        },
        "outputId": "443e994b-c679-453f-e8d1-26bfea738186"
      },
      "source": [
        "!git clone https://github.com/wqiu96/MA574_Portfolio-Valuation-and-Risk-Management.git"
      ],
      "execution_count": 2,
      "outputs": [
        {
          "output_type": "stream",
          "text": [
            "Cloning into 'MA574_Portfolio-Valuation-and-Risk-Management'...\n",
            "remote: Enumerating objects: 127, done.\u001b[K\n",
            "remote: Total 127 (delta 0), reused 0 (delta 0), pack-reused 127\u001b[K\n",
            "Receiving objects: 100% (127/127), 1.78 MiB | 1.59 MiB/s, done.\n",
            "Resolving deltas: 100% (29/29), done.\n"
          ],
          "name": "stdout"
        }
      ]
    },
    {
      "cell_type": "code",
      "metadata": {
        "id": "ZrnuPYx0XuQm",
        "colab_type": "code",
        "colab": {
          "base_uri": "https://localhost:8080/",
          "height": 33
        },
        "outputId": "c3607b20-4db8-4167-f499-9e3184df16f9"
      },
      "source": [
        "cd MA574_Portfolio-Valuation-and-Risk-Management/src/project3/"
      ],
      "execution_count": 3,
      "outputs": [
        {
          "output_type": "stream",
          "text": [
            "/content/MA574_Portfolio-Valuation-and-Risk-Management/src/project3\n"
          ],
          "name": "stdout"
        }
      ]
    },
    {
      "cell_type": "code",
      "metadata": {
        "id": "KEbSuzZOXx-7",
        "colab_type": "code",
        "colab": {}
      },
      "source": [
        "#Load data\n",
        "os.chdir('/content/MA574_Portfolio-Valuation-and-Risk-Management/src/project3/')\n",
        "file_chdir = os.getcwd()\n",
        "filecsv_list = []\n",
        "for root,dirs,files in os.walk(file_chdir):\n",
        "  for file in files:\n",
        "    if os.path.splitext(file)[1] == '.csv':\n",
        "      filecsv_list.append(file)\n",
        "data = []\n",
        "for csv in filecsv_list:\n",
        "  df = pd.read_csv(csv)\n",
        "  df['Date'] = pd.to_datetime(df['Date'])\n",
        "  df.set_index('Date',inplace= True)\n",
        "  data.append(df)\n",
        "  del df\n",
        " "
      ],
      "execution_count": 0,
      "outputs": []
    },
    {
      "cell_type": "code",
      "metadata": {
        "id": "JlOAkUlaVSOY",
        "colab_type": "code",
        "colab": {}
      },
      "source": [
        "#Set the break points for every year\n",
        "start_day = []\n",
        "for i in range(2009,2020):\n",
        "  start_day.append(str(i) + '-10-18')\n",
        "start_day[0] = '2009-10-19'\n",
        "start_day[5] = '2014-10-17'\n",
        "start_day[6] = '2009-10-19'"
      ],
      "execution_count": 0,
      "outputs": []
    },
    {
      "cell_type": "code",
      "metadata": {
        "id": "FsK4uQ2gd8Nn",
        "colab_type": "code",
        "colab": {}
      },
      "source": [
        "R_expect_1 = np.zeros((len(data),1))\n",
        "R_expect_2 = np.zeros((len(data),1))\n",
        "R_expect_3 = np.zeros((len(data),1))\n",
        "def expect_return(data,startpoint,endpoint,dif_year):\n",
        "  R_expect = np.zeros((len(data),1))\n",
        "  for i in range(len(data)):\n",
        "    if data[i][endpoint:endpoint]['Adj Close'].values - data[i][startpoint:startpoint]['Adj Close'].values > 0:\n",
        "      R_expect[i] = ((data[i][endpoint:endpoint]['Adj Close'].values - data[i][startpoint:startpoint]['Adj Close'].values)/data[i][startpoint:startpoint]['Adj Close'].values)**(1/dif_year) - 1\n",
        "    else:\n",
        "      R_expect[i] = ((data[i][startpoint:startpoint]['Adj Close'].values - data[i][endpoint:endpoint]['Adj Close'].values)/data[i][startpoint:startpoint]['Adj Close'].values)**(1/dif_year) - 1\n",
        "  return R_expect"
      ],
      "execution_count": 0,
      "outputs": []
    },
    {
      "cell_type": "code",
      "metadata": {
        "id": "kJyZLuodgCkz",
        "colab_type": "code",
        "colab": {}
      },
      "source": [
        "#annual expected returns \n",
        "R_expect_1 = expect_return(data,start_day[0],start_day[5],5)\n",
        "R_expect_2 = expect_return(data,start_day[0],start_day[7],7)\n",
        "R_expect_3 = expect_return(data,start_day[0],start_day[10],10)"
      ],
      "execution_count": 0,
      "outputs": []
    },
    {
      "cell_type": "code",
      "metadata": {
        "id": "v9g0ZeAut0HK",
        "colab_type": "code",
        "colab": {}
      },
      "source": [
        "Expect."
      ],
      "execution_count": 0,
      "outputs": []
    }
  ]
}