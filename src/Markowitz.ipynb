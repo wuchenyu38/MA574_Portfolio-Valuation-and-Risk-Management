{
  "nbformat": 4,
  "nbformat_minor": 0,
  "metadata": {
    "colab": {
      "name": "Markowitz.ipynb",
      "provenance": [],
      "collapsed_sections": [],
      "include_colab_link": true
    },
    "kernelspec": {
      "name": "python3",
      "display_name": "Python 3"
    }
  },
  "cells": [
    {
      "cell_type": "markdown",
      "metadata": {
        "id": "view-in-github",
        "colab_type": "text"
      },
      "source": [
        "<a href=\"https://colab.research.google.com/github/wqiu96/MA574_Portfolio-Valuation-and-Risk-Management/blob/master/src/Markowitz.ipynb\" target=\"_parent\"><img src=\"https://colab.research.google.com/assets/colab-badge.svg\" alt=\"Open In Colab\"/></a>"
      ]
    },
    {
      "cell_type": "code",
      "metadata": {
        "id": "XtjEK3QhNsYc",
        "colab_type": "code",
        "colab": {}
      },
      "source": [
        "import numpy as np\n",
        "import pandas as pd\n",
        "import matplotlib.pyplot as plt\n",
        "from scipy import stats\n",
        "from numpy.linalg import *\n",
        "import os"
      ],
      "execution_count": 0,
      "outputs": []
    },
    {
      "cell_type": "code",
      "metadata": {
        "id": "PzGPxFXFWm4s",
        "colab_type": "code",
        "colab": {
          "base_uri": "https://localhost:8080/",
          "height": 100
        },
        "outputId": "443e994b-c679-453f-e8d1-26bfea738186"
      },
      "source": [
        "!git clone https://github.com/wqiu96/MA574_Portfolio-Valuation-and-Risk-Management.git"
      ],
      "execution_count": 2,
      "outputs": [
        {
          "output_type": "stream",
          "text": [
            "Cloning into 'MA574_Portfolio-Valuation-and-Risk-Management'...\n",
            "remote: Enumerating objects: 127, done.\u001b[K\n",
            "remote: Total 127 (delta 0), reused 0 (delta 0), pack-reused 127\u001b[K\n",
            "Receiving objects: 100% (127/127), 1.78 MiB | 1.59 MiB/s, done.\n",
            "Resolving deltas: 100% (29/29), done.\n"
          ],
          "name": "stdout"
        }
      ]
    },
    {
      "cell_type": "code",
      "metadata": {
        "id": "ZrnuPYx0XuQm",
        "colab_type": "code",
        "colab": {
          "base_uri": "https://localhost:8080/",
          "height": 33
        },
        "outputId": "c3607b20-4db8-4167-f499-9e3184df16f9"
      },
      "source": [
        "cd MA574_Portfolio-Valuation-and-Risk-Management/src/project3/"
      ],
      "execution_count": 3,
      "outputs": [
        {
          "output_type": "stream",
          "text": [
            "/content/MA574_Portfolio-Valuation-and-Risk-Management/src/project3\n"
          ],
          "name": "stdout"
        }
      ]
    },
    {
      "cell_type": "code",
      "metadata": {
        "id": "KEbSuzZOXx-7",
        "colab_type": "code",
        "colab": {}
      },
      "source": [
        "#Load data\n",
        "os.chdir('/content/MA574_Portfolio-Valuation-and-Risk-Management/src/project3/')\n",
        "file_chdir = os.getcwd()\n",
        "filecsv_list = []\n",
        "for root,dirs,files in os.walk(file_chdir):\n",
        "  for file in files:\n",
        "    if os.path.splitext(file)[1] == '.csv':\n",
        "      filecsv_list.append(file)\n",
        "data = []\n",
        "for csv in filecsv_list:\n",
        "  df = pd.read_csv(csv)\n",
        "  df['Date'] = pd.to_datetime(df['Date'])\n",
        "  df.set_index('Date',inplace= True)\n",
        "  data.append(df)\n",
        "  del df\n",
        " "
      ],
      "execution_count": 0,
      "outputs": []
    },
    {
      "cell_type": "code",
      "metadata": {
        "id": "JlOAkUlaVSOY",
        "colab_type": "code",
        "colab": {}
      },
      "source": [
        "#Set the break points for every year\n",
        "start_day = []\n",
        "for i in range(2009,2020):\n",
        "  start_day.append(str(i) + '-10-18')\n",
        "start_day[0] = '2009-10-19'\n",
        "start_day[5] = '2014-10-17'\n",
        "start_day[6] = '2009-10-19'"
      ],
      "execution_count": 0,
      "outputs": []
    },
    {
      "cell_type": "code",
      "metadata": {
        "id": "FsK4uQ2gd8Nn",
        "colab_type": "code",
        "colab": {}
      },
      "source": [
        "R_expect_1 = np.zeros((len(data),1))\n",
        "R_expect_2 = np.zeros((len(data),1))\n",
        "R_expect_3 = np.zeros((len(data),1))\n",
        "def expect_return(data,startpoint,endpoint,dif_year):\n",
        "  R_expect = np.zeros((len(data),1))\n",
        "  for i in range(len(data)):     \n",
        "    R_expect[i] = ((data[i][endpoint:endpoint]['Adj Close'].values)/data[i][startpoint:startpoint]['Adj Close'].values)**(1/dif_year) - 1\n",
        "\n",
        "  return R_expect"
      ],
      "execution_count": 0,
      "outputs": []
    },
    {
      "cell_type": "code",
      "metadata": {
        "id": "kJyZLuodgCkz",
        "colab_type": "code",
        "colab": {}
      },
      "source": [
        "#annual expected returns \n",
        "R_expect_1 = expect_return(data,start_day[0],start_day[5],5)\n",
        "R_expect_2 = expect_return(data,start_day[0],start_day[7],7)\n",
        "R_expect_3 = expect_return(data,start_day[0],start_day[10],10)"
      ],
      "execution_count": 0,
      "outputs": []
    },
    {
      "cell_type": "code",
      "metadata": {
        "id": "v9g0ZeAut0HK",
        "colab_type": "code",
        "colab": {}
      },
      "source": [
        "R_year = np.zeros((len(data),len(start_day)-1))\n",
        "for j in range(len(start_day)-1):\n",
        "  R_year[:,j] = expect_return(data,start_day[j],start_day[j+1],1).T\n",
        "  "
      ],
      "execution_count": 0,
      "outputs": []
    },
    {
      "cell_type": "code",
      "metadata": {
        "id": "xmR2bFjw88F8",
        "colab_type": "code",
        "colab": {}
      },
      "source": [
        "R_year_R = pd.DataFrame(R_year.T)"
      ],
      "execution_count": 0,
      "outputs": []
    },
    {
      "cell_type": "code",
      "metadata": {
        "id": "oMA7bXF75eBY",
        "colab_type": "code",
        "colab": {}
      },
      "source": [
        "R_cov =  np.array(R_year_R[0:5].cov())\n",
        "R_expect = R_expect_1\n",
        "one = np.ones((len(R_expect),1))\n",
        "A = np.dot(np.dot(one.reshape(1,-1),inv(R_cov)),R_expect)\n",
        "B = np.dot(np.dot(R_expect.reshape(1,-1),inv(R_cov)),R_expect)\n",
        "C = np.dot(np.dot(one.reshape(1,-1),inv(R_cov)),one)\n",
        "D = B*C - A**2\n",
        "g = (B * np.dot(inv(R_cov), one) - A* np.dot(inv(R_cov), R_expect))/D\n",
        "h = (C * np.dot(inv(R_cov), R_expect) - A* np.dot(inv(R_cov), one))/D\n",
        "min_sigma = np.dot(np.dot(g.reshape(1,-1),R_cov),g) - (np.dot(np.dot(h.reshape(1,-1),R_cov),g)**2)/np.dot(np.dot(h.reshape(1,-1),R_cov),h)"
      ],
      "execution_count": 0,
      "outputs": []
    },
    {
      "cell_type": "code",
      "metadata": {
        "id": "zRt9gH5D6iRf",
        "colab_type": "code",
        "colab": {
          "base_uri": "https://localhost:8080/",
          "height": 669
        },
        "outputId": "c451f39b-4556-4abb-8607-7fab41594f8c"
      },
      "source": [
        "print(g,h)"
      ],
      "execution_count": 198,
      "outputs": [
        {
          "output_type": "stream",
          "text": [
            "[[ 0.10082203]\n",
            " [ 0.73435524]\n",
            " [ 0.62020348]\n",
            " [-1.82296152]\n",
            " [-0.82804045]\n",
            " [ 0.02563921]\n",
            " [ 3.31948826]\n",
            " [ 0.05950918]\n",
            " [ 0.23614101]\n",
            " [-0.49625043]\n",
            " [-0.14212965]\n",
            " [-0.23728785]\n",
            " [-0.5115488 ]\n",
            " [-0.64966263]\n",
            " [ 0.09036429]\n",
            " [ 0.01177362]\n",
            " [ 0.4147958 ]\n",
            " [-0.03040287]\n",
            " [ 0.14336006]\n",
            " [-0.03816798]] [[ -1.7639612 ]\n",
            " [ -5.51176826]\n",
            " [ -5.84908624]\n",
            " [ 16.83612802]\n",
            " [  7.8304932 ]\n",
            " [ -0.43930297]\n",
            " [-22.38125584]\n",
            " [ -0.29929781]\n",
            " [ -1.22690911]\n",
            " [  5.63754337]\n",
            " [  1.19581557]\n",
            " [  2.26927696]\n",
            " [  3.38575202]\n",
            " [  4.88340408]\n",
            " [ -0.55462384]\n",
            " [  0.82397352]\n",
            " [ -3.55381943]\n",
            " [  0.34104145]\n",
            " [ -1.82966111]\n",
            " [  0.2062576 ]]\n"
          ],
          "name": "stdout"
        }
      ]
    },
    {
      "cell_type": "code",
      "metadata": {
        "id": "wUDTnwUg6MLt",
        "colab_type": "code",
        "colab": {
          "base_uri": "https://localhost:8080/",
          "height": 33
        },
        "outputId": "524047cb-a93a-4e12-dfbe-ea7735e03133"
      },
      "source": [
        "min_sigma"
      ],
      "execution_count": 199,
      "outputs": [
        {
          "output_type": "execute_result",
          "data": {
            "text/plain": [
              "array([[4.14184436e-18]])"
            ]
          },
          "metadata": {
            "tags": []
          },
          "execution_count": 199
        }
      ]
    },
    {
      "cell_type": "code",
      "metadata": {
        "id": "EtOv7RHn6Wpr",
        "colab_type": "code",
        "colab": {
          "base_uri": "https://localhost:8080/",
          "height": 617
        },
        "outputId": "024c0b01-95fa-4850-90ef-37b6c3761ba4"
      },
      "source": [
        "sigma = []\n",
        "mu = []\n",
        "weight = []\n",
        "for i in range(0,350):\n",
        "    mu.append(0.01*i)\n",
        "    w = g + h*0.01*i\n",
        "    weight.append(w)\n",
        "    sigma_ = np.dot(np.dot(w.reshape(1,-1),R_cov),w)\n",
        "    sigma.append(sigma_[0][0])\n",
        "plt.plot(sigma,mu)\n",
        "plt.ylabel(\"Expected return\")\n",
        "plt.xlabel(\"volatility\")\n",
        "plt.show()\n",
        "print(weight[30])"
      ],
      "execution_count": 204,
      "outputs": [
        {
          "output_type": "display_data",
          "data": {
            "image/png": "[encoded data removed]",
            "text/plain": [
              "<Figure size 432x288 with 1 Axes>"
            ]
          },
          "metadata": {
            "tags": []
          }
        },
        {
          "output_type": "stream",
          "text": [
            "[[-0.42836633]\n",
            " [-0.91917524]\n",
            " [-1.13452239]\n",
            " [ 3.22787689]\n",
            " [ 1.52110751]\n",
            " [-0.10615168]\n",
            " [-3.39488849]\n",
            " [-0.03028016]\n",
            " [-0.13193172]\n",
            " [ 1.19501258]\n",
            " [ 0.21661502]\n",
            " [ 0.44349523]\n",
            " [ 0.50417681]\n",
            " [ 0.81535859]\n",
            " [-0.07602286]\n",
            " [ 0.25896568]\n",
            " [-0.65135003]\n",
            " [ 0.07190956]\n",
            " [-0.40553827]\n",
            " [ 0.0237093 ]]\n"
          ],
          "name": "stdout"
        }
      ]
    }
  ]
}