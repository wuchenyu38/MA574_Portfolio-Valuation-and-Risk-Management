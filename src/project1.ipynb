{
  "nbformat": 4,
  "nbformat_minor": 0,
  "metadata": {
    "colab": {
      "name": "project1.ipynb",
      "version": "0.3.2",
      "provenance": [],
      "include_colab_link": true
    },
    "kernelspec": {
      "name": "python3",
      "display_name": "Python 3"
    }
  },
  "cells": [
    {
      "cell_type": "markdown",
      "metadata": {
        "id": "view-in-github",
        "colab_type": "text"
      },
      "source": [
        "<a href=\"https://colab.research.google.com/github/wqiu96/MA574_Portfolio-Valuation-and-Risk-Management/blob/master/src/project1.ipynb\" target=\"_parent\"><img src=\"https://colab.research.google.com/assets/colab-badge.svg\" alt=\"Open In Colab\"/></a>"
      ]
    },
    {
      "cell_type": "code",
      "metadata": {
        "id": "3UxRX2S8IEV8",
        "colab_type": "code",
        "outputId": "28af8fb9-e736-4623-98bf-651e7588209f",
        "colab": {
          "base_uri": "https://localhost:8080/",
          "height": 117
        }
      },
      "source": [
        "!git clone https://github.com/wqiu96/MA574_Portfolio-Valuation-and-Risk-Management.git"
      ],
      "execution_count": 1,
      "outputs": [
        {
          "output_type": "stream",
          "text": [
            "Cloning into 'MA574_Portfolio-Valuation-and-Risk-Management'...\n",
            "remote: Enumerating objects: 38, done.\u001b[K\n",
            "remote: Counting objects: 100% (38/38), done.\u001b[K\n",
            "remote: Compressing objects: 100% (33/33), done.\u001b[K\n",
            "remote: Total 38 (delta 5), reused 0 (delta 0), pack-reused 0\u001b[K\n",
            "Unpacking objects: 100% (38/38), done.\n"
          ],
          "name": "stdout"
        }
      ]
    },
    {
      "cell_type": "code",
      "metadata": {
        "id": "qErSyGqkIO9h",
        "colab_type": "code",
        "outputId": "13f1a1ab-fa3d-4a83-90f4-b5f098cbf7f2",
        "colab": {
          "base_uri": "https://localhost:8080/",
          "height": 33
        }
      },
      "source": [
        "cd MA574_Portfolio-Valuation-and-Risk-Management/src"
      ],
      "execution_count": 2,
      "outputs": [
        {
          "output_type": "stream",
          "text": [
            "/content/MA574_Portfolio-Valuation-and-Risk-Management/src\n"
          ],
          "name": "stdout"
        }
      ]
    },
    {
      "cell_type": "code",
      "metadata": {
        "id": "rzwmQtshH55G",
        "colab_type": "code",
        "colab": {}
      },
      "source": [
        "import pandas as pd\n",
        "import numpy as np\n",
        "from scipy.stats import norm\n",
        "import scipy.stats as stats\n",
        "from scipy.stats import kstest\n",
        "import matplotlib.pyplot as plt\n",
        "import seaborn as sns\n",
        "from IPython.display import display\n",
        "Apple = pd.read_csv('AAPL.csv')\n",
        "GOOG = pd.read_csv('GOOG.csv')\n",
        "ETF= pd.read_csv('SPDR_S&P_500_ETF.csv')\n",
        "Begin_Year2_index = 252"
      ],
      "execution_count": 0,
      "outputs": []
    },
    {
      "cell_type": "markdown",
      "metadata": {
        "id": "om137X4mLNxA",
        "colab_type": "text"
      },
      "source": [
        "# 1.Using this daily data, calculate the daily log returns for year-1. Build a histogram of these daily returns.\n"
      ]
    },
    {
      "cell_type": "code",
      "metadata": {
        "id": "aT75nb-TLMJ2",
        "colab_type": "code",
        "outputId": "f1d564cd-d7d9-4e24-d896-b7184512cb84",
        "colab": {
          "base_uri": "https://localhost:8080/",
          "height": 852
        }
      },
      "source": [
        "#Problem 1\n",
        "Log_return = pd.DataFrame(data = [np.log(Apple['Adj Close'][i]/Apple['Adj Close'][i-1]) for i in range(1,Begin_Year2_index)],columns = ['Apple_log_return'])\n",
        "Log_return['GOOG_log_return'] = np.array([np.log(GOOG['Adj Close'][i]/GOOG['Adj Close'][i-1]) for i in range(1,Begin_Year2_index)])\n",
        "Log_return['ETF_log_return'] = np.array([np.log(ETF['Adj Close'][i]/ETF['Adj Close'][i-1]) for i in range(1,Begin_Year2_index)])\n",
        "counts_Apple, bins_Apple, bars_Apple = plt.hist(Log_return['Apple_log_return'],bins = 80,color = 'red', weights = [1./len(Log_return['Apple_log_return'])]*len(Log_return['Apple_log_return']))\n",
        "plt.xlabel('Apple_log_return')\n",
        "plt.ylabel('Probability')\n",
        "plt.figure()\n",
        "counts_GOOG, bins_GOOG, bars_GOOG = plt.hist(Log_return['GOOG_log_return'],bins = 80,color = 'blue', weights = [1./len(Log_return['GOOG_log_return'])]*len(Log_return['GOOG_log_return']))\n",
        "plt.xlabel('GOOG_log_return')\n",
        "plt.ylabel('Probability')\n",
        "plt.figure()\n",
        "counts_ETF, bins_ETF, bars_ETF = plt.hist(Log_return['ETF_log_return'],bins = 80,color = 'yellow', weights = [1./len(Log_return['ETF_log_return'])]*len(Log_return['ETF_log_return']))\n",
        "plt.xlabel('ETF_log_return')\n",
        "plt.ylabel('Probability')\n",
        "plt.figure()"
      ],
      "execution_count": 50,
      "outputs": [
        {
          "output_type": "execute_result",
          "data": {
            "text/plain": [
              "<Figure size 432x288 with 0 Axes>"
            ]
          },
          "metadata": {
            "tags": []
          },
          "execution_count": 50
        },
        {
          "output_type": "display_data",
          "data": {
            "image/png": "[encoded data removed]",
            "text/plain": [
              "<Figure size 432x288 with 1 Axes>"
            ]
          },
          "metadata": {
            "tags": []
          }
        },
        {
          "output_type": "display_data",
          "data": {
            "image/png": "[encoded data removed]",
            "text/plain": [
              "<Figure size 432x288 with 1 Axes>"
            ]
          },
          "metadata": {
            "tags": []
          }
        },
        {
          "output_type": "display_data",
          "data": {
            "image/png": "[encoded data removed]",
            "text/plain": [
              "<Figure size 432x288 with 1 Axes>"
            ]
          },
          "metadata": {
            "tags": []
          }
        },
        {
          "output_type": "display_data",
          "data": {
            "text/plain": [
              "<Figure size 432x288 with 0 Axes>"
            ]
          },
          "metadata": {
            "tags": []
          }
        }
      ]
    },
    {
      "cell_type": "markdown",
      "metadata": {
        "id": "YdckQ9ibMd_6",
        "colab_type": "text"
      },
      "source": [
        "# 2.Fit a normal distribution to your year-1 daily log-returns."
      ]
    },
    {
      "cell_type": "code",
      "metadata": {
        "id": "Zk0QernJu1YY",
        "colab_type": "code",
        "colab": {
          "base_uri": "https://localhost:8080/",
          "height": 301
        },
        "outputId": "0d59eef8-04f1-4926-ecc2-acc4a191852b"
      },
      "source": [
        "sns.distplot(Log_return['Apple_log_return'],bins = 80,hist = True,kde = False, fit = stats.norm, color = 'g')"
      ],
      "execution_count": 55,
      "outputs": [
        {
          "output_type": "execute_result",
          "data": {
            "text/plain": [
              "<matplotlib.axes._subplots.AxesSubplot at 0x7f50b4833ac8>"
            ]
          },
          "metadata": {
            "tags": []
          },
          "execution_count": 55
        },
        {
          "output_type": "display_data",
          "data": {
            "image/png": "[encoded data removed]",
            "text/plain": [
              "<Figure size 432x288 with 1 Axes>"
            ]
          },
          "metadata": {
            "tags": []
          }
        }
      ]
    },
    {
      "cell_type": "code",
      "metadata": {
        "id": "yx_Iq17-xGAy",
        "colab_type": "code",
        "colab": {
          "base_uri": "https://localhost:8080/",
          "height": 301
        },
        "outputId": "29f075dd-d80c-4c31-d7ca-3f37314c0387"
      },
      "source": [
        "sns.distplot(Log_return['GOOG_log_return'],bins = 80,hist = True,kde = False, fit = stats.norm, color = 'r')"
      ],
      "execution_count": 56,
      "outputs": [
        {
          "output_type": "execute_result",
          "data": {
            "text/plain": [
              "<matplotlib.axes._subplots.AxesSubplot at 0x7f50b8572e10>"
            ]
          },
          "metadata": {
            "tags": []
          },
          "execution_count": 56
        },
        {
          "output_type": "display_data",
          "data": {
            "image/png": "[encoded data removed]",
            "text/plain": [
              "<Figure size 432x288 with 1 Axes>"
            ]
          },
          "metadata": {
            "tags": []
          }
        }
      ]
    },
    {
      "cell_type": "code",
      "metadata": {
        "id": "AjX8EfStxJGs",
        "colab_type": "code",
        "colab": {
          "base_uri": "https://localhost:8080/",
          "height": 301
        },
        "outputId": "22f8334a-37ff-4652-aeb1-ac400fc033fe"
      },
      "source": [
        "sns.distplot(Log_return['ETF_log_return'],bins = 80,hist = True,kde = False, fit = stats.norm)"
      ],
      "execution_count": 54,
      "outputs": [
        {
          "output_type": "execute_result",
          "data": {
            "text/plain": [
              "<matplotlib.axes._subplots.AxesSubplot at 0x7f50b4aa6588>"
            ]
          },
          "metadata": {
            "tags": []
          },
          "execution_count": 54
        },
        {
          "output_type": "display_data",
          "data": {
            "image/png": "[encoded data removed]",
            "text/plain": [
              "<Figure size 432x288 with 1 Axes>"
            ]
          },
          "metadata": {
            "tags": []
          }
        }
      ]
    },
    {
      "cell_type": "markdown",
      "metadata": {
        "id": "F9hJfMf70lwg",
        "colab_type": "text"
      },
      "source": [
        "# 8. Use all of the above to argue whether or not it is reasonable to assume that each of your year-1 log returns samples come from a normal distribution and your other distribution of choice. Use an appropriate hypothesis test to support your argument.\n"
      ]
    },
    {
      "cell_type": "markdown",
      "metadata": {
        "id": "PHH3Od6K2Iy4",
        "colab_type": "text"
      },
      "source": [
        "- Firstly, we use Kolmogorov-Smirnov test to test if this samples come from a normal distribution or not. we choose the $\\alpha = 0.05$"
      ]
    },
    {
      "cell_type": "code",
      "metadata": {
        "id": "cAMQ2qUQB9oC",
        "colab_type": "code",
        "colab": {
          "base_uri": "https://localhost:8080/",
          "height": 33
        },
        "outputId": "972e3c1d-9abb-467f-a2f2-bd27e9d46658"
      },
      "source": [
        "stats.norm.fit(Log_return['Apple_log_return']) #fit Apple log return to norm-distribution"
      ],
      "execution_count": 87,
      "outputs": [
        {
          "output_type": "execute_result",
          "data": {
            "text/plain": [
              "(0.00142565791208483, 0.013485239197559874)"
            ]
          },
          "metadata": {
            "tags": []
          },
          "execution_count": 87
        }
      ]
    },
    {
      "cell_type": "code",
      "metadata": {
        "id": "ZSWwm1o10sQi",
        "colab_type": "code",
        "colab": {
          "base_uri": "https://localhost:8080/",
          "height": 33
        },
        "outputId": "1616e24e-9461-46e3-b760-2c22075dc618"
      },
      "source": [
        "kstest(Log_return['Apple_log_return'], 'norm',(0.00142565791208483, 0.013485239197559874,))"
      ],
      "execution_count": 88,
      "outputs": [
        {
          "output_type": "execute_result",
          "data": {
            "text/plain": [
              "KstestResult(statistic=0.07406149688512817, pvalue=0.12114913491120463)"
            ]
          },
          "metadata": {
            "tags": []
          },
          "execution_count": 88
        }
      ]
    },
    {
      "cell_type": "markdown",
      "metadata": {
        "id": "QHGEHwTL2CAN",
        "colab_type": "text"
      },
      "source": [
        "pvalue > $\\alpha$, so we cannot reject the hypothesis that the Apple log return came from the normal distribution at $\\alpha = 0.05$"
      ]
    },
    {
      "cell_type": "code",
      "metadata": {
        "id": "zk13zaRcCKzM",
        "colab_type": "code",
        "colab": {
          "base_uri": "https://localhost:8080/",
          "height": 33
        },
        "outputId": "f594f81c-de16-41a1-f48a-73645cf6b90b"
      },
      "source": [
        "stats.norm.fit(Log_return['GOOG_log_return']) #fit GOOG log return to norm-distribution"
      ],
      "execution_count": 91,
      "outputs": [
        {
          "output_type": "execute_result",
          "data": {
            "text/plain": [
              "(0.0010121799346079724, 0.014369178495478523)"
            ]
          },
          "metadata": {
            "tags": []
          },
          "execution_count": 91
        }
      ]
    },
    {
      "cell_type": "code",
      "metadata": {
        "id": "ikX58Vgb3JT3",
        "colab_type": "code",
        "colab": {
          "base_uri": "https://localhost:8080/",
          "height": 33
        },
        "outputId": "2b799086-67ae-4ade-9085-981e106b496f"
      },
      "source": [
        "kstest(Log_return['GOOG_log_return'], 'norm',(0.0010121799346079724, 0.014369178495478523,))"
      ],
      "execution_count": 92,
      "outputs": [
        {
          "output_type": "execute_result",
          "data": {
            "text/plain": [
              "KstestResult(statistic=0.09692579194369585, pvalue=0.01668202441116732)"
            ]
          },
          "metadata": {
            "tags": []
          },
          "execution_count": 92
        }
      ]
    },
    {
      "cell_type": "markdown",
      "metadata": {
        "id": "r4y6Lq8w3Uhr",
        "colab_type": "text"
      },
      "source": [
        "pvalue <  α , so we reject the hypothesis that the GOOG log return came from the normal distribution at  α=0.05"
      ]
    },
    {
      "cell_type": "code",
      "metadata": {
        "id": "E4ua2pUCC7nh",
        "colab_type": "code",
        "colab": {
          "base_uri": "https://localhost:8080/",
          "height": 33
        },
        "outputId": "19996c79-d0b2-4a47-e90f-2e5ada0960e6"
      },
      "source": [
        "stats.norm.fit(Log_return['ETF_log_return'])"
      ],
      "execution_count": 93,
      "outputs": [
        {
          "output_type": "execute_result",
          "data": {
            "text/plain": [
              "(0.0007258024037359578, 0.007858031038307288)"
            ]
          },
          "metadata": {
            "tags": []
          },
          "execution_count": 93
        }
      ]
    },
    {
      "cell_type": "code",
      "metadata": {
        "id": "MAQmGSrI3J8Y",
        "colab_type": "code",
        "colab": {
          "base_uri": "https://localhost:8080/",
          "height": 33
        },
        "outputId": "dcd39789-6a87-41fc-8878-99aea93c2c6f"
      },
      "source": [
        "kstest(Log_return['ETF_log_return'], 'norm',(0.0007258024037359578, 0.007858031038307288,))"
      ],
      "execution_count": 94,
      "outputs": [
        {
          "output_type": "execute_result",
          "data": {
            "text/plain": [
              "KstestResult(statistic=0.11880318824456795, pvalue=0.0015219427448299621)"
            ]
          },
          "metadata": {
            "tags": []
          },
          "execution_count": 94
        }
      ]
    },
    {
      "cell_type": "markdown",
      "metadata": {
        "id": "pbphMV6G3f8M",
        "colab_type": "text"
      },
      "source": [
        "pvalue <  α , so we reject the hypothesis that the ETF log return came from the normal distribution at  α=0.05"
      ]
    },
    {
      "cell_type": "markdown",
      "metadata": {
        "id": "np6CUR4m_1cO",
        "colab_type": "text"
      },
      "source": [
        "- Secondly, we use Kolmogorov-Smirnov test to test if this samples come from a t-distribution or not. we choose the $\\alpha = 0.05$"
      ]
    },
    {
      "cell_type": "code",
      "metadata": {
        "id": "Sj218WnZ6ZnI",
        "colab_type": "code",
        "colab": {
          "base_uri": "https://localhost:8080/",
          "height": 33
        },
        "outputId": "f4c92822-27ca-4b32-e09f-c8fe2c29a69b"
      },
      "source": [
        "stats.t.fit(Log_return['Apple_log_return']) #fit Apple log return to t-distribution"
      ],
      "execution_count": 78,
      "outputs": [
        {
          "output_type": "execute_result",
          "data": {
            "text/plain": [
              "(3.555111449512162, 0.0010963014930051983, 0.009468477910042364)"
            ]
          },
          "metadata": {
            "tags": []
          },
          "execution_count": 78
        }
      ]
    },
    {
      "cell_type": "code",
      "metadata": {
        "id": "DKPrkU5W_ZFc",
        "colab_type": "code",
        "colab": {
          "base_uri": "https://localhost:8080/",
          "height": 33
        },
        "outputId": "4636801c-3a67-4d4a-826a-304ed45de038"
      },
      "source": [
        "kstest(Log_return['Apple_log_return'],'t',(3.555111449512162, 0.0010963014930051983, 0.009468477910042364,))"
      ],
      "execution_count": 79,
      "outputs": [
        {
          "output_type": "execute_result",
          "data": {
            "text/plain": [
              "KstestResult(statistic=0.034139501069563205, pvalue=0.9316875659375338)"
            ]
          },
          "metadata": {
            "tags": []
          },
          "execution_count": 79
        }
      ]
    },
    {
      "cell_type": "markdown",
      "metadata": {
        "id": "oCWokbeH_hAN",
        "colab_type": "text"
      },
      "source": [
        "pvalue >  α , so we cannot reject the hypothesis that the Apple log return came from the normal distribution at  α=0.05"
      ]
    },
    {
      "cell_type": "code",
      "metadata": {
        "id": "jeUIbjijAp8C",
        "colab_type": "code",
        "colab": {
          "base_uri": "https://localhost:8080/",
          "height": 33
        },
        "outputId": "48a3cc5d-8eb8-49c6-ee5a-8aa261bb008c"
      },
      "source": [
        "stats.t.fit(Log_return['GOOG_log_return']) #fit GOOG log return to t-distribution"
      ],
      "execution_count": 80,
      "outputs": [
        {
          "output_type": "execute_result",
          "data": {
            "text/plain": [
              "(3.47643118831203, 0.0018083727431770778, 0.010020753758218828)"
            ]
          },
          "metadata": {
            "tags": []
          },
          "execution_count": 80
        }
      ]
    },
    {
      "cell_type": "code",
      "metadata": {
        "id": "u5S3XKvyAqDL",
        "colab_type": "code",
        "colab": {
          "base_uri": "https://localhost:8080/",
          "height": 33
        },
        "outputId": "7235cc76-6e57-41fa-fc1f-0ac77170e925"
      },
      "source": [
        "kstest(Log_return['GOOG_log_return'],'t',(3.47643118831203, 0.0018083727431770778, 0.010020753758218828,))"
      ],
      "execution_count": 81,
      "outputs": [
        {
          "output_type": "execute_result",
          "data": {
            "text/plain": [
              "KstestResult(statistic=0.040817189564636314, pvalue=0.7971573995223605)"
            ]
          },
          "metadata": {
            "tags": []
          },
          "execution_count": 81
        }
      ]
    },
    {
      "cell_type": "markdown",
      "metadata": {
        "id": "0RGmkpayAzE4",
        "colab_type": "text"
      },
      "source": [
        "pvalue >  α , so we cannot reject the hypothesis that the Apple log return came from the normal distribution at  α=0.05"
      ]
    },
    {
      "cell_type": "code",
      "metadata": {
        "id": "JHoPJB0WAqJx",
        "colab_type": "code",
        "colab": {
          "base_uri": "https://localhost:8080/",
          "height": 33
        },
        "outputId": "4cb9a698-480e-489a-f8d4-7fbfe55da49f"
      },
      "source": [
        "stats.t.fit(Log_return['ETF_log_return']) #fit GOOG log return to t-distribution"
      ],
      "execution_count": 82,
      "outputs": [
        {
          "output_type": "execute_result",
          "data": {
            "text/plain": [
              "(2.4950504819151447, 0.0011057246408057303, 0.004434521942797269)"
            ]
          },
          "metadata": {
            "tags": []
          },
          "execution_count": 82
        }
      ]
    },
    {
      "cell_type": "code",
      "metadata": {
        "id": "WVjH-VnhAqQb",
        "colab_type": "code",
        "colab": {
          "base_uri": "https://localhost:8080/",
          "height": 33
        },
        "outputId": "93a421cf-2d2e-4720-f2c0-c8a130cce3ae"
      },
      "source": [
        "kstest(Log_return['GOOG_log_return'],'t',(2.4950504819151447, 0.0011057246408057303, 0.004434521942797269,))"
      ],
      "execution_count": 83,
      "outputs": [
        {
          "output_type": "execute_result",
          "data": {
            "text/plain": [
              "KstestResult(statistic=0.18158750423567738, pvalue=1.027862620849804e-07)"
            ]
          },
          "metadata": {
            "tags": []
          },
          "execution_count": 83
        }
      ]
    },
    {
      "cell_type": "markdown",
      "metadata": {
        "id": "ADiadZ1sD5te",
        "colab_type": "text"
      },
      "source": [
        "pvalue <  α , so we reject the hypothesis that the Apple log return came from the normal distribution at  α=0.05"
      ]
    }
  ]
}