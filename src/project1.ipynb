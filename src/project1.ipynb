{
  "nbformat": 4,
  "nbformat_minor": 0,
  "metadata": {
    "colab": {
      "name": "project1.ipynb",
      "version": "0.3.2",
      "provenance": [],
      "include_colab_link": true
    },
    "kernelspec": {
      "name": "python3",
      "display_name": "Python 3"
    }
  },
  "cells": [
    {
      "cell_type": "markdown",
      "metadata": {
        "id": "view-in-github",
        "colab_type": "text"
      },
      "source": [
        "<a href=\"https://colab.research.google.com/github/wqiu96/MA574_Portfolio-Valuation-and-Risk-Management/blob/master/src/project1.ipynb\" target=\"_parent\"><img src=\"https://colab.research.google.com/assets/colab-badge.svg\" alt=\"Open In Colab\"/></a>"
      ]
    },
    {
      "cell_type": "code",
      "metadata": {
        "id": "3UxRX2S8IEV8",
        "colab_type": "code",
        "colab": {
          "base_uri": "https://localhost:8080/",
          "height": 117
        },
        "outputId": "c0ead4b0-ad58-4ebe-8b83-6ad17ea2b22d"
      },
      "source": [
        "!git clone https://github.com/wqiu96/MA574_Portfolio-Valuation-and-Risk-Management.git"
      ],
      "execution_count": 1,
      "outputs": [
        {
          "output_type": "stream",
          "text": [
            "Cloning into 'MA574_Portfolio-Valuation-and-Risk-Management'...\n",
            "remote: Enumerating objects: 30, done.\u001b[K\n",
            "remote: Counting objects: 100% (30/30), done.\u001b[K\n",
            "remote: Compressing objects: 100% (25/25), done.\u001b[K\n",
            "remote: Total 30 (delta 4), reused 0 (delta 0), pack-reused 0\u001b[K\n",
            "Unpacking objects: 100% (30/30), done.\n"
          ],
          "name": "stdout"
        }
      ]
    },
    {
      "cell_type": "code",
      "metadata": {
        "id": "qErSyGqkIO9h",
        "colab_type": "code",
        "colab": {
          "base_uri": "https://localhost:8080/",
          "height": 33
        },
        "outputId": "5e6bf84e-30f2-42f1-a39f-abc1ae2a3f0a"
      },
      "source": [
        "cd MA574_Portfolio-Valuation-and-Risk-Management/src"
      ],
      "execution_count": 2,
      "outputs": [
        {
          "output_type": "stream",
          "text": [
            "/content/MA574_Portfolio-Valuation-and-Risk-Management/src\n"
          ],
          "name": "stdout"
        }
      ]
    },
    {
      "cell_type": "code",
      "metadata": {
        "id": "rzwmQtshH55G",
        "colab_type": "code",
        "colab": {}
      },
      "source": [
        "import pandas as pd\n",
        "import numpy as np\n",
        "import matplotlib.pyplot as plt\n",
        "from IPython.display import display\n",
        "Apple = pd.read_csv('AAPL.csv')\n",
        "GOOG = pd.read_csv('GOOG.csv')\n",
        "ETF= pd.read_csv('SPDR_S&P_500_ETF.csv')\n",
        "Begin_Year2_index = 252"
      ],
      "execution_count": 0,
      "outputs": []
    },
    {
      "cell_type": "markdown",
      "metadata": {
        "id": "om137X4mLNxA",
        "colab_type": "text"
      },
      "source": [
        "1.Using this daily data, calculate the daily log returns for year-1. Build a histogram of these daily returns.\n"
      ]
    },
    {
      "cell_type": "code",
      "metadata": {
        "id": "aT75nb-TLMJ2",
        "colab_type": "code",
        "colab": {
          "base_uri": "https://localhost:8080/",
          "height": 851
        },
        "outputId": "8e6446da-8238-4ad3-85d6-dc859dd24b45"
      },
      "source": [
        "#Problem 1\n",
        "Log_return = pd.DataFrame(data = [np.log(Apple['Adj Close'][i]/Apple['Adj Close'][i-1]) for i in range(1,Begin_Year2_index)],columns = ['Apple_log_return'])\n",
        "Log_return['GOOG_log_return'] = np.array([np.log(GOOG['Adj Close'][i]/GOOG['Adj Close'][i-1]) for i in range(1,Begin_Year2_index)])\n",
        "Log_return['ETF_log_return'] = np.array([np.log(ETF['Adj Close'][i]/ETF['Adj Close'][i-1]) for i in range(1,Begin_Year2_index)])\n",
        "bins = [0.001*i for i in range(-30,30)]\n",
        "plt.hist(Log_return['Apple_log_return'],bins = bins,color = 'red', weights = [1./len(Log_return['Apple_log_return'])]*len(Log_return['Apple_log_return']))\n",
        "plt.xlabel('Apple_log_return')\n",
        "plt.ylabel('Probability')\n",
        "plt.figure()\n",
        "plt.hist(Log_return['GOOG_log_return'],bins = bins,color = 'blue', weights = [1./len(Log_return['GOOG_log_return'])]*len(Log_return['GOOG_log_return']))\n",
        "plt.xlabel('GOOG_log_return')\n",
        "plt.ylabel('Probability')\n",
        "plt.figure()\n",
        "plt.hist(Log_return['ETF_log_return'],bins = bins,color = 'yellow', weights = [1./len(Log_return['ETF_log_return'])]*len(Log_return['ETF_log_return']))\n",
        "plt.xlabel('ETF_log_return')\n",
        "plt.ylabel('Probability')\n",
        "plt.figure()"
      ],
      "execution_count": 21,
      "outputs": [
        {
          "output_type": "execute_result",
          "data": {
            "text/plain": [
              "<Figure size 432x288 with 0 Axes>"
            ]
          },
          "metadata": {
            "tags": []
          },
          "execution_count": 21
        },
        {
          "output_type": "display_data",
          "data": {
            "image/png": "[encoded data removed]",
            "text/plain": [
              "<Figure size 432x288 with 1 Axes>"
            ]
          },
          "metadata": {
            "tags": []
          }
        },
        {
          "output_type": "display_data",
          "data": {
            "image/png": "[encoded data removed]",
            "text/plain": [
              "<Figure size 432x288 with 1 Axes>"
            ]
          },
          "metadata": {
            "tags": []
          }
        },
        {
          "output_type": "display_data",
          "data": {
            "image/png": "[encoded data removed]",
            "text/plain": [
              "<Figure size 432x288 with 1 Axes>"
            ]
          },
          "metadata": {
            "tags": []
          }
        },
        {
          "output_type": "display_data",
          "data": {
            "text/plain": [
              "<Figure size 432x288 with 0 Axes>"
            ]
          },
          "metadata": {
            "tags": []
          }
        }
      ]
    }
  ]
}