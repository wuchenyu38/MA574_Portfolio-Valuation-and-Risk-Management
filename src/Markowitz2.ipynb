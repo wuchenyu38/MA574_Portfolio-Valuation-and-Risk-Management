{
  "nbformat": 4,
  "nbformat_minor": 0,
  "metadata": {
    "colab": {
      "name": "Markowitz2.ipynb",
      "provenance": [],
      "collapsed_sections": [],
      "include_colab_link": true
    },
    "kernelspec": {
      "name": "python3",
      "display_name": "Python 3"
    }
  },
  "cells": [
    {
      "cell_type": "markdown",
      "metadata": {
        "id": "view-in-github",
        "colab_type": "text"
      },
      "source": [
        "<a href=\"https://colab.research.google.com/github/wqiu96/MA574_Portfolio-Valuation-and-Risk-Management/blob/master/src/Markowitz2.ipynb\" target=\"_parent\"><img src=\"https://colab.research.google.com/assets/colab-badge.svg\" alt=\"Open In Colab\"/></a>"
      ]
    },
    {
      "cell_type": "code",
      "metadata": {
        "id": "XtjEK3QhNsYc",
        "colab_type": "code",
        "colab": {}
      },
      "source": [
        "import numpy as np\n",
        "import pandas as pd\n",
        "import matplotlib.pyplot as plt\n",
        "from scipy import stats\n",
        "from numpy.linalg import *\n",
        "import os"
      ],
      "execution_count": 0,
      "outputs": []
    },
    {
      "cell_type": "code",
      "metadata": {
        "id": "PzGPxFXFWm4s",
        "colab_type": "code",
        "outputId": "df2a9583-3d59-4993-b459-fe56f6297118",
        "colab": {
          "base_uri": "https://localhost:8080/",
          "height": 134
        }
      },
      "source": [
        "!git clone https://github.com/wqiu96/MA574_Portfolio-Valuation-and-Risk-Management.git"
      ],
      "execution_count": 2,
      "outputs": [
        {
          "output_type": "stream",
          "text": [
            "Cloning into 'MA574_Portfolio-Valuation-and-Risk-Management'...\n",
            "remote: Enumerating objects: 11, done.\u001b[K\n",
            "remote: Counting objects: 100% (11/11), done.\u001b[K\n",
            "remote: Compressing objects: 100% (11/11), done.\u001b[K\n",
            "remote: Total 138 (delta 2), reused 0 (delta 0), pack-reused 127\n",
            "Receiving objects: 100% (138/138), 1.80 MiB | 18.96 MiB/s, done.\n",
            "Resolving deltas: 100% (31/31), done.\n"
          ],
          "name": "stdout"
        }
      ]
    },
    {
      "cell_type": "code",
      "metadata": {
        "id": "ZrnuPYx0XuQm",
        "colab_type": "code",
        "outputId": "87623520-2189-4923-f329-2ed5473b76cd",
        "colab": {
          "base_uri": "https://localhost:8080/",
          "height": 33
        }
      },
      "source": [
        "cd MA574_Portfolio-Valuation-and-Risk-Management/src/project3/"
      ],
      "execution_count": 3,
      "outputs": [
        {
          "output_type": "stream",
          "text": [
            "/content/MA574_Portfolio-Valuation-and-Risk-Management/src/project3\n"
          ],
          "name": "stdout"
        }
      ]
    },
    {
      "cell_type": "code",
      "metadata": {
        "id": "KEbSuzZOXx-7",
        "colab_type": "code",
        "colab": {}
      },
      "source": [
        "#Load data\n",
        "os.chdir('/content/MA574_Portfolio-Valuation-and-Risk-Management/src/project3/')\n",
        "file_chdir = os.getcwd()\n",
        "filecsv_list = []\n",
        "for root,dirs,files in os.walk(file_chdir):\n",
        "  for file in files:\n",
        "    if os.path.splitext(file)[1] == '.csv':\n",
        "      filecsv_list.append(file)\n",
        "R = pd.DataFrame()\n",
        "for csv in filecsv_list:\n",
        "  data = pd.read_csv(csv)\n",
        "  #calculate return\n",
        "  R[csv.strip('.csv')] = np.array([((data['Adj Close'][j]/data['Adj Close'][j-1])-1) for j in range(1,len(data['Adj Close']))])\n",
        " "
      ],
      "execution_count": 0,
      "outputs": []
    },
    {
      "cell_type": "code",
      "metadata": {
        "id": "JlOAkUlaVSOY",
        "colab_type": "code",
        "colab": {}
      },
      "source": [
        "#Find the break points for every year\n",
        "break_points = []\n",
        "break_points.append(0)\n",
        "break_points.append(data[data['Date'].isin(['2012-10-18'])].index[0])\n",
        "break_points.append(data[data['Date'].isin(['2014-10-17'])].index[0])\n",
        "break_points.append(data[data['Date'].isin(['2019-10-18'])].index[0])"
      ],
      "execution_count": 0,
      "outputs": []
    },
    {
      "cell_type": "code",
      "metadata": {
        "id": "mbHWB89QpdoL",
        "colab_type": "code",
        "colab": {
          "base_uri": "https://localhost:8080/",
          "height": 33
        },
        "outputId": "c8862e07-5279-480a-f7a7-340c0309b5fd"
      },
      "source": [
        "break_points"
      ],
      "execution_count": 56,
      "outputs": [
        {
          "output_type": "execute_result",
          "data": {
            "text/plain": [
              "[0, 757, 1258, 2517]"
            ]
          },
          "metadata": {
            "tags": []
          },
          "execution_count": 56
        }
      ]
    },
    {
      "cell_type": "code",
      "metadata": {
        "id": "kJyZLuodgCkz",
        "colab_type": "code",
        "colab": {}
      },
      "source": [
        "#Expected returns \n",
        "R_expect_1 = np.array(R[break_points[2]:break_points[3]].mean()).reshape(-1,1)\n",
        "R_expect_2 = np.array(R[break_points[1]:break_points[3]].mean()).reshape(-1,1)\n",
        "R_expect_3 = np.array(R[break_points[0]:break_points[3]].mean()).reshape(-1,1)"
      ],
      "execution_count": 0,
      "outputs": []
    },
    {
      "cell_type": "code",
      "metadata": {
        "id": "oMA7bXF75eBY",
        "colab_type": "code",
        "colab": {}
      },
      "source": [
        "R_cov =  np.array(R[break_points[2]:break_points[3]].cov())\n",
        "R_expect = R_expect_1\n",
        "one = np.ones((len(R_expect),1))\n",
        "A = np.dot(np.dot(one.reshape(1,-1),inv(R_cov)),R_expect)\n",
        "B = np.dot(np.dot(R_expect.reshape(1,-1),inv(R_cov)),R_expect)\n",
        "C = np.dot(np.dot(one.reshape(1,-1),inv(R_cov)),one)\n",
        "D = B*C - A**2\n",
        "g = (B * np.dot(inv(R_cov), one) - A* np.dot(inv(R_cov), R_expect))/D\n",
        "h = (C * np.dot(inv(R_cov), R_expect) - A* np.dot(inv(R_cov), one))/D\n",
        "min_sigma = np.dot(np.dot(g.reshape(1,-1),R_cov),g) - (np.dot(np.dot(h.reshape(1,-1),R_cov),g)**2)/np.dot(np.dot(h.reshape(1,-1),R_cov),h)"
      ],
      "execution_count": 0,
      "outputs": []
    },
    {
      "cell_type": "code",
      "metadata": {
        "id": "wUDTnwUg6MLt",
        "colab_type": "code",
        "outputId": "f50e0993-3fc4-4ff5-b59d-688387e47028",
        "colab": {
          "base_uri": "https://localhost:8080/",
          "height": 33
        }
      },
      "source": [
        "min_sigma"
      ],
      "execution_count": 74,
      "outputs": [
        {
          "output_type": "execute_result",
          "data": {
            "text/plain": [
              "array([[4.40130489e-05]])"
            ]
          },
          "metadata": {
            "tags": []
          },
          "execution_count": 74
        }
      ]
    },
    {
      "cell_type": "code",
      "metadata": {
        "id": "EtOv7RHn6Wpr",
        "colab_type": "code",
        "outputId": "c8aedd17-2da4-442c-90e0-685b7c78579d",
        "colab": {
          "base_uri": "https://localhost:8080/",
          "height": 283
        }
      },
      "source": [
        "sigma = []\n",
        "mu = []\n",
        "weight = []\n",
        "before_ = np.inf\n",
        "for i in range(30000,50000):\n",
        "    w = g + h*0.00000001*i\n",
        "    sigma_ = np.sqrt(np.dot(np.dot(w.reshape(1,-1),R_cov),w)*len(R_expect_1))*100\n",
        "    if sigma_ > before_:\n",
        "      sigma.append(sigma_[0][0])\n",
        "      weight.append(w)\n",
        "      mu.append(((1+0.00000001*i)**365 - 1)*100)\n",
        "    before_ = sigma_[0][0]\n",
        "plt.plot(sigma,mu)\n",
        "plt.ylabel(\"Expected return\")\n",
        "plt.xlabel(\"volatility\")\n",
        "plt.show()"
      ],
      "execution_count": 111,
      "outputs": [
        {
          "output_type": "display_data",
          "data": {
            "image/png": "[encoded data removed]",
            "text/plain": [
              "<Figure size 432x288 with 1 Axes>"
            ]
          },
          "metadata": {
            "tags": []
          }
        }
      ]
    }
  ]
}