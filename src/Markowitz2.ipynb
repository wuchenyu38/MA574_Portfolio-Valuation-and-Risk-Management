{
  "nbformat": 4,
  "nbformat_minor": 0,
  "metadata": {
    "colab": {
      "name": "Markowitz2.ipynb",
      "provenance": [],
      "collapsed_sections": [],
      "include_colab_link": true
    },
    "kernelspec": {
      "name": "python3",
      "display_name": "Python 3"
    }
  },
  "cells": [
    {
      "cell_type": "markdown",
      "metadata": {
        "id": "view-in-github",
        "colab_type": "text"
      },
      "source": [
        "<a href=\"https://colab.research.google.com/github/wqiu96/MA574_Portfolio-Valuation-and-Risk-Management/blob/master/src/Markowitz2.ipynb\" target=\"_parent\"><img src=\"https://colab.research.google.com/assets/colab-badge.svg\" alt=\"Open In Colab\"/></a>"
      ]
    },
    {
      "cell_type": "code",
      "metadata": {
        "id": "XtjEK3QhNsYc",
        "colab_type": "code",
        "colab": {}
      },
      "source": [
        "import numpy as np\n",
        "import pandas as pd\n",
        "import matplotlib.pyplot as plt\n",
        "from numpy.linalg import *\n",
        "import os"
      ],
      "execution_count": 0,
      "outputs": []
    },
    {
      "cell_type": "code",
      "metadata": {
        "id": "PzGPxFXFWm4s",
        "colab_type": "code",
        "outputId": "259236b0-6d8b-42c7-c2a1-3c5cf77efecc",
        "colab": {
          "base_uri": "https://localhost:8080/",
          "height": 134
        }
      },
      "source": [
        "!git clone https://github.com/wqiu96/MA574_Portfolio-Valuation-and-Risk-Management.git"
      ],
      "execution_count": 2,
      "outputs": [
        {
          "output_type": "stream",
          "text": [
            "Cloning into 'MA574_Portfolio-Valuation-and-Risk-Management'...\n",
            "remote: Enumerating objects: 96, done.\u001b[K\n",
            "remote: Counting objects: 100% (96/96), done.\u001b[K\n",
            "remote: Compressing objects: 100% (93/93), done.\u001b[K\n",
            "remote: Total 756 (delta 38), reused 18 (delta 3), pack-reused 660\u001b[K\n",
            "Receiving objects: 100% (756/756), 3.89 MiB | 831.00 KiB/s, done.\n",
            "Resolving deltas: 100% (316/316), done.\n"
          ],
          "name": "stdout"
        }
      ]
    },
    {
      "cell_type": "code",
      "metadata": {
        "id": "ZrnuPYx0XuQm",
        "colab_type": "code",
        "outputId": "91460de6-5928-4e92-874a-8ac439651e4a",
        "colab": {
          "base_uri": "https://localhost:8080/",
          "height": 33
        }
      },
      "source": [
        "cd MA574_Portfolio-Valuation-and-Risk-Management/src/project3/week1/"
      ],
      "execution_count": 3,
      "outputs": [
        {
          "output_type": "stream",
          "text": [
            "/content/MA574_Portfolio-Valuation-and-Risk-Management/src/project3/week1\n"
          ],
          "name": "stdout"
        }
      ]
    },
    {
      "cell_type": "code",
      "metadata": {
        "id": "KEbSuzZOXx-7",
        "colab_type": "code",
        "colab": {}
      },
      "source": [
        "#Load data\n",
        "os.chdir('/content/MA574_Portfolio-Valuation-and-Risk-Management/src/project3/week1')\n",
        "file_chdir = os.getcwd()\n",
        "filecsv_list = []\n",
        "for root,dirs,files in os.walk(file_chdir):\n",
        "  for file in files:\n",
        "    if os.path.splitext(file)[1] == '.csv' and os.path.splitext(file)[0] != 'VXX':\n",
        "      filecsv_list.append(file)\n",
        "R = pd.DataFrame()\n",
        "for csv in filecsv_list:\n",
        "  data = pd.read_csv(csv)\n",
        "  #calculate return\n",
        "  R[csv.strip('.csv')] = np.array([np.log(data['Adj Close'][j]/data['Adj Close'][j-1]) for j in range(1,len(data['Adj Close']))])\n",
        " "
      ],
      "execution_count": 0,
      "outputs": []
    },
    {
      "cell_type": "code",
      "metadata": {
        "id": "H7Yh4z3B8Diu",
        "colab_type": "code",
        "outputId": "d2564075-06d6-4a64-9f54-a02f688e93f6",
        "colab": {
          "base_uri": "https://localhost:8080/",
          "height": 351
        }
      },
      "source": [
        "filecsv_list"
      ],
      "execution_count": 5,
      "outputs": [
        {
          "output_type": "execute_result",
          "data": {
            "text/plain": [
              "['TM(Toyota).csv',\n",
              " 'GOOG.csv',\n",
              " 'AMD.csv',\n",
              " 'AEP(American Electric Power).csv',\n",
              " 'BAC(Bank of American).csv',\n",
              " 'JPM(JPMorgan).csv',\n",
              " 'BRK-B(Berkshire Hathaway).csv',\n",
              " 'DIS(disney).csv',\n",
              " 'AAPL.csv',\n",
              " 'VZ(Verizon Communications).csv',\n",
              " 'MAR(Marriot).csv',\n",
              " 'TEL(TE Connectivity).csv',\n",
              " 'MCD(McDonald).csv',\n",
              " 'BABA(Alibaba).csv',\n",
              " 'PG(Procter & Gamble).csv',\n",
              " 'KO(Cola).csv',\n",
              " 'LULU(Lululemon).csv',\n",
              " 'FB(Facebook).csv',\n",
              " 'SKX(Skechers).csv',\n",
              " 'WMT(Walmart).csv']"
            ]
          },
          "metadata": {
            "tags": []
          },
          "execution_count": 5
        }
      ]
    },
    {
      "cell_type": "code",
      "metadata": {
        "id": "JlOAkUlaVSOY",
        "colab_type": "code",
        "colab": {}
      },
      "source": [
        "#Find the break points for every year\n",
        "break_points = []\n",
        "break_points.append(data[data['Date'].isin(['10/18/2016'])].index[0])\n",
        "break_points.append(data[data['Date'].isin(['10/18/2017'])].index[0])\n",
        "break_points.append(data[data['Date'].isin(['10/18/2018'])].index[0])\n",
        "break_points.append(data[data['Date'].isin(['10/18/2019'])].index[0])"
      ],
      "execution_count": 0,
      "outputs": []
    },
    {
      "cell_type": "code",
      "metadata": {
        "id": "mbHWB89QpdoL",
        "colab_type": "code",
        "outputId": "50888379-2e44-403b-dbe3-f73057b0dac5",
        "colab": {
          "base_uri": "https://localhost:8080/",
          "height": 33
        }
      },
      "source": [
        "break_points"
      ],
      "execution_count": 7,
      "outputs": [
        {
          "output_type": "execute_result",
          "data": {
            "text/plain": [
              "[0, 252, 504, 755]"
            ]
          },
          "metadata": {
            "tags": []
          },
          "execution_count": 7
        }
      ]
    },
    {
      "cell_type": "code",
      "metadata": {
        "id": "oMA7bXF75eBY",
        "colab_type": "code",
        "colab": {}
      },
      "source": [
        "def ghm(R_expect,R_cov):\n",
        "  one = np.ones((len(R_expect),1))\n",
        "  A = np.dot(np.dot(one.reshape(1,-1),inv(R_cov)),R_expect)\n",
        "  B = np.dot(np.dot(R_expect.reshape(1,-1),inv(R_cov)),R_expect)\n",
        "  C = np.dot(np.dot(one.reshape(1,-1),inv(R_cov)),one)\n",
        "  D = B*C - A**2\n",
        "  g = (B * np.dot(inv(R_cov), one) - A* np.dot(inv(R_cov), R_expect))/D\n",
        "  h = (C * np.dot(inv(R_cov), R_expect) - A* np.dot(inv(R_cov), one))/D\n",
        "  min_sigma = np.dot(np.dot(g.reshape(1,-1),R_cov),g) - (np.dot(np.dot(h.reshape(1,-1),R_cov),g)**2)/np.dot(np.dot(h.reshape(1,-1),R_cov),h)\n",
        "  return g,h,min_sigma"
      ],
      "execution_count": 0,
      "outputs": []
    },
    {
      "cell_type": "code",
      "metadata": {
        "id": "vO3typylTR3q",
        "colab_type": "code",
        "colab": {}
      },
      "source": [
        "def effcientfrontier(g,h,R_cov,N1,N2):\n",
        "  sigma = []\n",
        "  mu = []\n",
        "  weight = []\n",
        "  before_ = np.inf\n",
        "  for i in range(N1,N2):\n",
        "      w = g + h*0.00000001*i\n",
        "      sigma_ = 250*np.dot(np.dot(w.reshape(1,-1),R_cov),w)[0][0]\n",
        "      if sigma_ > before_:\n",
        "        sigma.append(np.sqrt((np.exp(sigma_)-1)*np.exp(2*0.00000001*i*250 + sigma_))*100)\n",
        "        weight.append(w)\n",
        "        mu.append((np.exp(0.00000001*i*250 + sigma_/2)-1)*100)\n",
        "      before_ = sigma_\n",
        "  return sigma,mu,weight"
      ],
      "execution_count": 0,
      "outputs": []
    },
    {
      "cell_type": "code",
      "metadata": {
        "id": "EtOv7RHn6Wpr",
        "colab_type": "code",
        "outputId": "51f987bc-cad0-44d8-a89e-fed033705a80",
        "colab": {
          "base_uri": "https://localhost:8080/",
          "height": 295
        }
      },
      "source": [
        "#1 years effcientFronter\n",
        "R_cov =  np.array(R[break_points[2]:break_points[3]].cov())\n",
        "R_expect = np.array(R[break_points[2]:break_points[3]].mean()).reshape(-1,1)\n",
        "g1,h1,min_sigma1 = ghm(R_expect,R_cov)\n",
        "sigma1,mu1,weight1 = effcientfrontier(g1,h1,R_cov,2000,200000)\n",
        "plt.plot(sigma1,mu1)\n",
        "plt.ylabel(\"Expected return\")\n",
        "plt.xlabel(\"volatility\")\n",
        "plt.title(\"1 years EffcientFrontier\")\n",
        "plt.show()"
      ],
      "execution_count": 10,
      "outputs": [
        {
          "output_type": "display_data",
          "data": {
            "image/png": "[encoded data removed]",
            "text/plain": [
              "<Figure size 432x288 with 1 Axes>"
            ]
          },
          "metadata": {
            "tags": []
          }
        }
      ]
    },
    {
      "cell_type": "code",
      "metadata": {
        "id": "lBDtVHVSCO0V",
        "colab_type": "code",
        "outputId": "040de53a-4842-4d93-a800-1368f6cf8245",
        "colab": {
          "base_uri": "https://localhost:8080/",
          "height": 351
        }
      },
      "source": [
        "weight1[0] # weight for minimum sigma(1 years)"
      ],
      "execution_count": 11,
      "outputs": [
        {
          "output_type": "execute_result",
          "data": {
            "text/plain": [
              "array([[ 0.28985834],\n",
              "       [ 0.01547922],\n",
              "       [-0.04763136],\n",
              "       [ 0.33534499],\n",
              "       [ 0.0145087 ],\n",
              "       [ 0.03392494],\n",
              "       [ 0.05458261],\n",
              "       [-0.03928113],\n",
              "       [-0.07782384],\n",
              "       [ 0.05566174],\n",
              "       [ 0.08122668],\n",
              "       [ 0.02055698],\n",
              "       [ 0.14562982],\n",
              "       [ 0.02441439],\n",
              "       [-0.00734129],\n",
              "       [ 0.03781209],\n",
              "       [ 0.03603572],\n",
              "       [ 0.0040041 ],\n",
              "       [-0.00278641],\n",
              "       [ 0.02582371]])"
            ]
          },
          "metadata": {
            "tags": []
          },
          "execution_count": 11
        }
      ]
    },
    {
      "cell_type": "code",
      "metadata": {
        "id": "hXTWZL_GAKrO",
        "colab_type": "code",
        "outputId": "1677a533-c3fb-484c-fd6f-324b7c8f09c9",
        "colab": {
          "base_uri": "https://localhost:8080/",
          "height": 295
        }
      },
      "source": [
        "#2 years effcientFronter\n",
        "R_cov2 =  np.array(R[break_points[1]:break_points[3]].cov())\n",
        "R_expect2 = np.array(R[break_points[1]:break_points[3]].mean()).reshape(-1,1)\n",
        "g2,h2,min_sigma2 = ghm(R_expect2,R_cov2)\n",
        "sigma2,mu2,weight2 = effcientfrontier(g2,h2,R_cov2,2000,200000)\n",
        "plt.plot(sigma2,mu2)\n",
        "plt.ylabel(\"Expected return\")\n",
        "plt.xlabel(\"volatility\")\n",
        "plt.title(\"2 years EffcientFrontier\")\n",
        "plt.show()"
      ],
      "execution_count": 12,
      "outputs": [
        {
          "output_type": "display_data",
          "data": {
            "image/png": "[encoded data removed]",
            "text/plain": [
              "<Figure size 432x288 with 1 Axes>"
            ]
          },
          "metadata": {
            "tags": []
          }
        }
      ]
    },
    {
      "cell_type": "code",
      "metadata": {
        "id": "LB6mZvwrCbC1",
        "colab_type": "code",
        "outputId": "5a9c93b9-a74d-4cc0-8b08-ed606ea3834a",
        "colab": {
          "base_uri": "https://localhost:8080/",
          "height": 351
        }
      },
      "source": [
        "weight2[0] # weight for minimum sigma(2 years)"
      ],
      "execution_count": 13,
      "outputs": [
        {
          "output_type": "execute_result",
          "data": {
            "text/plain": [
              "array([[ 0.22795886],\n",
              "       [-0.03990323],\n",
              "       [-0.02830564],\n",
              "       [ 0.35041376],\n",
              "       [ 0.04236483],\n",
              "       [ 0.04263899],\n",
              "       [-0.06597292],\n",
              "       [ 0.02585746],\n",
              "       [-0.01404113],\n",
              "       [ 0.0496923 ],\n",
              "       [ 0.0756634 ],\n",
              "       [ 0.0334025 ],\n",
              "       [ 0.11844693],\n",
              "       [ 0.00373382],\n",
              "       [ 0.00835447],\n",
              "       [ 0.11291927],\n",
              "       [ 0.03983696],\n",
              "       [ 0.01815905],\n",
              "       [-0.00400992],\n",
              "       [ 0.00279022]])"
            ]
          },
          "metadata": {
            "tags": []
          },
          "execution_count": 13
        }
      ]
    },
    {
      "cell_type": "code",
      "metadata": {
        "id": "dXnuA4LdBt8b",
        "colab_type": "code",
        "outputId": "7887b8ba-5ef9-4ae7-9840-4ddde730bd77",
        "colab": {
          "base_uri": "https://localhost:8080/",
          "height": 295
        }
      },
      "source": [
        "#3 years effcientFronter\n",
        "R_cov3 =  np.array(R[break_points[0]:break_points[3]].cov())\n",
        "R_expect3 = np.array(R[break_points[0]:break_points[3]].mean()).reshape(-1,1)\n",
        "g3,h3,min_sigma3 = ghm(R_expect3,R_cov3)\n",
        "sigma3,mu3,weight3 = effcientfrontier(g3,h3,R_cov3,2000,200000)\n",
        "plt.plot(sigma3,mu3)\n",
        "plt.ylabel(\"Expected return\")\n",
        "plt.xlabel(\"volatility\")\n",
        "plt.title(\"3 years EffcientFrontier\")\n",
        "plt.show()"
      ],
      "execution_count": 14,
      "outputs": [
        {
          "output_type": "display_data",
          "data": {
            "image/png": "[encoded data removed]",
            "text/plain": [
              "<Figure size 432x288 with 1 Axes>"
            ]
          },
          "metadata": {
            "tags": []
          }
        }
      ]
    },
    {
      "cell_type": "code",
      "metadata": {
        "id": "2eyeqGokCi4n",
        "colab_type": "code",
        "outputId": "fc870b56-288c-4531-82b2-ccad79049fe1",
        "colab": {
          "base_uri": "https://localhost:8080/",
          "height": 351
        }
      },
      "source": [
        "weight3[0] # weight for minimum sigma(3 years)"
      ],
      "execution_count": 15,
      "outputs": [
        {
          "output_type": "execute_result",
          "data": {
            "text/plain": [
              "array([[ 1.77138982e-01],\n",
              "       [-3.18246079e-02],\n",
              "       [-1.81982962e-02],\n",
              "       [ 3.01793642e-01],\n",
              "       [ 2.82128601e-02],\n",
              "       [ 9.24170840e-02],\n",
              "       [-5.19196700e-02],\n",
              "       [ 4.33380257e-02],\n",
              "       [-5.02563395e-03],\n",
              "       [ 3.82113248e-02],\n",
              "       [ 4.50667741e-02],\n",
              "       [ 1.58491961e-02],\n",
              "       [ 1.27078784e-01],\n",
              "       [ 1.44020071e-02],\n",
              "       [ 3.18832710e-02],\n",
              "       [ 1.24171925e-01],\n",
              "       [ 2.17293294e-02],\n",
              "       [ 1.48363652e-02],\n",
              "       [-2.38407065e-04],\n",
              "       [ 3.10770446e-02]])"
            ]
          },
          "metadata": {
            "tags": []
          },
          "execution_count": 15
        }
      ]
    },
    {
      "cell_type": "code",
      "metadata": {
        "id": "DITMmG-huY_F",
        "colab_type": "code",
        "outputId": "f99a7ea6-e892-445d-c77e-ffb8107f616c",
        "colab": {
          "base_uri": "https://localhost:8080/",
          "height": 329
        }
      },
      "source": [
        "plt.plot(sigma1,mu1,label = \"1 years EffcientFrontier\")\n",
        "plt.plot(sigma2,mu2,label = \"2 years EffcientFrontier\")\n",
        "plt.plot(sigma3,mu3,label = \"3 years EffcientFrontier\")\n",
        "plt.ylabel(\"Expected return\")\n",
        "plt.xlabel(\"volatility\")\n",
        "plt.title(\"3 different EffcientFrontier\")\n",
        "plt.legend()\n",
        "plt.show()"
      ],
      "execution_count": 16,
      "outputs": [
        {
          "output_type": "stream",
          "text": [
            "/usr/local/lib/python3.6/dist-packages/IPython/core/pylabtools.py:125: UserWarning: Creating legend with loc=\"best\" can be slow with large amounts of data.\n",
            "  fig.canvas.print_figure(bytes_io, **kw)\n"
          ],
          "name": "stderr"
        },
        {
          "output_type": "display_data",
          "data": {
            "image/png": "[encoded data removed]",
            "text/plain": [
              "<Figure size 432x288 with 1 Axes>"
            ]
          },
          "metadata": {
            "tags": []
          }
        }
      ]
    },
    {
      "cell_type": "code",
      "metadata": {
        "id": "9Od4e2oDClES",
        "colab_type": "code",
        "colab": {}
      },
      "source": [
        "R_copy = R.copy()\n",
        "vxx = pd.read_csv('VXX.csv')\n",
        "R_copy['VXX'] = np.array([((vxx['Adj Close'][j]/vxx['Adj Close'][j-1])-1) for j in range(1,len(vxx['Adj Close']))])"
      ],
      "execution_count": 0,
      "outputs": []
    },
    {
      "cell_type": "code",
      "metadata": {
        "id": "7wc4bp7dxndV",
        "colab_type": "code",
        "outputId": "bc35982f-15de-4002-b509-69c43ab26abb",
        "colab": {
          "base_uri": "https://localhost:8080/",
          "height": 673
        }
      },
      "source": [
        "R_mean = pd.DataFrame()\n",
        "R_mean[\"1 year\"] = R_copy[break_points[2]:break_points[3]].mean()\n",
        "R_mean[\"2 year\"] = R_copy[break_points[1]:break_points[3]].mean()\n",
        "R_mean[\"3 year\"] = R_copy[break_points[0]:break_points[3]].mean()\n",
        "R_mean"
      ],
      "execution_count": 18,
      "outputs": [
        {
          "output_type": "execute_result",
          "data": {
            "text/html": [
              "<div>\n",
              "<style scoped>\n",
              "    .dataframe tbody tr th:only-of-type {\n",
              "        vertical-align: middle;\n",
              "    }\n",
              "\n",
              "    .dataframe tbody tr th {\n",
              "        vertical-align: top;\n",
              "    }\n",
              "\n",
              "    .dataframe thead th {\n",
              "        text-align: right;\n",
              "    }\n",
              "</style>\n",
              "<table border=\"1\" class=\"dataframe\">\n",
              "  <thead>\n",
              "    <tr style=\"text-align: right;\">\n",
              "      <th></th>\n",
              "      <th>1 year</th>\n",
              "      <th>2 year</th>\n",
              "      <th>3 year</th>\n",
              "    </tr>\n",
              "  </thead>\n",
              "  <tbody>\n",
              "    <tr>\n",
              "      <th>TM(Toyota)</th>\n",
              "      <td>0.000604</td>\n",
              "      <td>0.000239</td>\n",
              "      <td>0.000304</td>\n",
              "    </tr>\n",
              "    <tr>\n",
              "      <th>GOOG</th>\n",
              "      <td>0.000539</td>\n",
              "      <td>0.000451</td>\n",
              "      <td>0.000594</td>\n",
              "    </tr>\n",
              "    <tr>\n",
              "      <th>AMD</th>\n",
              "      <td>0.000603</td>\n",
              "      <td>0.001569</td>\n",
              "      <td>0.002022</td>\n",
              "    </tr>\n",
              "    <tr>\n",
              "      <th>AEP(American Electric Power)</th>\n",
              "      <td>0.001217</td>\n",
              "      <td>0.000642</td>\n",
              "      <td>0.000663</td>\n",
              "    </tr>\n",
              "    <tr>\n",
              "      <th>BAC(Bank of American)</th>\n",
              "      <td>0.000376</td>\n",
              "      <td>0.000350</td>\n",
              "      <td>0.000899</td>\n",
              "    </tr>\n",
              "    <tr>\n",
              "      <th>JPM(JPMorgan)</th>\n",
              "      <td>0.000557</td>\n",
              "      <td>0.000518</td>\n",
              "      <td>0.000873</td>\n",
              "    </tr>\n",
              "    <tr>\n",
              "      <th>BRK-B(Berkshire Hathaway)</th>\n",
              "      <td>0.000001</td>\n",
              "      <td>0.000210</td>\n",
              "      <td>0.000489</td>\n",
              "    </tr>\n",
              "    <tr>\n",
              "      <th>DIS(disney)</th>\n",
              "      <td>0.000530</td>\n",
              "      <td>0.000630</td>\n",
              "      <td>0.000539</td>\n",
              "    </tr>\n",
              "    <tr>\n",
              "      <th>AAPL</th>\n",
              "      <td>0.000421</td>\n",
              "      <td>0.000840</td>\n",
              "      <td>0.000990</td>\n",
              "    </tr>\n",
              "    <tr>\n",
              "      <th>VZ(Verizon Communications)</th>\n",
              "      <td>0.000606</td>\n",
              "      <td>0.000626</td>\n",
              "      <td>0.000437</td>\n",
              "    </tr>\n",
              "    <tr>\n",
              "      <th>MAR(Marriot)</th>\n",
              "      <td>0.000251</td>\n",
              "      <td>0.000139</td>\n",
              "      <td>0.000819</td>\n",
              "    </tr>\n",
              "    <tr>\n",
              "      <th>TEL(TE Connectivity)</th>\n",
              "      <td>0.000747</td>\n",
              "      <td>0.000202</td>\n",
              "      <td>0.000634</td>\n",
              "    </tr>\n",
              "    <tr>\n",
              "      <th>MCD(McDonald)</th>\n",
              "      <td>0.000983</td>\n",
              "      <td>0.000552</td>\n",
              "      <td>0.000932</td>\n",
              "    </tr>\n",
              "    <tr>\n",
              "      <th>BABA(Alibaba)</th>\n",
              "      <td>0.000696</td>\n",
              "      <td>-0.000120</td>\n",
              "      <td>0.000653</td>\n",
              "    </tr>\n",
              "    <tr>\n",
              "      <th>PG(Procter &amp; Gamble)</th>\n",
              "      <td>0.001629</td>\n",
              "      <td>0.000608</td>\n",
              "      <td>0.000524</td>\n",
              "    </tr>\n",
              "    <tr>\n",
              "      <th>KO(Cola)</th>\n",
              "      <td>0.000856</td>\n",
              "      <td>0.000461</td>\n",
              "      <td>0.000484</td>\n",
              "    </tr>\n",
              "    <tr>\n",
              "      <th>LULU(Lululemon)</th>\n",
              "      <td>0.001485</td>\n",
              "      <td>0.002472</td>\n",
              "      <td>0.001725</td>\n",
              "    </tr>\n",
              "    <tr>\n",
              "      <th>FB(Facebook)</th>\n",
              "      <td>0.000725</td>\n",
              "      <td>0.000108</td>\n",
              "      <td>0.000488</td>\n",
              "    </tr>\n",
              "    <tr>\n",
              "      <th>SKX(Skechers)</th>\n",
              "      <td>0.001408</td>\n",
              "      <td>0.000782</td>\n",
              "      <td>0.000656</td>\n",
              "    </tr>\n",
              "    <tr>\n",
              "      <th>WMT(Walmart)</th>\n",
              "      <td>0.000937</td>\n",
              "      <td>0.000731</td>\n",
              "      <td>0.000821</td>\n",
              "    </tr>\n",
              "    <tr>\n",
              "      <th>VXX</th>\n",
              "      <td>-0.001182</td>\n",
              "      <td>-0.000059</td>\n",
              "      <td>-0.001665</td>\n",
              "    </tr>\n",
              "  </tbody>\n",
              "</table>\n",
              "</div>"
            ],
            "text/plain": [
              "                                1 year    2 year    3 year\n",
              "TM(Toyota)                    0.000604  0.000239  0.000304\n",
              "GOOG                          0.000539  0.000451  0.000594\n",
              "AMD                           0.000603  0.001569  0.002022\n",
              "AEP(American Electric Power)  0.001217  0.000642  0.000663\n",
              "BAC(Bank of American)         0.000376  0.000350  0.000899\n",
              "JPM(JPMorgan)                 0.000557  0.000518  0.000873\n",
              "BRK-B(Berkshire Hathaway)     0.000001  0.000210  0.000489\n",
              "DIS(disney)                   0.000530  0.000630  0.000539\n",
              "AAPL                          0.000421  0.000840  0.000990\n",
              "VZ(Verizon Communications)    0.000606  0.000626  0.000437\n",
              "MAR(Marriot)                  0.000251  0.000139  0.000819\n",
              "TEL(TE Connectivity)          0.000747  0.000202  0.000634\n",
              "MCD(McDonald)                 0.000983  0.000552  0.000932\n",
              "BABA(Alibaba)                 0.000696 -0.000120  0.000653\n",
              "PG(Procter & Gamble)          0.001629  0.000608  0.000524\n",
              "KO(Cola)                      0.000856  0.000461  0.000484\n",
              "LULU(Lululemon)               0.001485  0.002472  0.001725\n",
              "FB(Facebook)                  0.000725  0.000108  0.000488\n",
              "SKX(Skechers)                 0.001408  0.000782  0.000656\n",
              "WMT(Walmart)                  0.000937  0.000731  0.000821\n",
              "VXX                          -0.001182 -0.000059 -0.001665"
            ]
          },
          "metadata": {
            "tags": []
          },
          "execution_count": 18
        }
      ]
    },
    {
      "cell_type": "code",
      "metadata": {
        "id": "NZSvKLjKyvEc",
        "colab_type": "code",
        "outputId": "2cdb8cff-936f-4e4f-ed91-c0d2d704289b",
        "colab": {
          "base_uri": "https://localhost:8080/",
          "height": 673
        }
      },
      "source": [
        "R_var = pd.DataFrame()\n",
        "R_var[\"1 year\"] = R_copy[break_points[2]:break_points[3]].var()\n",
        "R_var[\"2 year\"] = R_copy[break_points[1]:break_points[3]].var()\n",
        "R_var[\"3 year\"] = R_copy[break_points[0]:break_points[3]].var()\n",
        "R_var"
      ],
      "execution_count": 19,
      "outputs": [
        {
          "output_type": "execute_result",
          "data": {
            "text/html": [
              "<div>\n",
              "<style scoped>\n",
              "    .dataframe tbody tr th:only-of-type {\n",
              "        vertical-align: middle;\n",
              "    }\n",
              "\n",
              "    .dataframe tbody tr th {\n",
              "        vertical-align: top;\n",
              "    }\n",
              "\n",
              "    .dataframe thead th {\n",
              "        text-align: right;\n",
              "    }\n",
              "</style>\n",
              "<table border=\"1\" class=\"dataframe\">\n",
              "  <thead>\n",
              "    <tr style=\"text-align: right;\">\n",
              "      <th></th>\n",
              "      <th>1 year</th>\n",
              "      <th>2 year</th>\n",
              "      <th>3 year</th>\n",
              "    </tr>\n",
              "  </thead>\n",
              "  <tbody>\n",
              "    <tr>\n",
              "      <th>TM(Toyota)</th>\n",
              "      <td>0.000098</td>\n",
              "      <td>0.000114</td>\n",
              "      <td>0.000099</td>\n",
              "    </tr>\n",
              "    <tr>\n",
              "      <th>GOOG</th>\n",
              "      <td>0.000324</td>\n",
              "      <td>0.000277</td>\n",
              "      <td>0.000218</td>\n",
              "    </tr>\n",
              "    <tr>\n",
              "      <th>AMD</th>\n",
              "      <td>0.001696</td>\n",
              "      <td>0.001406</td>\n",
              "      <td>0.001441</td>\n",
              "    </tr>\n",
              "    <tr>\n",
              "      <th>AEP(American Electric Power)</th>\n",
              "      <td>0.000094</td>\n",
              "      <td>0.000096</td>\n",
              "      <td>0.000087</td>\n",
              "    </tr>\n",
              "    <tr>\n",
              "      <th>BAC(Bank of American)</th>\n",
              "      <td>0.000271</td>\n",
              "      <td>0.000233</td>\n",
              "      <td>0.000230</td>\n",
              "    </tr>\n",
              "    <tr>\n",
              "      <th>JPM(JPMorgan)</th>\n",
              "      <td>0.000176</td>\n",
              "      <td>0.000170</td>\n",
              "      <td>0.000153</td>\n",
              "    </tr>\n",
              "    <tr>\n",
              "      <th>BRK-B(Berkshire Hathaway)</th>\n",
              "      <td>0.000140</td>\n",
              "      <td>0.000147</td>\n",
              "      <td>0.000116</td>\n",
              "    </tr>\n",
              "    <tr>\n",
              "      <th>DIS(disney)</th>\n",
              "      <td>0.000213</td>\n",
              "      <td>0.000179</td>\n",
              "      <td>0.000145</td>\n",
              "    </tr>\n",
              "    <tr>\n",
              "      <th>AAPL</th>\n",
              "      <td>0.000400</td>\n",
              "      <td>0.000305</td>\n",
              "      <td>0.000241</td>\n",
              "    </tr>\n",
              "    <tr>\n",
              "      <th>VZ(Verizon Communications)</th>\n",
              "      <td>0.000139</td>\n",
              "      <td>0.000143</td>\n",
              "      <td>0.000132</td>\n",
              "    </tr>\n",
              "    <tr>\n",
              "      <th>MAR(Marriot)</th>\n",
              "      <td>0.000284</td>\n",
              "      <td>0.000235</td>\n",
              "      <td>0.000199</td>\n",
              "    </tr>\n",
              "    <tr>\n",
              "      <th>TEL(TE Connectivity)</th>\n",
              "      <td>0.000254</td>\n",
              "      <td>0.000201</td>\n",
              "      <td>0.000167</td>\n",
              "    </tr>\n",
              "    <tr>\n",
              "      <th>MCD(McDonald)</th>\n",
              "      <td>0.000108</td>\n",
              "      <td>0.000122</td>\n",
              "      <td>0.000105</td>\n",
              "    </tr>\n",
              "    <tr>\n",
              "      <th>BABA(Alibaba)</th>\n",
              "      <td>0.000474</td>\n",
              "      <td>0.000449</td>\n",
              "      <td>0.000386</td>\n",
              "    </tr>\n",
              "    <tr>\n",
              "      <th>PG(Procter &amp; Gamble)</th>\n",
              "      <td>0.000151</td>\n",
              "      <td>0.000125</td>\n",
              "      <td>0.000101</td>\n",
              "    </tr>\n",
              "    <tr>\n",
              "      <th>KO(Cola)</th>\n",
              "      <td>0.000132</td>\n",
              "      <td>0.000102</td>\n",
              "      <td>0.000081</td>\n",
              "    </tr>\n",
              "    <tr>\n",
              "      <th>LULU(Lululemon)</th>\n",
              "      <td>0.000577</td>\n",
              "      <td>0.000498</td>\n",
              "      <td>0.000558</td>\n",
              "    </tr>\n",
              "    <tr>\n",
              "      <th>FB(Facebook)</th>\n",
              "      <td>0.000430</td>\n",
              "      <td>0.000458</td>\n",
              "      <td>0.000350</td>\n",
              "    </tr>\n",
              "    <tr>\n",
              "      <th>SKX(Skechers)</th>\n",
              "      <td>0.000741</td>\n",
              "      <td>0.001093</td>\n",
              "      <td>0.000963</td>\n",
              "    </tr>\n",
              "    <tr>\n",
              "      <th>WMT(Walmart)</th>\n",
              "      <td>0.000119</td>\n",
              "      <td>0.000178</td>\n",
              "      <td>0.000149</td>\n",
              "    </tr>\n",
              "    <tr>\n",
              "      <th>VXX</th>\n",
              "      <td>0.001630</td>\n",
              "      <td>0.001923</td>\n",
              "      <td>0.001613</td>\n",
              "    </tr>\n",
              "  </tbody>\n",
              "</table>\n",
              "</div>"
            ],
            "text/plain": [
              "                                1 year    2 year    3 year\n",
              "TM(Toyota)                    0.000098  0.000114  0.000099\n",
              "GOOG                          0.000324  0.000277  0.000218\n",
              "AMD                           0.001696  0.001406  0.001441\n",
              "AEP(American Electric Power)  0.000094  0.000096  0.000087\n",
              "BAC(Bank of American)         0.000271  0.000233  0.000230\n",
              "JPM(JPMorgan)                 0.000176  0.000170  0.000153\n",
              "BRK-B(Berkshire Hathaway)     0.000140  0.000147  0.000116\n",
              "DIS(disney)                   0.000213  0.000179  0.000145\n",
              "AAPL                          0.000400  0.000305  0.000241\n",
              "VZ(Verizon Communications)    0.000139  0.000143  0.000132\n",
              "MAR(Marriot)                  0.000284  0.000235  0.000199\n",
              "TEL(TE Connectivity)          0.000254  0.000201  0.000167\n",
              "MCD(McDonald)                 0.000108  0.000122  0.000105\n",
              "BABA(Alibaba)                 0.000474  0.000449  0.000386\n",
              "PG(Procter & Gamble)          0.000151  0.000125  0.000101\n",
              "KO(Cola)                      0.000132  0.000102  0.000081\n",
              "LULU(Lululemon)               0.000577  0.000498  0.000558\n",
              "FB(Facebook)                  0.000430  0.000458  0.000350\n",
              "SKX(Skechers)                 0.000741  0.001093  0.000963\n",
              "WMT(Walmart)                  0.000119  0.000178  0.000149\n",
              "VXX                           0.001630  0.001923  0.001613"
            ]
          },
          "metadata": {
            "tags": []
          },
          "execution_count": 19
        }
      ]
    },
    {
      "cell_type": "code",
      "metadata": {
        "id": "RYLhQzN00NKi",
        "colab_type": "code",
        "outputId": "0ebf60dd-c772-4a33-8e29-57932854226c",
        "colab": {
          "base_uri": "https://localhost:8080/",
          "height": 673
        }
      },
      "source": [
        "R_sharpo = pd.DataFrame()\n",
        "rf = 0.0158\n",
        "rf_daily = (1 + rf)**(1/250) - 1\n",
        "R_sharpo[\"1 year\"] = (R_mean[\"1 year\"] - rf_daily )/R_var[\"1 year\"]\n",
        "R_sharpo[\"2 year\"] = (R_mean[\"2 year\"] - rf_daily )/R_var[\"2 year\"]\n",
        "R_sharpo[\"3 year\"] = (R_mean[\"3 year\"] - rf_daily )/R_var[\"3 year\"]\n",
        "R_sharpo "
      ],
      "execution_count": 20,
      "outputs": [
        {
          "output_type": "execute_result",
          "data": {
            "text/html": [
              "<div>\n",
              "<style scoped>\n",
              "    .dataframe tbody tr th:only-of-type {\n",
              "        vertical-align: middle;\n",
              "    }\n",
              "\n",
              "    .dataframe tbody tr th {\n",
              "        vertical-align: top;\n",
              "    }\n",
              "\n",
              "    .dataframe thead th {\n",
              "        text-align: right;\n",
              "    }\n",
              "</style>\n",
              "<table border=\"1\" class=\"dataframe\">\n",
              "  <thead>\n",
              "    <tr style=\"text-align: right;\">\n",
              "      <th></th>\n",
              "      <th>1 year</th>\n",
              "      <th>2 year</th>\n",
              "      <th>3 year</th>\n",
              "    </tr>\n",
              "  </thead>\n",
              "  <tbody>\n",
              "    <tr>\n",
              "      <th>TM(Toyota)</th>\n",
              "      <td>5.551086</td>\n",
              "      <td>1.542059</td>\n",
              "      <td>2.446167</td>\n",
              "    </tr>\n",
              "    <tr>\n",
              "      <th>GOOG</th>\n",
              "      <td>1.467587</td>\n",
              "      <td>1.401800</td>\n",
              "      <td>2.441910</td>\n",
              "    </tr>\n",
              "    <tr>\n",
              "      <th>AMD</th>\n",
              "      <td>0.318546</td>\n",
              "      <td>1.070918</td>\n",
              "      <td>1.359909</td>\n",
              "    </tr>\n",
              "    <tr>\n",
              "      <th>AEP(American Electric Power)</th>\n",
              "      <td>12.256117</td>\n",
              "      <td>6.067954</td>\n",
              "      <td>6.901235</td>\n",
              "    </tr>\n",
              "    <tr>\n",
              "      <th>BAC(Bank of American)</th>\n",
              "      <td>1.153905</td>\n",
              "      <td>1.232105</td>\n",
              "      <td>3.633832</td>\n",
              "    </tr>\n",
              "    <tr>\n",
              "      <th>JPM(JPMorgan)</th>\n",
              "      <td>2.814384</td>\n",
              "      <td>2.681967</td>\n",
              "      <td>5.284104</td>\n",
              "    </tr>\n",
              "    <tr>\n",
              "      <th>BRK-B(Berkshire Hathaway)</th>\n",
              "      <td>-0.438807</td>\n",
              "      <td>0.998253</td>\n",
              "      <td>3.674764</td>\n",
              "    </tr>\n",
              "    <tr>\n",
              "      <th>DIS(disney)</th>\n",
              "      <td>2.191603</td>\n",
              "      <td>3.159082</td>\n",
              "      <td>3.271665</td>\n",
              "    </tr>\n",
              "    <tr>\n",
              "      <th>AAPL</th>\n",
              "      <td>0.894690</td>\n",
              "      <td>2.549833</td>\n",
              "      <td>3.840414</td>\n",
              "    </tr>\n",
              "    <tr>\n",
              "      <th>VZ(Verizon Communications)</th>\n",
              "      <td>3.904017</td>\n",
              "      <td>3.942019</td>\n",
              "      <td>2.837340</td>\n",
              "    </tr>\n",
              "    <tr>\n",
              "      <th>MAR(Marriot)</th>\n",
              "      <td>0.662720</td>\n",
              "      <td>0.324484</td>\n",
              "      <td>3.808172</td>\n",
              "    </tr>\n",
              "    <tr>\n",
              "      <th>TEL(TE Connectivity)</th>\n",
              "      <td>2.697526</td>\n",
              "      <td>0.693948</td>\n",
              "      <td>3.413532</td>\n",
              "    </tr>\n",
              "    <tr>\n",
              "      <th>MCD(McDonald)</th>\n",
              "      <td>8.517022</td>\n",
              "      <td>4.012133</td>\n",
              "      <td>8.304176</td>\n",
              "    </tr>\n",
              "    <tr>\n",
              "      <th>BABA(Alibaba)</th>\n",
              "      <td>1.336309</td>\n",
              "      <td>-0.405424</td>\n",
              "      <td>1.526212</td>\n",
              "    </tr>\n",
              "    <tr>\n",
              "      <th>PG(Procter &amp; Gamble)</th>\n",
              "      <td>10.393898</td>\n",
              "      <td>4.376989</td>\n",
              "      <td>4.567247</td>\n",
              "    </tr>\n",
              "    <tr>\n",
              "      <th>KO(Cola)</th>\n",
              "      <td>6.006926</td>\n",
              "      <td>3.891466</td>\n",
              "      <td>5.175950</td>\n",
              "    </tr>\n",
              "    <tr>\n",
              "      <th>LULU(Lululemon)</th>\n",
              "      <td>2.464770</td>\n",
              "      <td>4.834407</td>\n",
              "      <td>2.979618</td>\n",
              "    </tr>\n",
              "    <tr>\n",
              "      <th>FB(Facebook)</th>\n",
              "      <td>1.541866</td>\n",
              "      <td>0.098740</td>\n",
              "      <td>1.216614</td>\n",
              "    </tr>\n",
              "    <tr>\n",
              "      <th>SKX(Skechers)</th>\n",
              "      <td>1.816246</td>\n",
              "      <td>0.658683</td>\n",
              "      <td>0.615492</td>\n",
              "    </tr>\n",
              "    <tr>\n",
              "      <th>WMT(Walmart)</th>\n",
              "      <td>7.322209</td>\n",
              "      <td>3.749576</td>\n",
              "      <td>5.082661</td>\n",
              "    </tr>\n",
              "    <tr>\n",
              "      <th>VXX</th>\n",
              "      <td>-0.763179</td>\n",
              "      <td>-0.063229</td>\n",
              "      <td>-1.070813</td>\n",
              "    </tr>\n",
              "  </tbody>\n",
              "</table>\n",
              "</div>"
            ],
            "text/plain": [
              "                                 1 year    2 year    3 year\n",
              "TM(Toyota)                     5.551086  1.542059  2.446167\n",
              "GOOG                           1.467587  1.401800  2.441910\n",
              "AMD                            0.318546  1.070918  1.359909\n",
              "AEP(American Electric Power)  12.256117  6.067954  6.901235\n",
              "BAC(Bank of American)          1.153905  1.232105  3.633832\n",
              "JPM(JPMorgan)                  2.814384  2.681967  5.284104\n",
              "BRK-B(Berkshire Hathaway)     -0.438807  0.998253  3.674764\n",
              "DIS(disney)                    2.191603  3.159082  3.271665\n",
              "AAPL                           0.894690  2.549833  3.840414\n",
              "VZ(Verizon Communications)     3.904017  3.942019  2.837340\n",
              "MAR(Marriot)                   0.662720  0.324484  3.808172\n",
              "TEL(TE Connectivity)           2.697526  0.693948  3.413532\n",
              "MCD(McDonald)                  8.517022  4.012133  8.304176\n",
              "BABA(Alibaba)                  1.336309 -0.405424  1.526212\n",
              "PG(Procter & Gamble)          10.393898  4.376989  4.567247\n",
              "KO(Cola)                       6.006926  3.891466  5.175950\n",
              "LULU(Lululemon)                2.464770  4.834407  2.979618\n",
              "FB(Facebook)                   1.541866  0.098740  1.216614\n",
              "SKX(Skechers)                  1.816246  0.658683  0.615492\n",
              "WMT(Walmart)                   7.322209  3.749576  5.082661\n",
              "VXX                           -0.763179 -0.063229 -1.070813"
            ]
          },
          "metadata": {
            "tags": []
          },
          "execution_count": 20
        }
      ]
    },
    {
      "cell_type": "code",
      "metadata": {
        "id": "twFh1236SXgQ",
        "colab_type": "code",
        "outputId": "44deece1-3744-4593-89cf-7576b0a8c2cc",
        "colab": {
          "base_uri": "https://localhost:8080/",
          "height": 295
        }
      },
      "source": [
        "#1 years effcientFronter with VXX\n",
        "R_cov4 =  np.array(R_copy[break_points[2]:break_points[3]].cov())\n",
        "R_expect4 = np.array(R_copy[break_points[2]:break_points[3]].mean()).reshape(-1,1)\n",
        "g4,h4,min_sigma4 = ghm(R_expect4,R_cov4)\n",
        "sigma_v,mu_v,weight_v = effcientfrontier(g4,h4,R_cov4,2000,200000)\n",
        "plt.plot(sigma_v,mu_v)\n",
        "plt.ylabel(\"Expected return\")\n",
        "plt.xlabel(\"volatility\")\n",
        "plt.title(\"1 years EffcientFrontier with VXX\")\n",
        "plt.show()"
      ],
      "execution_count": 21,
      "outputs": [
        {
          "output_type": "display_data",
          "data": {
            "image/png": "[encoded data removed]",
            "text/plain": [
              "<Figure size 432x288 with 1 Axes>"
            ]
          },
          "metadata": {
            "tags": []
          }
        }
      ]
    },
    {
      "cell_type": "code",
      "metadata": {
        "id": "Fva3Z0u0Jj_M",
        "colab_type": "code",
        "colab": {}
      },
      "source": [
        "#Find the maximun sharpe ratio\n",
        "def sharpe_ratio(sigma_v,mu_v,rf):\n",
        "  sharpe = 0\n",
        "  m = 0\n",
        "  for i in range(len(sigma_v)):\n",
        "    k_t = (mu_v[i] - rf*100)/sigma_v[i]\n",
        "    if k_t > sharpe:\n",
        "      sharpe = k_t\n",
        "      m = i\n",
        "  return sharpe,m\n"
      ],
      "execution_count": 0,
      "outputs": []
    },
    {
      "cell_type": "code",
      "metadata": {
        "id": "tFstPZqNacdJ",
        "colab_type": "code",
        "outputId": "44dba4af-a674-43bc-e41e-465710a45837",
        "colab": {
          "base_uri": "https://localhost:8080/",
          "height": 295
        }
      },
      "source": [
        "rf = 0.0158 # Choose 1 year US treasury rate as risk free rate\n",
        "sigma_x = np.linspace(7,25,1000).reshape(-1,1)\n",
        "sharpe,index_ = sharpe_ratio(sigma_v,mu_v,rf)\n",
        "targent_v = (sharpe * sigma_x + rf*100).reshape(-1,1)\n",
        "plt.plot(sigma_x,targent_v,label = \"Capital Market Line\")\n",
        "plt.plot(sigma_v,mu_v,label = \"Efficient Froniter\")\n",
        "plt.scatter(sigma_v[index_], mu_v[index_], color='r',marker = \"x\")\n",
        "plt.text(sigma_v[index_], mu_v[index_],'Tangency portfolio',ha='left',fontsize=10)\n",
        "plt.ylabel(\"Expected return\")\n",
        "plt.xlabel(\"Standard volatility\")\n",
        "plt.title(\"1 years EffcientFrontier with VXX\")\n",
        "plt.legend()\n",
        "plt.show()\n"
      ],
      "execution_count": 23,
      "outputs": [
        {
          "output_type": "display_data",
          "data": {
            "image/png": "[encoded data removed]",
            "text/plain": [
              "<Figure size 432x288 with 1 Axes>"
            ]
          },
          "metadata": {
            "tags": []
          }
        }
      ]
    },
    {
      "cell_type": "code",
      "metadata": {
        "id": "x9bg67dP1Cih",
        "colab_type": "code",
        "outputId": "0e2aa15f-39d9-4a95-c82c-546d668a4074",
        "colab": {
          "base_uri": "https://localhost:8080/",
          "height": 368
        }
      },
      "source": [
        "weight_v[0] # weight for min sigma"
      ],
      "execution_count": 24,
      "outputs": [
        {
          "output_type": "execute_result",
          "data": {
            "text/plain": [
              "array([[0.09858   ],\n",
              "       [0.03756154],\n",
              "       [0.00234203],\n",
              "       [0.1516477 ],\n",
              "       [0.0172956 ],\n",
              "       [0.1267295 ],\n",
              "       [0.01312421],\n",
              "       [0.00073126],\n",
              "       [0.00138825],\n",
              "       [0.04626243],\n",
              "       [0.03926978],\n",
              "       [0.03358525],\n",
              "       [0.08833429],\n",
              "       [0.03845354],\n",
              "       [0.01582809],\n",
              "       [0.05732822],\n",
              "       [0.02607384],\n",
              "       [0.00389342],\n",
              "       [0.0268575 ],\n",
              "       [0.03215925],\n",
              "       [0.14255431]])"
            ]
          },
          "metadata": {
            "tags": []
          },
          "execution_count": 24
        }
      ]
    },
    {
      "cell_type": "code",
      "metadata": {
        "id": "RAPvmN3AkY9C",
        "colab_type": "code",
        "outputId": "804cf14f-1749-46fc-aac6-29aabb1cc293",
        "colab": {
          "base_uri": "https://localhost:8080/",
          "height": 368
        }
      },
      "source": [
        "weight_v[index_]  # weight for tangency portfoilo"
      ],
      "execution_count": 25,
      "outputs": [
        {
          "output_type": "execute_result",
          "data": {
            "text/plain": [
              "array([[ 0.12833084],\n",
              "       [ 0.02058057],\n",
              "       [-0.00572253],\n",
              "       [ 0.28139009],\n",
              "       [-0.04771709],\n",
              "       [ 0.27979922],\n",
              "       [-0.3389904 ],\n",
              "       [-0.05424854],\n",
              "       [-0.02974341],\n",
              "       [-0.05305345],\n",
              "       [ 0.0255774 ],\n",
              "       [ 0.09539672],\n",
              "       [ 0.15321549],\n",
              "       [ 0.05452339],\n",
              "       [ 0.20601091],\n",
              "       [ 0.0341934 ],\n",
              "       [ 0.08262153],\n",
              "       [-0.01132032],\n",
              "       [ 0.03694396],\n",
              "       [ 0.04747671],\n",
              "       [ 0.09473551]])"
            ]
          },
          "metadata": {
            "tags": []
          },
          "execution_count": 25
        }
      ]
    },
    {
      "cell_type": "code",
      "metadata": {
        "id": "2boQs70wJWw_",
        "colab_type": "code",
        "outputId": "ac7e035e-ab06-43e8-af25-a90ff1026370",
        "colab": {
          "base_uri": "https://localhost:8080/",
          "height": 33
        }
      },
      "source": [
        "np.sum(np.abs(weight_v[index_]))/np.sum(weight_v[index_]) #leverage for the tangency portfoilo"
      ],
      "execution_count": 26,
      "outputs": [
        {
          "output_type": "execute_result",
          "data": {
            "text/plain": [
              "2.0815914761616408"
            ]
          },
          "metadata": {
            "tags": []
          },
          "execution_count": 26
        }
      ]
    },
    {
      "cell_type": "code",
      "metadata": {
        "id": "qH-yKZSDWvwZ",
        "colab_type": "code",
        "outputId": "976b79bc-853b-4c4e-d214-0e642db1ba94",
        "colab": {
          "base_uri": "https://localhost:8080/",
          "height": 368
        }
      },
      "source": [
        "rf = 0.0158 # Choose 1 year US treasury rate as risk free rate\n",
        "def findTangent(R_cov, R_expect, rf):\n",
        "  rf_daily = (1 + rf)**(1/250) - 1\n",
        "  one = np.ones((len(R_expect),1))\n",
        "  w_b = np.dot(inv(R_cov),(R_expect - rf_daily*one))\n",
        "  w_t = w_b/(np.dot(one.T,w_b))\n",
        "  mu_T = np.dot(w_t.T,R_expect)\n",
        "  mu_p = np.dot(w_b.T,R_expect) + (1 - np.dot(w_b.T,one))*rf_daily\n",
        "  cp = (mu_p - rf_daily)/(np.dot(np.dot((R_expect - rf_daily*one).T,inv(R_cov)),(R_expect - rf_daily*one)))\n",
        "  w_mp = cp * w_b\n",
        "  print(w_t)\n",
        "  return mu_T,w_t,w_b,w_mp\n",
        "mu_T,w_t,w_b,w_mp = findTangent(R_cov4, R_expect4, rf)\n",
        "\n"
      ],
      "execution_count": 27,
      "outputs": [
        {
          "output_type": "stream",
          "text": [
            "[[ 0.13966389]\n",
            " [ 0.01411197]\n",
            " [-0.00879458]\n",
            " [ 0.33081317]\n",
            " [-0.07248252]\n",
            " [ 0.33810844]\n",
            " [-0.47312226]\n",
            " [-0.07519213]\n",
            " [-0.04160247]\n",
            " [-0.09088608]\n",
            " [ 0.02036153]\n",
            " [ 0.11894271]\n",
            " [ 0.17793084]\n",
            " [ 0.06064492]\n",
            " [ 0.2784577 ]\n",
            " [ 0.0253806 ]\n",
            " [ 0.10416238]\n",
            " [-0.01711572]\n",
            " [ 0.04078621]\n",
            " [ 0.05331163]\n",
            " [ 0.07651978]]\n"
          ],
          "name": "stdout"
        }
      ]
    },
    {
      "cell_type": "code",
      "metadata": {
        "id": "mshTIBDljj2Z",
        "colab_type": "code",
        "outputId": "533b15b2-a826-49d8-af4c-cb7410616215",
        "colab": {
          "base_uri": "https://localhost:8080/",
          "height": 33
        }
      },
      "source": [
        "sigma_T = np.dot(np.dot(w_t.T,R_cov4),w_t)[0][0]\n",
        "mu_annual = (np.exp(mu_T*250 + sigma_T/2)-1)*100\n",
        "sigma_annual = np.sqrt((np.exp(sigma_T)-1)*np.exp(2*mu_T*250 + sigma_T))*100\n",
        "k = (mu_annual - rf*100)/sigma_annual\n",
        "print(k[0][0])"
      ],
      "execution_count": 28,
      "outputs": [
        {
          "output_type": "stream",
          "text": [
            "43.93677172161802\n"
          ],
          "name": "stdout"
        }
      ]
    }
  ]
}