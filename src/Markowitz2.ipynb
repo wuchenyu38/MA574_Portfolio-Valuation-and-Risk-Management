{
  "nbformat": 4,
  "nbformat_minor": 0,
  "metadata": {
    "colab": {
      "name": "Markowitz2.ipynb",
      "provenance": [],
      "collapsed_sections": [],
      "include_colab_link": true
    },
    "kernelspec": {
      "name": "python3",
      "display_name": "Python 3"
    }
  },
  "cells": [
    {
      "cell_type": "markdown",
      "metadata": {
        "id": "view-in-github",
        "colab_type": "text"
      },
      "source": [
        "<a href=\"https://colab.research.google.com/github/wqiu96/MA574_Portfolio-Valuation-and-Risk-Management/blob/master/src/Markowitz2.ipynb\" target=\"_parent\"><img src=\"https://colab.research.google.com/assets/colab-badge.svg\" alt=\"Open In Colab\"/></a>"
      ]
    },
    {
      "cell_type": "code",
      "metadata": {
        "id": "XtjEK3QhNsYc",
        "colab_type": "code",
        "colab": {}
      },
      "source": [
        "import numpy as np\n",
        "import pandas as pd\n",
        "import matplotlib.pyplot as plt\n",
        "from numpy.linalg import *\n",
        "import os"
      ],
      "execution_count": 0,
      "outputs": []
    },
    {
      "cell_type": "code",
      "metadata": {
        "id": "PzGPxFXFWm4s",
        "colab_type": "code",
        "outputId": "95f198ed-a4f3-4a5e-ab7f-32eeec7d40ff",
        "colab": {
          "base_uri": "https://localhost:8080/",
          "height": 134
        }
      },
      "source": [
        "!git clone https://github.com/wqiu96/MA574_Portfolio-Valuation-and-Risk-Management.git"
      ],
      "execution_count": 2,
      "outputs": [
        {
          "output_type": "stream",
          "text": [
            "Cloning into 'MA574_Portfolio-Valuation-and-Risk-Management'...\n",
            "remote: Enumerating objects: 20, done.\u001b[K\n",
            "remote: Counting objects: 100% (20/20), done.\u001b[K\n",
            "remote: Compressing objects: 100% (20/20), done.\u001b[K\n",
            "remote: Total 147 (delta 4), reused 0 (delta 0), pack-reused 127\u001b[K\n",
            "Receiving objects: 100% (147/147), 1.86 MiB | 13.01 MiB/s, done.\n",
            "Resolving deltas: 100% (33/33), done.\n"
          ],
          "name": "stdout"
        }
      ]
    },
    {
      "cell_type": "code",
      "metadata": {
        "id": "ZrnuPYx0XuQm",
        "colab_type": "code",
        "outputId": "5524f98b-49ed-4cd0-98d3-fc6638194036",
        "colab": {
          "base_uri": "https://localhost:8080/",
          "height": 33
        }
      },
      "source": [
        "cd MA574_Portfolio-Valuation-and-Risk-Management/src/project3/"
      ],
      "execution_count": 3,
      "outputs": [
        {
          "output_type": "stream",
          "text": [
            "/content/MA574_Portfolio-Valuation-and-Risk-Management/src/project3\n"
          ],
          "name": "stdout"
        }
      ]
    },
    {
      "cell_type": "code",
      "metadata": {
        "id": "KEbSuzZOXx-7",
        "colab_type": "code",
        "colab": {}
      },
      "source": [
        "#Load data\n",
        "os.chdir('/content/MA574_Portfolio-Valuation-and-Risk-Management/src/project3/')\n",
        "file_chdir = os.getcwd()\n",
        "filecsv_list = []\n",
        "for root,dirs,files in os.walk(file_chdir):\n",
        "  for file in files:\n",
        "    if os.path.splitext(file)[1] == '.csv' and os.path.splitext(file)[0] != 'VXX':\n",
        "      filecsv_list.append(file)\n",
        "R = pd.DataFrame()\n",
        "for csv in filecsv_list:\n",
        "  data = pd.read_csv(csv)\n",
        "  #calculate return\n",
        "  R[csv.strip('.csv')] = np.array([((data['Adj Close'][j]/data['Adj Close'][j-1])-1) for j in range(1,len(data['Adj Close']))])\n",
        " "
      ],
      "execution_count": 0,
      "outputs": []
    },
    {
      "cell_type": "code",
      "metadata": {
        "id": "JlOAkUlaVSOY",
        "colab_type": "code",
        "colab": {}
      },
      "source": [
        "#Find the break points for every year\n",
        "break_points = []\n",
        "break_points.append(0)\n",
        "break_points.append(data[data['Date'].isin(['2012-10-18'])].index[0])\n",
        "break_points.append(data[data['Date'].isin(['2014-10-17'])].index[0])\n",
        "break_points.append(data[data['Date'].isin(['2019-10-18'])].index[0])"
      ],
      "execution_count": 0,
      "outputs": []
    },
    {
      "cell_type": "code",
      "metadata": {
        "id": "mbHWB89QpdoL",
        "colab_type": "code",
        "outputId": "0c2f6f43-8a73-4aab-c41e-17f115b2f685",
        "colab": {
          "base_uri": "https://localhost:8080/",
          "height": 33
        }
      },
      "source": [
        "break_points"
      ],
      "execution_count": 6,
      "outputs": [
        {
          "output_type": "execute_result",
          "data": {
            "text/plain": [
              "[0, 757, 1258, 2517]"
            ]
          },
          "metadata": {
            "tags": []
          },
          "execution_count": 6
        }
      ]
    },
    {
      "cell_type": "code",
      "metadata": {
        "id": "kJyZLuodgCkz",
        "colab_type": "code",
        "colab": {}
      },
      "source": [
        "#Expected returns \n",
        "R_expect_1 = np.array(R[break_points[2]:break_points[3]].mean()).reshape(-1,1)\n",
        "R_expect_2 = np.array(R[break_points[1]:break_points[3]].mean()).reshape(-1,1)\n",
        "R_expect_3 = np.array(R[break_points[0]:break_points[3]].mean()).reshape(-1,1)"
      ],
      "execution_count": 0,
      "outputs": []
    },
    {
      "cell_type": "code",
      "metadata": {
        "id": "oMA7bXF75eBY",
        "colab_type": "code",
        "colab": {}
      },
      "source": [
        "R_cov =  np.array(R[break_points[2]:break_points[3]].cov())\n",
        "R_expect = R_expect_1\n",
        "one = np.ones((len(R_expect),1))\n",
        "A = np.dot(np.dot(one.reshape(1,-1),inv(R_cov)),R_expect)\n",
        "B = np.dot(np.dot(R_expect.reshape(1,-1),inv(R_cov)),R_expect)\n",
        "C = np.dot(np.dot(one.reshape(1,-1),inv(R_cov)),one)\n",
        "D = B*C - A**2\n",
        "g = (B * np.dot(inv(R_cov), one) - A* np.dot(inv(R_cov), R_expect))/D\n",
        "h = (C * np.dot(inv(R_cov), R_expect) - A* np.dot(inv(R_cov), one))/D\n",
        "min_sigma = np.dot(np.dot(g.reshape(1,-1),R_cov),g) - (np.dot(np.dot(h.reshape(1,-1),R_cov),g)**2)/np.dot(np.dot(h.reshape(1,-1),R_cov),h)"
      ],
      "execution_count": 0,
      "outputs": []
    },
    {
      "cell_type": "code",
      "metadata": {
        "id": "wUDTnwUg6MLt",
        "colab_type": "code",
        "outputId": "09562977-f730-4d90-f74d-53aa5b9e4312",
        "colab": {
          "base_uri": "https://localhost:8080/",
          "height": 33
        }
      },
      "source": [
        "min_sigma"
      ],
      "execution_count": 12,
      "outputs": [
        {
          "output_type": "execute_result",
          "data": {
            "text/plain": [
              "array([[4.40130489e-05]])"
            ]
          },
          "metadata": {
            "tags": []
          },
          "execution_count": 12
        }
      ]
    },
    {
      "cell_type": "code",
      "metadata": {
        "id": "EtOv7RHn6Wpr",
        "colab_type": "code",
        "outputId": "d27ce3d9-ea59-41a8-dbb2-f5c07115ff52",
        "colab": {
          "base_uri": "https://localhost:8080/",
          "height": 295
        }
      },
      "source": [
        "#5 years effcientFronter\n",
        "sigma = []\n",
        "mu = []\n",
        "weight = []\n",
        "before_ = np.inf\n",
        "for i in range(30000,50000):\n",
        "    w = g + h*0.00000001*i\n",
        "    sigma_ = np.sqrt(np.dot(np.dot(w.reshape(1,-1),R_cov),w)[0][0])*np.sqrt(break_points[3]-break_points[2])*100\n",
        "    if sigma_ > before_:\n",
        "      sigma.append(sigma_)\n",
        "      weight.append(w)\n",
        "      mu.append(((1+0.00000001*i)**365 - 1)*100)\n",
        "    before_ = sigma_\n",
        "plt.plot(sigma,mu)\n",
        "plt.ylabel(\"Expected return\")\n",
        "plt.xlabel(\"volatility\")\n",
        "plt.title(\"5 years effcientFronter\")\n",
        "plt.show()"
      ],
      "execution_count": 134,
      "outputs": [
        {
          "output_type": "display_data",
          "data": {
            "image/png": "[encoded data removed]",
            "text/plain": [
              "<Figure size 432x288 with 1 Axes>"
            ]
          },
          "metadata": {
            "tags": []
          }
        }
      ]
    },
    {
      "cell_type": "code",
      "metadata": {
        "id": "lBDtVHVSCO0V",
        "colab_type": "code",
        "outputId": "8ef0a24b-5c92-4c31-bc01-6531853956d2",
        "colab": {
          "base_uri": "https://localhost:8080/",
          "height": 351
        }
      },
      "source": [
        "weight[0] # weight for minimum variance(5 years)"
      ],
      "execution_count": 14,
      "outputs": [
        {
          "output_type": "execute_result",
          "data": {
            "text/plain": [
              "array([[-0.00323648],\n",
              "       [-0.06046523],\n",
              "       [ 0.0028622 ],\n",
              "       [ 0.08194963],\n",
              "       [ 0.64421737],\n",
              "       [-0.02723252],\n",
              "       [ 0.17031783],\n",
              "       [ 0.00535578],\n",
              "       [ 0.19397081],\n",
              "       [-0.05416766],\n",
              "       [-0.01334993],\n",
              "       [ 0.00292669],\n",
              "       [ 0.00206613],\n",
              "       [-0.12853912],\n",
              "       [-0.02049677],\n",
              "       [-0.01607688],\n",
              "       [ 0.13499139],\n",
              "       [ 0.02087011],\n",
              "       [ 0.07160568],\n",
              "       [-0.00756903]])"
            ]
          },
          "metadata": {
            "tags": []
          },
          "execution_count": 14
        }
      ]
    },
    {
      "cell_type": "code",
      "metadata": {
        "id": "QBLWh7Kg_trm",
        "colab_type": "code",
        "colab": {}
      },
      "source": [
        "R_cov2 =  np.array(R[break_points[1]:break_points[3]].cov())\n",
        "R_expect2 = R_expect_2\n",
        "one = np.ones((len(R_expect2),1))\n",
        "A2 = np.dot(np.dot(one.reshape(1,-1),inv(R_cov2)),R_expect2)\n",
        "B2 = np.dot(np.dot(R_expect2.reshape(1,-1),inv(R_cov2)),R_expect2)\n",
        "C2 = np.dot(np.dot(one.reshape(1,-1),inv(R_cov2)),one)\n",
        "D2= B2*C2 - A2**2\n",
        "g2 = (B2 * np.dot(inv(R_cov2), one) - A2* np.dot(inv(R_cov2), R_expect2))/D2\n",
        "h2 = (C2 * np.dot(inv(R_cov2), R_expect2) - A2* np.dot(inv(R_cov2), one))/D2\n",
        "min_sigma2 = np.dot(np.dot(g2.reshape(1,-1),R_cov2),g2) - (np.dot(np.dot(h2.reshape(1,-1),R_cov2),g2)**2)/np.dot(np.dot(h2.reshape(1,-1),R_cov2),h2)"
      ],
      "execution_count": 0,
      "outputs": []
    },
    {
      "cell_type": "code",
      "metadata": {
        "id": "tB337XrtAI1L",
        "colab_type": "code",
        "outputId": "8f5945f6-7951-40f4-ff22-be8e3fc7b918",
        "colab": {
          "base_uri": "https://localhost:8080/",
          "height": 33
        }
      },
      "source": [
        "min_sigma2"
      ],
      "execution_count": 16,
      "outputs": [
        {
          "output_type": "execute_result",
          "data": {
            "text/plain": [
              "array([[4.30725326e-05]])"
            ]
          },
          "metadata": {
            "tags": []
          },
          "execution_count": 16
        }
      ]
    },
    {
      "cell_type": "code",
      "metadata": {
        "id": "hXTWZL_GAKrO",
        "colab_type": "code",
        "outputId": "5a7d3436-d825-425a-8860-12da9bb52e8f",
        "colab": {
          "base_uri": "https://localhost:8080/",
          "height": 295
        }
      },
      "source": [
        "#7 years effcientFronter\n",
        "sigma2 = []\n",
        "mu2 = []\n",
        "weight2 = []\n",
        "before_2 = np.inf\n",
        "for i in range(30000,50000):\n",
        "    w = g + h*0.00000001*i\n",
        "    sigma_ = np.sqrt(np.dot(np.dot(w.reshape(1,-1),R_cov),w)[0][0])*np.sqrt(break_points[3]-break_points[1])*100\n",
        "    if sigma_ > before_2:\n",
        "      sigma2.append(sigma_)\n",
        "      weight2.append(w)\n",
        "      mu2.append(((1+0.00000001*i)**365 - 1)*100)\n",
        "    before_2 = sigma_\n",
        "plt.plot(sigma2,mu2)\n",
        "plt.ylabel(\"Expected return\")\n",
        "plt.xlabel(\"volatility\")\n",
        "plt.title(\"7 years effcientFronter\")\n",
        "plt.show()"
      ],
      "execution_count": 17,
      "outputs": [
        {
          "output_type": "display_data",
          "data": {
            "image/png": "[encoded data removed]",
            "text/plain": [
              "<Figure size 432x288 with 1 Axes>"
            ]
          },
          "metadata": {
            "tags": []
          }
        }
      ]
    },
    {
      "cell_type": "code",
      "metadata": {
        "id": "LB6mZvwrCbC1",
        "colab_type": "code",
        "outputId": "003b4b26-8628-4a84-a558-0be5599a071c",
        "colab": {
          "base_uri": "https://localhost:8080/",
          "height": 351
        }
      },
      "source": [
        "weight2[0] # weight for minimum variance(7 years)"
      ],
      "execution_count": 18,
      "outputs": [
        {
          "output_type": "execute_result",
          "data": {
            "text/plain": [
              "array([[-0.00323648],\n",
              "       [-0.06046523],\n",
              "       [ 0.0028622 ],\n",
              "       [ 0.08194963],\n",
              "       [ 0.64421737],\n",
              "       [-0.02723252],\n",
              "       [ 0.17031783],\n",
              "       [ 0.00535578],\n",
              "       [ 0.19397081],\n",
              "       [-0.05416766],\n",
              "       [-0.01334993],\n",
              "       [ 0.00292669],\n",
              "       [ 0.00206613],\n",
              "       [-0.12853912],\n",
              "       [-0.02049677],\n",
              "       [-0.01607688],\n",
              "       [ 0.13499139],\n",
              "       [ 0.02087011],\n",
              "       [ 0.07160568],\n",
              "       [-0.00756903]])"
            ]
          },
          "metadata": {
            "tags": []
          },
          "execution_count": 18
        }
      ]
    },
    {
      "cell_type": "code",
      "metadata": {
        "id": "i4MIZ774Aqef",
        "colab_type": "code",
        "colab": {}
      },
      "source": [
        "R_cov3 =  np.array(R[break_points[0]:break_points[3]].cov())\n",
        "R_expect3 = R_expect_3\n",
        "one = np.ones((len(R_expect3),1))\n",
        "A3 = np.dot(np.dot(one.reshape(1,-1),inv(R_cov3)),R_expect3)\n",
        "B3 = np.dot(np.dot(R_expect3.reshape(1,-1),inv(R_cov3)),R_expect3)\n",
        "C3 = np.dot(np.dot(one.reshape(1,-1),inv(R_cov3)),one)\n",
        "D3= B3*C3 - A3**2\n",
        "g3 = (B3 * np.dot(inv(R_cov3), one) - A3* np.dot(inv(R_cov3), R_expect3))/D3\n",
        "h3 = (C3 * np.dot(inv(R_cov3), R_expect3) - A3* np.dot(inv(R_cov3), one))/D3\n",
        "min_sigma3 = np.dot(np.dot(g3.reshape(1,-1),R_cov3),g3) - (np.dot(np.dot(h3.reshape(1,-1),R_cov3),g3)**2)/np.dot(np.dot(h3.reshape(1,-1),R_cov3),h3)"
      ],
      "execution_count": 0,
      "outputs": []
    },
    {
      "cell_type": "code",
      "metadata": {
        "id": "k9zVkG5sBrvW",
        "colab_type": "code",
        "outputId": "c791e4fd-1a70-4add-a2d8-3b5a03792c9f",
        "colab": {
          "base_uri": "https://localhost:8080/",
          "height": 33
        }
      },
      "source": [
        "min_sigma3"
      ],
      "execution_count": 20,
      "outputs": [
        {
          "output_type": "execute_result",
          "data": {
            "text/plain": [
              "array([[4.80620184e-05]])"
            ]
          },
          "metadata": {
            "tags": []
          },
          "execution_count": 20
        }
      ]
    },
    {
      "cell_type": "code",
      "metadata": {
        "id": "dXnuA4LdBt8b",
        "colab_type": "code",
        "outputId": "2e8a478a-f219-45c7-a5e6-5018d5cfc030",
        "colab": {
          "base_uri": "https://localhost:8080/",
          "height": 295
        }
      },
      "source": [
        "#10 years effcientFronter\n",
        "sigma3 = []\n",
        "mu3 = []\n",
        "weight3 = []\n",
        "before_3 = np.inf\n",
        "for i in range(30000,50000):\n",
        "    w = g + h*0.00000001*i\n",
        "    sigma_ = np.sqrt(np.dot(np.dot(w.reshape(1,-1),R_cov),w)[0][0])*np.sqrt(break_points[3]-break_points[0])*100\n",
        "    if sigma_ > before_3:\n",
        "      sigma3.append(sigma_)\n",
        "      weight3.append(w)\n",
        "      mu3.append(((1+0.00000001*i)**365 - 1)*100)\n",
        "    before_3 = sigma_\n",
        "plt.plot(sigma3,mu3)\n",
        "plt.ylabel(\"Expected return\")\n",
        "plt.xlabel(\"volatility\")\n",
        "plt.title(\"10 years effcientFronter\")\n",
        "plt.show()"
      ],
      "execution_count": 21,
      "outputs": [
        {
          "output_type": "display_data",
          "data": {
            "image/png": "[encoded data removed]",
            "text/plain": [
              "<Figure size 432x288 with 1 Axes>"
            ]
          },
          "metadata": {
            "tags": []
          }
        }
      ]
    },
    {
      "cell_type": "code",
      "metadata": {
        "id": "2eyeqGokCi4n",
        "colab_type": "code",
        "outputId": "268025ac-1dcf-4176-8c0c-480803961040",
        "colab": {
          "base_uri": "https://localhost:8080/",
          "height": 351
        }
      },
      "source": [
        "weight[0] # weight for minimum variance(10 years)"
      ],
      "execution_count": 22,
      "outputs": [
        {
          "output_type": "execute_result",
          "data": {
            "text/plain": [
              "array([[-0.00323648],\n",
              "       [-0.06046523],\n",
              "       [ 0.0028622 ],\n",
              "       [ 0.08194963],\n",
              "       [ 0.64421737],\n",
              "       [-0.02723252],\n",
              "       [ 0.17031783],\n",
              "       [ 0.00535578],\n",
              "       [ 0.19397081],\n",
              "       [-0.05416766],\n",
              "       [-0.01334993],\n",
              "       [ 0.00292669],\n",
              "       [ 0.00206613],\n",
              "       [-0.12853912],\n",
              "       [-0.02049677],\n",
              "       [-0.01607688],\n",
              "       [ 0.13499139],\n",
              "       [ 0.02087011],\n",
              "       [ 0.07160568],\n",
              "       [-0.00756903]])"
            ]
          },
          "metadata": {
            "tags": []
          },
          "execution_count": 22
        }
      ]
    },
    {
      "cell_type": "code",
      "metadata": {
        "id": "9Od4e2oDClES",
        "colab_type": "code",
        "colab": {}
      },
      "source": [
        "R_copy = R.copy()\n",
        "vxx = pd.read_csv('VXX.csv')\n",
        "R_copy['VXX'] = np.array([((vxx['Adj Close'][j]/vxx['Adj Close'][j-1])-1) for j in range(1,len(vxx['Adj Close']))])"
      ],
      "execution_count": 0,
      "outputs": []
    },
    {
      "cell_type": "code",
      "metadata": {
        "id": "uWEJHZwCRqpC",
        "colab_type": "code",
        "colab": {}
      },
      "source": [
        "R_cov4 =  np.array(R_copy[break_points[2]:break_points[3]].cov())\n",
        "R_expect4 = np.array(R_copy[break_points[2]:break_points[3]].mean()).reshape(-1,1)\n",
        "one = np.ones((len(R_expect4),1))\n",
        "A4 = np.dot(np.dot(one.reshape(1,-1),inv(R_cov4)),R_expect4)\n",
        "B4 = np.dot(np.dot(R_expect4.reshape(1,-1),inv(R_cov4)),R_expect4)\n",
        "C4 = np.dot(np.dot(one.reshape(1,-1),inv(R_cov4)),one)\n",
        "D4= B4*C4 - A4**2\n",
        "g4 = (B4 * np.dot(inv(R_cov4), one) - A4* np.dot(inv(R_cov4), R_expect4))/D4\n",
        "h4 = (C4 * np.dot(inv(R_cov4), R_expect4) - A4* np.dot(inv(R_cov4), one))/D4\n",
        "min_sigma4 = np.dot(np.dot(g4.reshape(1,-1),R_cov4),g4) - (np.dot(np.dot(h4.reshape(1,-1),R_cov4),g4)**2)/np.dot(np.dot(h4.reshape(1,-1),R_cov4),h4)"
      ],
      "execution_count": 0,
      "outputs": []
    },
    {
      "cell_type": "code",
      "metadata": {
        "id": "TpykQHtNSRHo",
        "colab_type": "code",
        "colab": {
          "base_uri": "https://localhost:8080/",
          "height": 33
        },
        "outputId": "3b4deeaf-e774-4172-bc42-b1e91b505cac"
      },
      "source": [
        "min_sigma4"
      ],
      "execution_count": 280,
      "outputs": [
        {
          "output_type": "execute_result",
          "data": {
            "text/plain": [
              "array([[1.3633812e-05]])"
            ]
          },
          "metadata": {
            "tags": []
          },
          "execution_count": 280
        }
      ]
    },
    {
      "cell_type": "code",
      "metadata": {
        "id": "twFh1236SXgQ",
        "colab_type": "code",
        "colab": {
          "base_uri": "https://localhost:8080/",
          "height": 295
        },
        "outputId": "c2e57804-bb0c-479f-d006-9c60b723db27"
      },
      "source": [
        "#5 years effcientFronter with VXX\n",
        "sigma_v = []\n",
        "mu_v = []\n",
        "weight_v = []\n",
        "before_v = np.inf\n",
        "for i in range(300,1000):\n",
        "    w = g + h*0.000001*i\n",
        "    sigma_ = np.sqrt(np.dot(np.dot(w.reshape(1,-1),R_cov),w)[0][0])*np.sqrt(break_points[3]-break_points[1])*100\n",
        "    if sigma_ > before_v:\n",
        "      sigma_v.append(sigma_)\n",
        "      weight_v.append(w)\n",
        "      mu_v.append(((1+0.000001*i)**365 - 1)*100)\n",
        "    before_v = sigma_\n",
        "plt.plot(sigma_v,mu_v)\n",
        "plt.ylabel(\"Expected return\")\n",
        "plt.xlabel(\"volatility\")\n",
        "plt.title(\"5 years effcientFronter with VXX\")\n",
        "plt.show()"
      ],
      "execution_count": 281,
      "outputs": [
        {
          "output_type": "display_data",
          "data": {
            "image/png": "[encoded data removed]",
            "text/plain": [
              "<Figure size 432x288 with 1 Axes>"
            ]
          },
          "metadata": {
            "tags": []
          }
        }
      ]
    },
    {
      "cell_type": "code",
      "metadata": {
        "id": "qH-yKZSDWvwZ",
        "colab_type": "code",
        "colab": {}
      },
      "source": [
        "rf = 0.0156 # Choose 5 year US treasury rate as risk free rate\n",
        "def findTangent(sigma, mu, rf):\n",
        "  max_ = 0\n",
        "  index_ = 0\n",
        "  for i in range(0,len(mu)):\n",
        "      k = (mu[i] - rf*100)/sigma[i]\n",
        "      if k > max_:\n",
        "        max_ = k\n",
        "        index_ = i\n",
        "  return max_,index_\n",
        "k,m = findTangent(sigma_v, mu_v, rf)"
      ],
      "execution_count": 0,
      "outputs": []
    },
    {
      "cell_type": "code",
      "metadata": {
        "id": "tFstPZqNacdJ",
        "colab_type": "code",
        "colab": {
          "base_uri": "https://localhost:8080/",
          "height": 295
        },
        "outputId": "cfac7f43-cb43-4597-d9ba-d1ab53f86999"
      },
      "source": [
        "targent_v = [rf*100 + k * sigma_v[i] for i in range(len(sigma_v))]\n",
        "plt.plot(sigma_v,targent_v,label = \"Capital Market Line\")\n",
        "plt.plot(sigma_v,mu_v,label = \"Efficient Froniter\")\n",
        "plt.ylabel(\"Expected return\")\n",
        "plt.xlabel(\"Standard volatility\")\n",
        "plt.title(\"5 years effcientFronter with VXX\")\n",
        "plt.legend()\n",
        "plt.show()\n"
      ],
      "execution_count": 285,
      "outputs": [
        {
          "output_type": "display_data",
          "data": {
            "image/png": "[encoded data removed]",
            "text/plain": [
              "<Figure size 432x288 with 1 Axes>"
            ]
          },
          "metadata": {
            "tags": []
          }
        }
      ]
    },
    {
      "cell_type": "code",
      "metadata": {
        "id": "x9bg67dP1Cih",
        "colab_type": "code",
        "colab": {
          "base_uri": "https://localhost:8080/",
          "height": 351
        },
        "outputId": "05520096-58f0-49c2-d432-8e49af239a5d"
      },
      "source": [
        "weight_ = weight[m]\n",
        "weight_"
      ],
      "execution_count": 286,
      "outputs": [
        {
          "output_type": "execute_result",
          "data": {
            "text/plain": [
              "array([[-0.00274874],\n",
              "       [-0.05759728],\n",
              "       [ 0.00214765],\n",
              "       [ 0.08241112],\n",
              "       [ 0.63764538],\n",
              "       [-0.02749875],\n",
              "       [ 0.16994418],\n",
              "       [ 0.00502653],\n",
              "       [ 0.19536519],\n",
              "       [-0.05428104],\n",
              "       [-0.0127361 ],\n",
              "       [ 0.00298535],\n",
              "       [ 0.00116501],\n",
              "       [-0.12731192],\n",
              "       [-0.02003071],\n",
              "       [-0.01598912],\n",
              "       [ 0.13611645],\n",
              "       [ 0.0207114 ],\n",
              "       [ 0.07123929],\n",
              "       [-0.0065639 ]])"
            ]
          },
          "metadata": {
            "tags": []
          },
          "execution_count": 286
        }
      ]
    }
  ]
}