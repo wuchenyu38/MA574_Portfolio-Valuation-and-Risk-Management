{
  "nbformat": 4,
  "nbformat_minor": 0,
  "metadata": {
    "colab": {
      "name": "Markowitz2.ipynb",
      "provenance": [],
      "collapsed_sections": [],
      "include_colab_link": true
    },
    "kernelspec": {
      "name": "python3",
      "display_name": "Python 3"
    }
  },
  "cells": [
    {
      "cell_type": "markdown",
      "metadata": {
        "id": "view-in-github",
        "colab_type": "text"
      },
      "source": [
        "<a href=\"https://colab.research.google.com/github/wqiu96/MA574_Portfolio-Valuation-and-Risk-Management/blob/master/src/Markowitz2.ipynb\" target=\"_parent\"><img src=\"https://colab.research.google.com/assets/colab-badge.svg\" alt=\"Open In Colab\"/></a>"
      ]
    },
    {
      "cell_type": "code",
      "metadata": {
        "id": "XtjEK3QhNsYc",
        "colab_type": "code",
        "colab": {}
      },
      "source": [
        "import numpy as np\n",
        "import pandas as pd\n",
        "import matplotlib.pyplot as plt\n",
        "from numpy.linalg import *\n",
        "import os"
      ],
      "execution_count": 0,
      "outputs": []
    },
    {
      "cell_type": "code",
      "metadata": {
        "id": "PzGPxFXFWm4s",
        "colab_type": "code",
        "outputId": "dfa73683-9e1b-4953-f9a1-e8252d942ac2",
        "colab": {
          "base_uri": "https://localhost:8080/",
          "height": 134
        }
      },
      "source": [
        "!git clone https://github.com/wqiu96/MA574_Portfolio-Valuation-and-Risk-Management.git"
      ],
      "execution_count": 2,
      "outputs": [
        {
          "output_type": "stream",
          "text": [
            "Cloning into 'MA574_Portfolio-Valuation-and-Risk-Management'...\n",
            "remote: Enumerating objects: 39, done.\u001b[K\n",
            "remote: Counting objects: 100% (39/39), done.\u001b[K\n",
            "remote: Compressing objects: 100% (39/39), done.\u001b[K\n",
            "remote: Total 476 (delta 14), reused 0 (delta 0), pack-reused 437\u001b[K\n",
            "Receiving objects: 100% (476/476), 3.05 MiB | 5.28 MiB/s, done.\n",
            "Resolving deltas: 100% (186/186), done.\n"
          ],
          "name": "stdout"
        }
      ]
    },
    {
      "cell_type": "code",
      "metadata": {
        "id": "ZrnuPYx0XuQm",
        "colab_type": "code",
        "outputId": "5e5d3b92-35b3-4d03-c951-5064fcaf06c3",
        "colab": {
          "base_uri": "https://localhost:8080/",
          "height": 33
        }
      },
      "source": [
        "cd MA574_Portfolio-Valuation-and-Risk-Management/src/project3/"
      ],
      "execution_count": 3,
      "outputs": [
        {
          "output_type": "stream",
          "text": [
            "/content/MA574_Portfolio-Valuation-and-Risk-Management/src/project3\n"
          ],
          "name": "stdout"
        }
      ]
    },
    {
      "cell_type": "code",
      "metadata": {
        "id": "KEbSuzZOXx-7",
        "colab_type": "code",
        "colab": {}
      },
      "source": [
        "#Load data\n",
        "os.chdir('/content/MA574_Portfolio-Valuation-and-Risk-Management/src/project3/')\n",
        "file_chdir = os.getcwd()\n",
        "filecsv_list = []\n",
        "for root,dirs,files in os.walk(file_chdir):\n",
        "  for file in files:\n",
        "    if os.path.splitext(file)[1] == '.csv' and os.path.splitext(file)[0] != 'VXX':\n",
        "      filecsv_list.append(file)\n",
        "R = pd.DataFrame()\n",
        "for csv in filecsv_list:\n",
        "  data = pd.read_csv(csv)\n",
        "  #calculate return\n",
        "  R[csv.strip('.csv')] = np.array([np.log(data['Adj Close'][j]/data['Adj Close'][j-1]) for j in range(1,len(data['Adj Close']))])\n",
        " "
      ],
      "execution_count": 0,
      "outputs": []
    },
    {
      "cell_type": "code",
      "metadata": {
        "id": "H7Yh4z3B8Diu",
        "colab_type": "code",
        "outputId": "397be34e-4a78-4832-ee3b-a156381fbc72",
        "colab": {
          "base_uri": "https://localhost:8080/",
          "height": 351
        }
      },
      "source": [
        "filecsv_list"
      ],
      "execution_count": 5,
      "outputs": [
        {
          "output_type": "execute_result",
          "data": {
            "text/plain": [
              "['JPM(JPMorgan).csv',\n",
              " 'KO(Cola).csv',\n",
              " 'SKX(Skechers).csv',\n",
              " 'GOOG.csv',\n",
              " 'BRK-B(Berkshire Hathaway).csv',\n",
              " 'MAR(Marriot).csv',\n",
              " 'VZ(Verizon Communications).csv',\n",
              " 'FB(Facebook).csv',\n",
              " 'AEP(American Electric Power).csv',\n",
              " 'DIS(disney).csv',\n",
              " 'TEL(TE Connectivity).csv',\n",
              " 'PG(Procter & Gamble).csv',\n",
              " 'WMT(Walmart).csv',\n",
              " 'LULU(Lululemon).csv',\n",
              " 'BABA(Alibaba).csv',\n",
              " 'MCD(McDonald).csv',\n",
              " 'AAPL.csv',\n",
              " 'TM(Toyota).csv',\n",
              " 'BAC(Bank of American).csv',\n",
              " 'AMD.csv']"
            ]
          },
          "metadata": {
            "tags": []
          },
          "execution_count": 5
        }
      ]
    },
    {
      "cell_type": "code",
      "metadata": {
        "id": "JlOAkUlaVSOY",
        "colab_type": "code",
        "colab": {}
      },
      "source": [
        "#Find the break points for every year\n",
        "break_points = []\n",
        "break_points.append(data[data['Date'].isin(['10/18/2016'])].index[0])\n",
        "break_points.append(data[data['Date'].isin(['10/18/2017'])].index[0])\n",
        "break_points.append(data[data['Date'].isin(['10/18/2018'])].index[0])\n",
        "break_points.append(data[data['Date'].isin(['10/18/2019'])].index[0])"
      ],
      "execution_count": 0,
      "outputs": []
    },
    {
      "cell_type": "code",
      "metadata": {
        "id": "mbHWB89QpdoL",
        "colab_type": "code",
        "outputId": "396e8d88-2081-4676-d0d0-ae469a5660cb",
        "colab": {
          "base_uri": "https://localhost:8080/",
          "height": 33
        }
      },
      "source": [
        "break_points"
      ],
      "execution_count": 7,
      "outputs": [
        {
          "output_type": "execute_result",
          "data": {
            "text/plain": [
              "[0, 252, 504, 755]"
            ]
          },
          "metadata": {
            "tags": []
          },
          "execution_count": 7
        }
      ]
    },
    {
      "cell_type": "code",
      "metadata": {
        "id": "oMA7bXF75eBY",
        "colab_type": "code",
        "colab": {}
      },
      "source": [
        "def ghm(R_expect,R_cov):\n",
        "  one = np.ones((len(R_expect),1))\n",
        "  A = np.dot(np.dot(one.reshape(1,-1),inv(R_cov)),R_expect)\n",
        "  B = np.dot(np.dot(R_expect.reshape(1,-1),inv(R_cov)),R_expect)\n",
        "  C = np.dot(np.dot(one.reshape(1,-1),inv(R_cov)),one)\n",
        "  D = B*C - A**2\n",
        "  g = (B * np.dot(inv(R_cov), one) - A* np.dot(inv(R_cov), R_expect))/D\n",
        "  h = (C * np.dot(inv(R_cov), R_expect) - A* np.dot(inv(R_cov), one))/D\n",
        "  min_sigma = np.dot(np.dot(g.reshape(1,-1),R_cov),g) - (np.dot(np.dot(h.reshape(1,-1),R_cov),g)**2)/np.dot(np.dot(h.reshape(1,-1),R_cov),h)\n",
        "  return g,h,min_sigma"
      ],
      "execution_count": 0,
      "outputs": []
    },
    {
      "cell_type": "code",
      "metadata": {
        "id": "vO3typylTR3q",
        "colab_type": "code",
        "colab": {}
      },
      "source": [
        "def effcientfrontier(g,h,R_cov,N1,N2):\n",
        "  sigma = []\n",
        "  mu = []\n",
        "  weight = []\n",
        "  before_ = np.inf\n",
        "  for i in range(N1,N2):\n",
        "      w = g + h*0.00000001*i\n",
        "      sigma_ = 250*np.dot(np.dot(w.reshape(1,-1),R_cov),w)[0][0]\n",
        "      if sigma_ > before_:\n",
        "        sigma.append(np.sqrt((np.exp(sigma_)-1)*np.exp(2*0.00000001*i*250 + sigma_))*100)\n",
        "        weight.append(w)\n",
        "        mu.append((np.exp(0.00000001*i*250 + sigma_/2)-1)*100)\n",
        "      before_ = sigma_\n",
        "  return sigma,mu,weight"
      ],
      "execution_count": 0,
      "outputs": []
    },
    {
      "cell_type": "code",
      "metadata": {
        "id": "EtOv7RHn6Wpr",
        "colab_type": "code",
        "outputId": "a4498e5a-ffee-4c19-9972-fd5e2ad040b7",
        "colab": {
          "base_uri": "https://localhost:8080/",
          "height": 295
        }
      },
      "source": [
        "#1 years effcientFronter\n",
        "R_cov =  np.array(R[break_points[2]:break_points[3]].cov())\n",
        "R_expect = np.array(R[break_points[2]:break_points[3]].mean()).reshape(-1,1)\n",
        "g1,h1,min_sigma1 = ghm(R_expect,R_cov)\n",
        "sigma1,mu1,weight1 = effcientfrontier(g1,h1,R_cov,2000,100000)\n",
        "plt.plot(sigma1,mu1)\n",
        "plt.ylabel(\"Expected return\")\n",
        "plt.xlabel(\"volatility\")\n",
        "plt.title(\"1 years effcientFronter\")\n",
        "plt.show()"
      ],
      "execution_count": 10,
      "outputs": [
        {
          "output_type": "display_data",
          "data": {
            "image/png": "[encoded data removed]",
            "text/plain": [
              "<Figure size 432x288 with 1 Axes>"
            ]
          },
          "metadata": {
            "tags": []
          }
        }
      ]
    },
    {
      "cell_type": "code",
      "metadata": {
        "id": "lBDtVHVSCO0V",
        "colab_type": "code",
        "outputId": "13276707-d6f5-4e72-a0cd-4cef4a573f06",
        "colab": {
          "base_uri": "https://localhost:8080/",
          "height": 351
        }
      },
      "source": [
        "weight1[0] # weight for minimum variance(1 years)"
      ],
      "execution_count": 11,
      "outputs": [
        {
          "output_type": "execute_result",
          "data": {
            "text/plain": [
              "array([[ 0.03392494],\n",
              "       [ 0.03781209],\n",
              "       [-0.00278641],\n",
              "       [ 0.01547922],\n",
              "       [ 0.05458261],\n",
              "       [ 0.08122668],\n",
              "       [ 0.05566174],\n",
              "       [ 0.0040041 ],\n",
              "       [ 0.33534499],\n",
              "       [-0.03928113],\n",
              "       [ 0.02055698],\n",
              "       [-0.00734129],\n",
              "       [ 0.02582371],\n",
              "       [ 0.03603572],\n",
              "       [ 0.02441439],\n",
              "       [ 0.14562982],\n",
              "       [-0.07782384],\n",
              "       [ 0.28985834],\n",
              "       [ 0.0145087 ],\n",
              "       [-0.04763136]])"
            ]
          },
          "metadata": {
            "tags": []
          },
          "execution_count": 11
        }
      ]
    },
    {
      "cell_type": "code",
      "metadata": {
        "id": "hXTWZL_GAKrO",
        "colab_type": "code",
        "outputId": "46f32f0a-2931-4b62-cb08-6d8dbe0d960f",
        "colab": {
          "base_uri": "https://localhost:8080/",
          "height": 295
        }
      },
      "source": [
        "#2 years effcientFronter\n",
        "R_cov2 =  np.array(R[break_points[1]:break_points[3]].cov())\n",
        "R_expect2 = np.array(R[break_points[1]:break_points[3]].mean()).reshape(-1,1)\n",
        "g2,h2,min_sigma2 = ghm(R_expect2,R_cov2)\n",
        "sigma2,mu2,weight2 = effcientfrontier(g2,h2,R_cov2,2000,100000)\n",
        "plt.plot(sigma2,mu2)\n",
        "plt.ylabel(\"Expected return\")\n",
        "plt.xlabel(\"volatility\")\n",
        "plt.title(\"2 years effcientFronter\")\n",
        "plt.show()"
      ],
      "execution_count": 12,
      "outputs": [
        {
          "output_type": "display_data",
          "data": {
            "image/png": "[encoded data removed]",
            "text/plain": [
              "<Figure size 432x288 with 1 Axes>"
            ]
          },
          "metadata": {
            "tags": []
          }
        }
      ]
    },
    {
      "cell_type": "code",
      "metadata": {
        "id": "LB6mZvwrCbC1",
        "colab_type": "code",
        "outputId": "f739b7d9-9f3c-47d0-bb09-31a72fd9893a",
        "colab": {
          "base_uri": "https://localhost:8080/",
          "height": 351
        }
      },
      "source": [
        "weight2[0] # weight for minimum variance(7 years)"
      ],
      "execution_count": 13,
      "outputs": [
        {
          "output_type": "execute_result",
          "data": {
            "text/plain": [
              "array([[ 0.04263899],\n",
              "       [ 0.11291927],\n",
              "       [-0.00400992],\n",
              "       [-0.03990323],\n",
              "       [-0.06597292],\n",
              "       [ 0.0756634 ],\n",
              "       [ 0.0496923 ],\n",
              "       [ 0.01815905],\n",
              "       [ 0.35041376],\n",
              "       [ 0.02585746],\n",
              "       [ 0.0334025 ],\n",
              "       [ 0.00835447],\n",
              "       [ 0.00279022],\n",
              "       [ 0.03983696],\n",
              "       [ 0.00373382],\n",
              "       [ 0.11844693],\n",
              "       [-0.01404113],\n",
              "       [ 0.22795886],\n",
              "       [ 0.04236483],\n",
              "       [-0.02830564]])"
            ]
          },
          "metadata": {
            "tags": []
          },
          "execution_count": 13
        }
      ]
    },
    {
      "cell_type": "code",
      "metadata": {
        "id": "dXnuA4LdBt8b",
        "colab_type": "code",
        "outputId": "909e26f0-39ce-482d-fc90-ccf9c22df16a",
        "colab": {
          "base_uri": "https://localhost:8080/",
          "height": 295
        }
      },
      "source": [
        "#3 years effcientFronter\n",
        "R_cov3 =  np.array(R[break_points[0]:break_points[3]].cov())\n",
        "R_expect3 = np.array(R[break_points[0]:break_points[3]].mean()).reshape(-1,1)\n",
        "g3,h3,min_sigma3 = ghm(R_expect3,R_cov3)\n",
        "sigma3,mu3,weight3 = effcientfrontier(g3,h3,R_cov3,2000,100000)\n",
        "plt.plot(sigma3,mu3)\n",
        "plt.ylabel(\"Expected return\")\n",
        "plt.xlabel(\"volatility\")\n",
        "plt.title(\"3 years effcientFronter\")\n",
        "plt.show()"
      ],
      "execution_count": 39,
      "outputs": [
        {
          "output_type": "display_data",
          "data": {
            "image/png": "[encoded data removed]",
            "text/plain": [
              "<Figure size 432x288 with 1 Axes>"
            ]
          },
          "metadata": {
            "tags": []
          }
        }
      ]
    },
    {
      "cell_type": "code",
      "metadata": {
        "id": "2eyeqGokCi4n",
        "colab_type": "code",
        "outputId": "3becdfb2-24b9-4e8d-b85e-d2e09616fb6f",
        "colab": {
          "base_uri": "https://localhost:8080/",
          "height": 351
        }
      },
      "source": [
        "weight3[0] # weight for minimum variance(10 years)"
      ],
      "execution_count": 40,
      "outputs": [
        {
          "output_type": "execute_result",
          "data": {
            "text/plain": [
              "array([[ 9.24170840e-02],\n",
              "       [ 1.24171925e-01],\n",
              "       [-2.38407065e-04],\n",
              "       [-3.18246079e-02],\n",
              "       [-5.19196700e-02],\n",
              "       [ 4.50667741e-02],\n",
              "       [ 3.82113248e-02],\n",
              "       [ 1.48363652e-02],\n",
              "       [ 3.01793642e-01],\n",
              "       [ 4.33380257e-02],\n",
              "       [ 1.58491961e-02],\n",
              "       [ 3.18832710e-02],\n",
              "       [ 3.10770446e-02],\n",
              "       [ 2.17293294e-02],\n",
              "       [ 1.44020071e-02],\n",
              "       [ 1.27078784e-01],\n",
              "       [-5.02563395e-03],\n",
              "       [ 1.77138982e-01],\n",
              "       [ 2.82128601e-02],\n",
              "       [-1.81982962e-02]])"
            ]
          },
          "metadata": {
            "tags": []
          },
          "execution_count": 40
        }
      ]
    },
    {
      "cell_type": "code",
      "metadata": {
        "id": "9Od4e2oDClES",
        "colab_type": "code",
        "colab": {}
      },
      "source": [
        "R_copy = R.copy()\n",
        "vxx = pd.read_csv('VXX.csv')\n",
        "R_copy['VXX'] = np.array([((vxx['Adj Close'][j]/vxx['Adj Close'][j-1])-1) for j in range(1,len(vxx['Adj Close']))])"
      ],
      "execution_count": 0,
      "outputs": []
    },
    {
      "cell_type": "code",
      "metadata": {
        "id": "twFh1236SXgQ",
        "colab_type": "code",
        "outputId": "ef0b4cdb-3207-45c4-85de-25ac0a8c3d4c",
        "colab": {
          "base_uri": "https://localhost:8080/",
          "height": 295
        }
      },
      "source": [
        "#3 years effcientFronter with VXX\n",
        "R_cov4 =  np.array(R_copy[break_points[0]:break_points[3]].cov())\n",
        "R_expect4 = np.array(R_copy[break_points[0]:break_points[3]].mean()).reshape(-1,1)\n",
        "g4,h4,min_sigma4 = ghm(R_expect4,R_cov4)\n",
        "sigma_v,mu_v,weight_v = effcientfrontier(g4,h4,R_cov4,2000,150000)\n",
        "plt.plot(sigma_v,mu_v)\n",
        "plt.ylabel(\"Expected return\")\n",
        "plt.xlabel(\"volatility\")\n",
        "plt.title(\"3 years effcientFronter with VXX\")\n",
        "plt.show()"
      ],
      "execution_count": 97,
      "outputs": [
        {
          "output_type": "display_data",
          "data": {
            "image/png": "[encoded data removed]",
            "text/plain": [
              "<Figure size 432x288 with 1 Axes>"
            ]
          },
          "metadata": {
            "tags": []
          }
        }
      ]
    },
    {
      "cell_type": "code",
      "metadata": {
        "id": "qH-yKZSDWvwZ",
        "colab_type": "code",
        "colab": {}
      },
      "source": [
        "rf = 0.0156 # Choose 5 year US treasury rate as risk free rate\n",
        "def findTangent(R_cov, R_expect, rf):\n",
        "  rf_daily = (1 + rf)**(1/250) - 1\n",
        "  one = np.ones((len(R_expect),1))\n",
        "  w_b = np.dot(inv(R_cov),(R_expect - rf_daily*one))\n",
        "  w_t = w_b/(np.dot(one.T,w_b))\n",
        "  mu_T = np.dot(w_t.T,R_expect)\n",
        "  mu_p = np.dot(w_b.T,R_expect) + (1 - np.dot(w_b.T,one))*rf_daily\n",
        "  cp = (mu_p - rf_daily)/(np.dot(np.dot((R_expect - rf_daily*one).T,inv(R_cov)),(R_expect - rf_daily*one)))\n",
        "  w_mp = cp * w_b\n",
        "\n",
        "  return mu_T,w_t,w_b,w_mp\n",
        "mu_T,w_t,w_b,w_mp = findTangent(R_cov4, R_expect4, rf)\n"
      ],
      "execution_count": 0,
      "outputs": []
    },
    {
      "cell_type": "code",
      "metadata": {
        "id": "CNZLFJ2tXDHz",
        "colab_type": "code",
        "colab": {
          "base_uri": "https://localhost:8080/",
          "height": 33
        },
        "outputId": "a8aed816-715f-45d4-c4d2-3a885b0e2a4b"
      },
      "source": [
        "sigma_T = np.dot(np.dot(w_t.T,R_cov4),w_t)[0][0]\n",
        "sigma_annual = np.sqrt((np.exp(sigma_T)-1)*np.exp(2*mu_T*250 + sigma_T))*100\n",
        "mu_T"
      ],
      "execution_count": 81,
      "outputs": [
        {
          "output_type": "execute_result",
          "data": {
            "text/plain": [
              "array([[0.00098829]])"
            ]
          },
          "metadata": {
            "tags": []
          },
          "execution_count": 81
        }
      ]
    },
    {
      "cell_type": "code",
      "metadata": {
        "id": "mshTIBDljj2Z",
        "colab_type": "code",
        "outputId": "f67ef92e-f662-400d-977d-24944d9b3631",
        "colab": {
          "base_uri": "https://localhost:8080/",
          "height": 33
        }
      },
      "source": [
        "sigma_T = np.dot(np.dot(w_t.T,R_cov4),w_t)[0][0]\n",
        "mu_annual = (np.exp(mu_T*250 + sigma_T/2)-1)*100\n",
        "sigma_annual = np.sqrt((np.exp(sigma_T)-1)*np.exp(2*mu_T*250 + sigma_T))*100\n",
        "k = (mu_annual - rf*100)/sigma_annual\n",
        "print(k[0][0])"
      ],
      "execution_count": 90,
      "outputs": [
        {
          "output_type": "stream",
          "text": [
            "34.00383845510551\n"
          ],
          "name": "stdout"
        }
      ]
    },
    {
      "cell_type": "code",
      "metadata": {
        "id": "Fva3Z0u0Jj_M",
        "colab_type": "code",
        "colab": {
          "base_uri": "https://localhost:8080/",
          "height": 33
        },
        "outputId": "bf7e17f2-1f21-4e13-e1c6-2eba49111516"
      },
      "source": [
        "temp = 0\n",
        "m = 0\n",
        "for i in range(len(sigma_v)):\n",
        "  k_t = (mu_v[i] - 1.56)/sigma_v[i]\n",
        "  if k_t > temp:\n",
        "    temp = k_t\n",
        "    m = i\n",
        "temp\n",
        "len(sigma_v)\n"
      ],
      "execution_count": 91,
      "outputs": [
        {
          "output_type": "execute_result",
          "data": {
            "text/plain": [
              "109233"
            ]
          },
          "metadata": {
            "tags": []
          },
          "execution_count": 91
        }
      ]
    },
    {
      "cell_type": "code",
      "metadata": {
        "id": "tFstPZqNacdJ",
        "colab_type": "code",
        "outputId": "5dcd0f67-b2b1-4fcb-c284-19a4a7cdb5d8",
        "colab": {
          "base_uri": "https://localhost:8080/",
          "height": 295
        }
      },
      "source": [
        "sigma_x = np.linspace(6,23,1000).reshape(-1,1)\n",
        "targent_v = (temp * sigma_x + rf*100).reshape(-1,1)\n",
        "plt.plot(sigma_x,targent_v,label = \"Capital Market Line\")\n",
        "plt.plot(sigma_v,mu_v,label = \"Efficient Froniter\")\n",
        "plt.ylabel(\"Expected return\")\n",
        "plt.xlabel(\"Standard volatility\")\n",
        "plt.title(\"3 years effcientFronter with VXX\")\n",
        "plt.legend()\n",
        "plt.show()\n"
      ],
      "execution_count": 96,
      "outputs": [
        {
          "output_type": "display_data",
          "data": {
            "image/png": "[encoded data removed]",
            "text/plain": [
              "<Figure size 432x288 with 1 Axes>"
            ]
          },
          "metadata": {
            "tags": []
          }
        }
      ]
    },
    {
      "cell_type": "code",
      "metadata": {
        "id": "x9bg67dP1Cih",
        "colab_type": "code",
        "colab": {
          "base_uri": "https://localhost:8080/",
          "height": 368
        },
        "outputId": "c6c6cb6a-b757-44df-8159-386559e9456e"
      },
      "source": [
        "weight_v[0]\n"
      ],
      "execution_count": 47,
      "outputs": [
        {
          "output_type": "execute_result",
          "data": {
            "text/plain": [
              "array([[0.07520312],\n",
              "       [0.08412917],\n",
              "       [0.00699141],\n",
              "       [0.02735949],\n",
              "       [0.02064283],\n",
              "       [0.05262005],\n",
              "       [0.04121598],\n",
              "       [0.02296149],\n",
              "       [0.15800531],\n",
              "       [0.03100399],\n",
              "       [0.04769037],\n",
              "       [0.01654527],\n",
              "       [0.01478674],\n",
              "       [0.02811847],\n",
              "       [0.02608866],\n",
              "       [0.09583404],\n",
              "       [0.01181695],\n",
              "       [0.08084558],\n",
              "       [0.03146649],\n",
              "       [0.0027505 ],\n",
              "       [0.12392407]])"
            ]
          },
          "metadata": {
            "tags": []
          },
          "execution_count": 47
        }
      ]
    },
    {
      "cell_type": "code",
      "metadata": {
        "id": "2boQs70wJWw_",
        "colab_type": "code",
        "colab": {
          "base_uri": "https://localhost:8080/",
          "height": 33
        },
        "outputId": "7c673a5b-f67a-4b9b-9511-f66a53152d47"
      },
      "source": [
        "sum(np.abs(weight_v[0]))/sum(weight_v[0])"
      ],
      "execution_count": 48,
      "outputs": [
        {
          "output_type": "execute_result",
          "data": {
            "text/plain": [
              "array([1.])"
            ]
          },
          "metadata": {
            "tags": []
          },
          "execution_count": 48
        }
      ]
    }
  ]
}