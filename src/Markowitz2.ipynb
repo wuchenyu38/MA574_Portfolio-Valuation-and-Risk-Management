{
  "nbformat": 4,
  "nbformat_minor": 0,
  "metadata": {
    "colab": {
      "name": "Markowitz2.ipynb",
      "provenance": [],
      "collapsed_sections": [],
      "include_colab_link": true
    },
    "kernelspec": {
      "name": "python3",
      "display_name": "Python 3"
    }
  },
  "cells": [
    {
      "cell_type": "markdown",
      "metadata": {
        "id": "view-in-github",
        "colab_type": "text"
      },
      "source": [
        "<a href=\"https://colab.research.google.com/github/wqiu96/MA574_Portfolio-Valuation-and-Risk-Management/blob/master/src/Markowitz2.ipynb\" target=\"_parent\"><img src=\"https://colab.research.google.com/assets/colab-badge.svg\" alt=\"Open In Colab\"/></a>"
      ]
    },
    {
      "cell_type": "code",
      "metadata": {
        "id": "XtjEK3QhNsYc",
        "colab_type": "code",
        "colab": {}
      },
      "source": [
        "import numpy as np\n",
        "import pandas as pd\n",
        "import matplotlib.pyplot as plt\n",
        "from numpy.linalg import *\n",
        "import os"
      ],
      "execution_count": 0,
      "outputs": []
    },
    {
      "cell_type": "code",
      "metadata": {
        "id": "PzGPxFXFWm4s",
        "colab_type": "code",
        "outputId": "3db38287-ee86-4fa4-c580-67480ef15390",
        "colab": {
          "base_uri": "https://localhost:8080/",
          "height": 134
        }
      },
      "source": [
        "!git clone https://github.com/wqiu96/MA574_Portfolio-Valuation-and-Risk-Management.git"
      ],
      "execution_count": 2,
      "outputs": [
        {
          "output_type": "stream",
          "text": [
            "Cloning into 'MA574_Portfolio-Valuation-and-Risk-Management'...\n",
            "remote: Enumerating objects: 31, done.\u001b[K\n",
            "remote: Counting objects: 100% (31/31), done.\u001b[K\n",
            "remote: Compressing objects: 100% (31/31), done.\u001b[K\n",
            "remote: Total 158 (delta 7), reused 0 (delta 0), pack-reused 127\u001b[K\n",
            "Receiving objects: 100% (158/158), 1.98 MiB | 2.25 MiB/s, done.\n",
            "Resolving deltas: 100% (36/36), done.\n"
          ],
          "name": "stdout"
        }
      ]
    },
    {
      "cell_type": "code",
      "metadata": {
        "id": "ZrnuPYx0XuQm",
        "colab_type": "code",
        "outputId": "ade62298-7391-4ae4-abc5-5f511478a79a",
        "colab": {
          "base_uri": "https://localhost:8080/",
          "height": 33
        }
      },
      "source": [
        "cd MA574_Portfolio-Valuation-and-Risk-Management/src/project3/"
      ],
      "execution_count": 3,
      "outputs": [
        {
          "output_type": "stream",
          "text": [
            "/content/MA574_Portfolio-Valuation-and-Risk-Management/src/project3\n"
          ],
          "name": "stdout"
        }
      ]
    },
    {
      "cell_type": "code",
      "metadata": {
        "id": "KEbSuzZOXx-7",
        "colab_type": "code",
        "colab": {}
      },
      "source": [
        "#Load data\n",
        "os.chdir('/content/MA574_Portfolio-Valuation-and-Risk-Management/src/project3/')\n",
        "file_chdir = os.getcwd()\n",
        "filecsv_list = []\n",
        "for root,dirs,files in os.walk(file_chdir):\n",
        "  for file in files:\n",
        "    if os.path.splitext(file)[1] == '.csv' and os.path.splitext(file)[0] != 'VXX':\n",
        "      filecsv_list.append(file)\n",
        "R = pd.DataFrame()\n",
        "for csv in filecsv_list:\n",
        "  data = pd.read_csv(csv)\n",
        "  #calculate return\n",
        "  R[csv.strip('.csv')] = np.array([np.log(data['Adj Close'][j]/data['Adj Close'][j-1]) for j in range(1,len(data['Adj Close']))])\n",
        " "
      ],
      "execution_count": 0,
      "outputs": []
    },
    {
      "cell_type": "code",
      "metadata": {
        "id": "JlOAkUlaVSOY",
        "colab_type": "code",
        "colab": {}
      },
      "source": [
        "#Find the break points for every year\n",
        "break_points = []\n",
        "break_points.append(0)\n",
        "break_points.append(data[data['Date'].isin(['2012-10-18'])].index[0])\n",
        "break_points.append(data[data['Date'].isin(['2014-10-17'])].index[0])\n",
        "break_points.append(data[data['Date'].isin(['2019-10-18'])].index[0])"
      ],
      "execution_count": 0,
      "outputs": []
    },
    {
      "cell_type": "code",
      "metadata": {
        "id": "mbHWB89QpdoL",
        "colab_type": "code",
        "outputId": "e501273d-0c0c-4589-f7e8-a27bba36f8fa",
        "colab": {
          "base_uri": "https://localhost:8080/",
          "height": 33
        }
      },
      "source": [
        "break_points"
      ],
      "execution_count": 6,
      "outputs": [
        {
          "output_type": "execute_result",
          "data": {
            "text/plain": [
              "[0, 757, 1258, 2517]"
            ]
          },
          "metadata": {
            "tags": []
          },
          "execution_count": 6
        }
      ]
    },
    {
      "cell_type": "code",
      "metadata": {
        "id": "kJyZLuodgCkz",
        "colab_type": "code",
        "colab": {}
      },
      "source": [
        "#Expected returns \n",
        "R_expect_1 = np.array(R[break_points[2]:break_points[3]].mean()).reshape(-1,1)\n",
        "R_expect_2 = np.array(R[break_points[1]:break_points[3]].mean()).reshape(-1,1)\n",
        "R_expect_3 = np.array(R[break_points[0]:break_points[3]].mean()).reshape(-1,1)"
      ],
      "execution_count": 0,
      "outputs": []
    },
    {
      "cell_type": "code",
      "metadata": {
        "id": "oMA7bXF75eBY",
        "colab_type": "code",
        "colab": {}
      },
      "source": [
        "R_cov =  np.array(R[break_points[2]:break_points[3]].cov())\n",
        "R_expect = R_expect_1\n",
        "one = np.ones((len(R_expect),1))\n",
        "A = np.dot(np.dot(one.reshape(1,-1),inv(R_cov)),R_expect)\n",
        "B = np.dot(np.dot(R_expect.reshape(1,-1),inv(R_cov)),R_expect)\n",
        "C = np.dot(np.dot(one.reshape(1,-1),inv(R_cov)),one)\n",
        "D = B*C - A**2\n",
        "g = (B * np.dot(inv(R_cov), one) - A* np.dot(inv(R_cov), R_expect))/D\n",
        "h = (C * np.dot(inv(R_cov), R_expect) - A* np.dot(inv(R_cov), one))/D\n",
        "min_sigma = np.dot(np.dot(g.reshape(1,-1),R_cov),g) - (np.dot(np.dot(h.reshape(1,-1),R_cov),g)**2)/np.dot(np.dot(h.reshape(1,-1),R_cov),h)"
      ],
      "execution_count": 0,
      "outputs": []
    },
    {
      "cell_type": "code",
      "metadata": {
        "id": "wUDTnwUg6MLt",
        "colab_type": "code",
        "outputId": "485fad5d-928c-49b8-e109-cf3c63d2caf8",
        "colab": {
          "base_uri": "https://localhost:8080/",
          "height": 33
        }
      },
      "source": [
        "min_sigma"
      ],
      "execution_count": 9,
      "outputs": [
        {
          "output_type": "execute_result",
          "data": {
            "text/plain": [
              "array([[4.41546999e-05]])"
            ]
          },
          "metadata": {
            "tags": []
          },
          "execution_count": 9
        }
      ]
    },
    {
      "cell_type": "code",
      "metadata": {
        "id": "vO3typylTR3q",
        "colab_type": "code",
        "colab": {}
      },
      "source": [
        "def effcientfrontier(g,h,R_cov,N1,N2):\n",
        "  sigma = []\n",
        "  mu = []\n",
        "  weight = []\n",
        "  before_ = np.inf\n",
        "  for i in range(N1,N2):\n",
        "      w = g + h*0.00000001*i\n",
        "      sigma_ = 365*np.dot(np.dot(w.reshape(1,-1),R_cov),w)[0][0]\n",
        "      if sigma_ > before_:\n",
        "        sigma.append(np.sqrt((np.exp(sigma_)-1)*np.exp(2*0.00000001*i*365 + sigma_))*100)\n",
        "        weight.append(w)\n",
        "        mu.append((np.exp(0.00000001*i*365 + sigma_/2)-1)*100)\n",
        "      before_ = sigma_\n",
        "  return sigma,mu,weight"
      ],
      "execution_count": 0,
      "outputs": []
    },
    {
      "cell_type": "code",
      "metadata": {
        "id": "EtOv7RHn6Wpr",
        "colab_type": "code",
        "outputId": "0b373c89-042d-4b85-fa63-d5013a6617e5",
        "colab": {
          "base_uri": "https://localhost:8080/",
          "height": 295
        }
      },
      "source": [
        "#5 years effcientFronter\n",
        "sigma1,mu1,weight1 = effcientfrontier(g,h,R_cov,2000,100000)\n",
        "plt.plot(sigma1,mu1)\n",
        "plt.ylabel(\"Expected return\")\n",
        "plt.xlabel(\"volatility\")\n",
        "plt.title(\"5 years effcientFronter\")\n",
        "plt.show()"
      ],
      "execution_count": 11,
      "outputs": [
        {
          "output_type": "display_data",
          "data": {
            "image/png": "[encoded data removed]",
            "text/plain": [
              "<Figure size 432x288 with 1 Axes>"
            ]
          },
          "metadata": {
            "tags": []
          }
        }
      ]
    },
    {
      "cell_type": "code",
      "metadata": {
        "id": "lBDtVHVSCO0V",
        "colab_type": "code",
        "outputId": "13ff7cb5-8d21-49b0-b8b9-ca5fe2202bdc",
        "colab": {
          "base_uri": "https://localhost:8080/",
          "height": 351
        }
      },
      "source": [
        "weight1[0] # weight for minimum variance(5 years)"
      ],
      "execution_count": 14,
      "outputs": [
        {
          "output_type": "execute_result",
          "data": {
            "text/plain": [
              "array([[-0.12855934],\n",
              "       [ 0.6480573 ],\n",
              "       [-0.00943156],\n",
              "       [-0.05970273],\n",
              "       [-0.02773605],\n",
              "       [-0.01347019],\n",
              "       [-0.00276016],\n",
              "       [-0.05464878],\n",
              "       [ 0.07152214],\n",
              "       [ 0.00443045],\n",
              "       [ 0.01864847],\n",
              "       [ 0.16789202],\n",
              "       [ 0.13717967],\n",
              "       [-0.01504378],\n",
              "       [ 0.00143201],\n",
              "       [ 0.19283443],\n",
              "       [ 0.00402328],\n",
              "       [ 0.00505374],\n",
              "       [ 0.08146231],\n",
              "       [-0.02118324]])"
            ]
          },
          "metadata": {
            "tags": []
          },
          "execution_count": 14
        }
      ]
    },
    {
      "cell_type": "code",
      "metadata": {
        "id": "QBLWh7Kg_trm",
        "colab_type": "code",
        "colab": {}
      },
      "source": [
        "R_cov2 =  np.array(R[break_points[1]:break_points[3]].cov())\n",
        "R_expect2 = R_expect_2\n",
        "one = np.ones((len(R_expect2),1))\n",
        "A2 = np.dot(np.dot(one.reshape(1,-1),inv(R_cov2)),R_expect2)\n",
        "B2 = np.dot(np.dot(R_expect2.reshape(1,-1),inv(R_cov2)),R_expect2)\n",
        "C2 = np.dot(np.dot(one.reshape(1,-1),inv(R_cov2)),one)\n",
        "D2= B2*C2 - A2**2\n",
        "g2 = (B2 * np.dot(inv(R_cov2), one) - A2* np.dot(inv(R_cov2), R_expect2))/D2\n",
        "h2 = (C2 * np.dot(inv(R_cov2), R_expect2) - A2* np.dot(inv(R_cov2), one))/D2\n",
        "min_sigma2 = np.dot(np.dot(g2.reshape(1,-1),R_cov2),g2) - (np.dot(np.dot(h2.reshape(1,-1),R_cov2),g2)**2)/np.dot(np.dot(h2.reshape(1,-1),R_cov2),h2)"
      ],
      "execution_count": 0,
      "outputs": []
    },
    {
      "cell_type": "code",
      "metadata": {
        "id": "tB337XrtAI1L",
        "colab_type": "code",
        "outputId": "5d681ff1-c1d1-429a-e832-7b34f4f65d86",
        "colab": {
          "base_uri": "https://localhost:8080/",
          "height": 33
        }
      },
      "source": [
        "min_sigma2"
      ],
      "execution_count": 16,
      "outputs": [
        {
          "output_type": "execute_result",
          "data": {
            "text/plain": [
              "array([[4.31818385e-05]])"
            ]
          },
          "metadata": {
            "tags": []
          },
          "execution_count": 16
        }
      ]
    },
    {
      "cell_type": "code",
      "metadata": {
        "id": "hXTWZL_GAKrO",
        "colab_type": "code",
        "outputId": "f48a26ef-80f1-48da-eed9-259ef546d041",
        "colab": {
          "base_uri": "https://localhost:8080/",
          "height": 295
        }
      },
      "source": [
        "#7 years effcientFronter\n",
        "sigma2,mu2,weight2 = effcientfrontier(g2,h2,R_cov2,2000,100000)\n",
        "plt.plot(sigma2,mu2)\n",
        "plt.ylabel(\"Expected return\")\n",
        "plt.xlabel(\"volatility\")\n",
        "plt.title(\"7 years effcientFronter\")\n",
        "plt.show()"
      ],
      "execution_count": 17,
      "outputs": [
        {
          "output_type": "display_data",
          "data": {
            "image/png": "[encoded data removed]",
            "text/plain": [
              "<Figure size 432x288 with 1 Axes>"
            ]
          },
          "metadata": {
            "tags": []
          }
        }
      ]
    },
    {
      "cell_type": "code",
      "metadata": {
        "id": "LB6mZvwrCbC1",
        "colab_type": "code",
        "outputId": "64bd3bb4-cb27-4602-ca09-caef60d5f9dc",
        "colab": {
          "base_uri": "https://localhost:8080/",
          "height": 351
        }
      },
      "source": [
        "weight2[0] # weight for minimum variance(7 years)"
      ],
      "execution_count": 23,
      "outputs": [
        {
          "output_type": "execute_result",
          "data": {
            "text/plain": [
              "array([[-6.93179186e-02],\n",
              "       [ 5.99811434e-01],\n",
              "       [-2.53621100e-02],\n",
              "       [-4.42244119e-02],\n",
              "       [-1.90540571e-02],\n",
              "       [ 3.95497992e-03],\n",
              "       [-2.19866885e-02],\n",
              "       [-5.10201433e-02],\n",
              "       [ 4.29760306e-02],\n",
              "       [-5.03605716e-03],\n",
              "       [-4.21657729e-04],\n",
              "       [ 1.48832736e-01],\n",
              "       [ 1.70466763e-01],\n",
              "       [-1.26938179e-02],\n",
              "       [ 1.53035944e-02],\n",
              "       [ 1.81950424e-01],\n",
              "       [ 1.85801466e-03],\n",
              "       [ 8.07425152e-03],\n",
              "       [ 9.34071825e-02],\n",
              "       [-1.75185472e-02]])"
            ]
          },
          "metadata": {
            "tags": []
          },
          "execution_count": 23
        }
      ]
    },
    {
      "cell_type": "code",
      "metadata": {
        "id": "i4MIZ774Aqef",
        "colab_type": "code",
        "colab": {}
      },
      "source": [
        "R_cov3 =  np.array(R[break_points[0]:break_points[3]].cov())\n",
        "R_expect3 = R_expect_3\n",
        "one = np.ones((len(R_expect3),1))\n",
        "A3 = np.dot(np.dot(one.reshape(1,-1),inv(R_cov3)),R_expect3)\n",
        "B3 = np.dot(np.dot(R_expect3.reshape(1,-1),inv(R_cov3)),R_expect3)\n",
        "C3 = np.dot(np.dot(one.reshape(1,-1),inv(R_cov3)),one)\n",
        "D3= B3*C3 - A3**2\n",
        "g3 = (B3 * np.dot(inv(R_cov3), one) - A3* np.dot(inv(R_cov3), R_expect3))/D3\n",
        "h3 = (C3 * np.dot(inv(R_cov3), R_expect3) - A3* np.dot(inv(R_cov3), one))/D3\n",
        "min_sigma3 = np.dot(np.dot(g3.reshape(1,-1),R_cov3),g3) - (np.dot(np.dot(h3.reshape(1,-1),R_cov3),g3)**2)/np.dot(np.dot(h3.reshape(1,-1),R_cov3),h3)"
      ],
      "execution_count": 0,
      "outputs": []
    },
    {
      "cell_type": "code",
      "metadata": {
        "id": "k9zVkG5sBrvW",
        "colab_type": "code",
        "colab": {}
      },
      "source": [
        "min_sigma3"
      ],
      "execution_count": 0,
      "outputs": []
    },
    {
      "cell_type": "code",
      "metadata": {
        "id": "dXnuA4LdBt8b",
        "colab_type": "code",
        "outputId": "1583c3ae-6ba4-4785-b769-5ff2808071b6",
        "colab": {
          "base_uri": "https://localhost:8080/",
          "height": 295
        }
      },
      "source": [
        "#10 years effcientFronter\n",
        "sigma3,mu3,weight3 = effcientfrontier(g3,h3,R_cov3,2000,100000)\n",
        "plt.plot(sigma3,mu3)\n",
        "plt.ylabel(\"Expected return\")\n",
        "plt.xlabel(\"volatility\")\n",
        "plt.title(\"10 years effcientFronter\")\n",
        "plt.show()"
      ],
      "execution_count": 21,
      "outputs": [
        {
          "output_type": "display_data",
          "data": {
            "image/png": "[encoded data removed]",
            "text/plain": [
              "<Figure size 432x288 with 1 Axes>"
            ]
          },
          "metadata": {
            "tags": []
          }
        }
      ]
    },
    {
      "cell_type": "code",
      "metadata": {
        "id": "2eyeqGokCi4n",
        "colab_type": "code",
        "outputId": "92683b6c-f921-496e-f451-88ff1701b2c8",
        "colab": {
          "base_uri": "https://localhost:8080/",
          "height": 351
        }
      },
      "source": [
        "weight3[0] # weight for minimum variance(10 years)"
      ],
      "execution_count": 24,
      "outputs": [
        {
          "output_type": "execute_result",
          "data": {
            "text/plain": [
              "array([[-0.03568623],\n",
              "       [ 0.51409865],\n",
              "       [-0.01345146],\n",
              "       [-0.01580097],\n",
              "       [-0.01100529],\n",
              "       [ 0.0197078 ],\n",
              "       [-0.06916411],\n",
              "       [-0.09160228],\n",
              "       [ 0.0787964 ],\n",
              "       [ 0.00340358],\n",
              "       [-0.05779174],\n",
              "       [ 0.17890328],\n",
              "       [ 0.22115403],\n",
              "       [-0.00411727],\n",
              "       [ 0.01630456],\n",
              "       [ 0.15656648],\n",
              "       [-0.01145968],\n",
              "       [-0.01207851],\n",
              "       [ 0.15402707],\n",
              "       [-0.02080432]])"
            ]
          },
          "metadata": {
            "tags": []
          },
          "execution_count": 24
        }
      ]
    },
    {
      "cell_type": "code",
      "metadata": {
        "id": "9Od4e2oDClES",
        "colab_type": "code",
        "colab": {}
      },
      "source": [
        "R_copy = R.copy()\n",
        "vxx = pd.read_csv('VXX.csv')\n",
        "R_copy['VXX'] = np.array([((vxx['Adj Close'][j]/vxx['Adj Close'][j-1])-1) for j in range(1,len(vxx['Adj Close']))])"
      ],
      "execution_count": 0,
      "outputs": []
    },
    {
      "cell_type": "code",
      "metadata": {
        "id": "uWEJHZwCRqpC",
        "colab_type": "code",
        "colab": {}
      },
      "source": [
        "R_cov4 =  np.array(R_copy[break_points[2]:break_points[3]].cov())\n",
        "R_expect4 = np.array(R_copy[break_points[2]:break_points[3]].mean()).reshape(-1,1)\n",
        "one = np.ones((len(R_expect4),1))\n",
        "A4 = np.dot(np.dot(one.reshape(1,-1),inv(R_cov4)),R_expect4)\n",
        "B4 = np.dot(np.dot(R_expect4.reshape(1,-1),inv(R_cov4)),R_expect4)\n",
        "C4 = np.dot(np.dot(one.reshape(1,-1),inv(R_cov4)),one)\n",
        "D4= B4*C4 - A4**2\n",
        "g4 = (B4 * np.dot(inv(R_cov4), one) - A4* np.dot(inv(R_cov4), R_expect4))/D4\n",
        "h4 = (C4 * np.dot(inv(R_cov4), R_expect4) - A4* np.dot(inv(R_cov4), one))/D4\n",
        "min_sigma4 = np.dot(np.dot(g4.reshape(1,-1),R_cov4),g4) - (np.dot(np.dot(h4.reshape(1,-1),R_cov4),g4)**2)/np.dot(np.dot(h4.reshape(1,-1),R_cov4),h4)"
      ],
      "execution_count": 0,
      "outputs": []
    },
    {
      "cell_type": "code",
      "metadata": {
        "id": "TpykQHtNSRHo",
        "colab_type": "code",
        "outputId": "82f3597c-5961-4f49-e718-738e2ac47047",
        "colab": {
          "base_uri": "https://localhost:8080/",
          "height": 33
        }
      },
      "source": [
        "min_sigma4"
      ],
      "execution_count": 27,
      "outputs": [
        {
          "output_type": "execute_result",
          "data": {
            "text/plain": [
              "array([[1.35645621e-05]])"
            ]
          },
          "metadata": {
            "tags": []
          },
          "execution_count": 27
        }
      ]
    },
    {
      "cell_type": "code",
      "metadata": {
        "id": "twFh1236SXgQ",
        "colab_type": "code",
        "outputId": "a51bffb9-3642-4f4e-a1a7-de2ae3ebfbd4",
        "colab": {
          "base_uri": "https://localhost:8080/",
          "height": 295
        }
      },
      "source": [
        "#5 years effcientFronter with VXX\n",
        "sigma_v,mu_v,weight_v = effcientfrontier(g4,h4,R_cov4,2000,100000)\n",
        "plt.plot(sigma_v,mu_v)\n",
        "plt.ylabel(\"Expected return\")\n",
        "plt.xlabel(\"volatility\")\n",
        "plt.title(\"5 years effcientFronter with VXX\")\n",
        "plt.show()"
      ],
      "execution_count": 28,
      "outputs": [
        {
          "output_type": "display_data",
          "data": {
            "image/png": "[encoded data removed]",
            "text/plain": [
              "<Figure size 432x288 with 1 Axes>"
            ]
          },
          "metadata": {
            "tags": []
          }
        }
      ]
    },
    {
      "cell_type": "code",
      "metadata": {
        "id": "qH-yKZSDWvwZ",
        "colab_type": "code",
        "colab": {}
      },
      "source": [
        "rf = 0.0156 # Choose 5 year US treasury rate as risk free rate\n",
        "def findTangent(R_cov, R_expect, rf):\n",
        "  one = np.ones((len(R_expect),1))\n",
        "  w_b = np.dot(inv(R_cov),(R_expect - rf*one))\n",
        "  w_t = w_b/(np.dot(one.T,w_b))\n",
        "  mu_T = np.dot(w_t.T,R_expect)\n",
        "  mu_p = np.dot(w_b.T,R_expect) + (1 - np.dot(w_b.T,one))*rf\n",
        "  cp = (mu_p - rf)/(np.dot(np.dot((R_expect - rf*one).T,inv(R_cov)),(R_expect - rf*one)))\n",
        "  w_mp = cp * w_b\n",
        "\n",
        "  return mu_T,w_t,w_b,w_mp\n",
        "mu_T,w_t,w_b,w_mp = findTangent(R_cov4, R_expect4, rf)\n"
      ],
      "execution_count": 0,
      "outputs": []
    },
    {
      "cell_type": "code",
      "metadata": {
        "id": "mshTIBDljj2Z",
        "colab_type": "code",
        "outputId": "772bbe6a-6a50-4d0b-c7a8-b44f5f7f11f5",
        "colab": {
          "base_uri": "https://localhost:8080/",
          "height": 33
        }
      },
      "source": [
        "sigma_T = np.dot(np.dot(w_t.reshape(1,-1),R_cov4),w_t)[0][0]\n",
        "mu_annual = (np.exp(mu_T*365 + sigma_T/2)-1)*100\n",
        "sigma_annual = np.sqrt((np.exp(sigma_T)-1)*np.exp(2*mu_T*365 + sigma_T))*100\n",
        "k = (mu_annual - rf*100)/sigma_annual\n",
        "print(k[0][0])"
      ],
      "execution_count": 31,
      "outputs": [
        {
          "output_type": "stream",
          "text": [
            "4.745841556150005\n"
          ],
          "name": "stdout"
        }
      ]
    },
    {
      "cell_type": "code",
      "metadata": {
        "id": "lwVy8gBCl1aa",
        "colab_type": "code",
        "colab": {
          "base_uri": "https://localhost:8080/",
          "height": 33
        },
        "outputId": "4862361e-8926-4f24-a09f-e78d8bedafc7"
      },
      "source": [
        "sigma_x = np.linspace(7,19,1000).reshape(-1,1)\n",
        "targent_v =  k * sigma_x + rf*100\n",
        "type(sigma_x)"
      ],
      "execution_count": 45,
      "outputs": [
        {
          "output_type": "execute_result",
          "data": {
            "text/plain": [
              "numpy.ndarray"
            ]
          },
          "metadata": {
            "tags": []
          },
          "execution_count": 45
        }
      ]
    },
    {
      "cell_type": "code",
      "metadata": {
        "id": "tFstPZqNacdJ",
        "colab_type": "code",
        "outputId": "e4b1922b-2180-4f70-a3e2-f6b18136c9c4",
        "colab": {
          "base_uri": "https://localhost:8080/",
          "height": 295
        }
      },
      "source": [
        "sigma_x = np.linspace(7,19,1000).reshape(-1,1)\n",
        "targent_v = (k * sigma_x + rf*100).reshape(-1,1)\n",
        "plt.plot(sigma_x,targent_v,label = \"Capital Market Line\")\n",
        "plt.plot(sigma_v,mu_v,label = \"Efficient Froniter\")\n",
        "plt.ylabel(\"Expected return\")\n",
        "plt.xlabel(\"Standard volatility\")\n",
        "plt.title(\"5 years effcientFronter with VXX\")\n",
        "plt.legend()\n",
        "plt.show()\n"
      ],
      "execution_count": 46,
      "outputs": [
        {
          "output_type": "display_data",
          "data": {
            "image/png": "[encoded data removed]",
            "text/plain": [
              "<Figure size 432x288 with 1 Axes>"
            ]
          },
          "metadata": {
            "tags": []
          }
        }
      ]
    },
    {
      "cell_type": "code",
      "metadata": {
        "id": "x9bg67dP1Cih",
        "colab_type": "code",
        "colab": {}
      },
      "source": [
        "weight_ = weight[m]\n",
        "weight_"
      ],
      "execution_count": 0,
      "outputs": []
    }
  ]
}